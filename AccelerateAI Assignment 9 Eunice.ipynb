{
 "cells": [
  {
   "cell_type": "markdown",
   "id": "f5cd9941",
   "metadata": {},
   "source": [
    "# AccelerateAI\n",
    "Data Science Global Bootcamp\n",
    "Assignment 09"
   ]
  },
  {
   "cell_type": "markdown",
   "id": "b8a003e7",
   "metadata": {},
   "source": [
    "# Q1. Decision Tree Classification – Credit Data\n",
    "Consider the dataset in 01_credit_data.csv file with the following:\n",
    "• A1 - A15 = Attributes\n",
    "• T - Target (positive or negative credit)\n",
    "Split the data into train and test (75% - 25%) and train a decision tree using sklearn’s\n",
    "DecisionTreeClassifier() with 2 different methods:\n",
    "1) ID3 (criterion = 'entropy')\n",
    "2) CART (criterion = 'gini')\n",
    "Find the accuracy on test data for the 2 different methods. Why do you think they are\n",
    "so?"
   ]
  },
  {
   "cell_type": "code",
   "execution_count": 19,
   "id": "8e5b9c80",
   "metadata": {},
   "outputs": [],
   "source": [
    "import numpy as np\n",
    "import pandas as pd\n",
    "\n",
    "from sklearn.tree import DecisionTreeClassifier\n",
    "from sklearn.tree import plot_tree\n",
    "import matplotlib.pyplot as plt\n",
    "\n",
    "from sklearn.metrics import accuracy_score,confusion_matrix\n",
    "from sklearn.model_selection import train_test_split"
   ]
  },
  {
   "cell_type": "code",
   "execution_count": 5,
   "id": "5236a9fb",
   "metadata": {},
   "outputs": [
    {
     "data": {
      "text/html": [
       "<div>\n",
       "<style scoped>\n",
       "    .dataframe tbody tr th:only-of-type {\n",
       "        vertical-align: middle;\n",
       "    }\n",
       "\n",
       "    .dataframe tbody tr th {\n",
       "        vertical-align: top;\n",
       "    }\n",
       "\n",
       "    .dataframe thead th {\n",
       "        text-align: right;\n",
       "    }\n",
       "</style>\n",
       "<table border=\"1\" class=\"dataframe\">\n",
       "  <thead>\n",
       "    <tr style=\"text-align: right;\">\n",
       "      <th></th>\n",
       "      <th>A1</th>\n",
       "      <th>A2</th>\n",
       "      <th>A3</th>\n",
       "      <th>A4</th>\n",
       "      <th>A5</th>\n",
       "      <th>A6</th>\n",
       "      <th>A7</th>\n",
       "      <th>A8</th>\n",
       "      <th>A9</th>\n",
       "      <th>A10</th>\n",
       "      <th>A11</th>\n",
       "      <th>A12</th>\n",
       "      <th>A13</th>\n",
       "      <th>A14</th>\n",
       "      <th>A15</th>\n",
       "      <th>T</th>\n",
       "    </tr>\n",
       "  </thead>\n",
       "  <tbody>\n",
       "    <tr>\n",
       "      <th>0</th>\n",
       "      <td>b</td>\n",
       "      <td>30.83</td>\n",
       "      <td>0.000</td>\n",
       "      <td>u</td>\n",
       "      <td>g</td>\n",
       "      <td>w</td>\n",
       "      <td>v</td>\n",
       "      <td>1.25</td>\n",
       "      <td>t</td>\n",
       "      <td>t</td>\n",
       "      <td>1</td>\n",
       "      <td>f</td>\n",
       "      <td>g</td>\n",
       "      <td>202</td>\n",
       "      <td>0</td>\n",
       "      <td>+</td>\n",
       "    </tr>\n",
       "    <tr>\n",
       "      <th>1</th>\n",
       "      <td>a</td>\n",
       "      <td>58.67</td>\n",
       "      <td>4.460</td>\n",
       "      <td>u</td>\n",
       "      <td>g</td>\n",
       "      <td>q</td>\n",
       "      <td>h</td>\n",
       "      <td>3.04</td>\n",
       "      <td>t</td>\n",
       "      <td>t</td>\n",
       "      <td>6</td>\n",
       "      <td>f</td>\n",
       "      <td>g</td>\n",
       "      <td>43</td>\n",
       "      <td>560</td>\n",
       "      <td>+</td>\n",
       "    </tr>\n",
       "    <tr>\n",
       "      <th>2</th>\n",
       "      <td>a</td>\n",
       "      <td>24.5</td>\n",
       "      <td>0.500</td>\n",
       "      <td>u</td>\n",
       "      <td>g</td>\n",
       "      <td>q</td>\n",
       "      <td>h</td>\n",
       "      <td>1.50</td>\n",
       "      <td>t</td>\n",
       "      <td>f</td>\n",
       "      <td>0</td>\n",
       "      <td>f</td>\n",
       "      <td>g</td>\n",
       "      <td>280</td>\n",
       "      <td>824</td>\n",
       "      <td>+</td>\n",
       "    </tr>\n",
       "    <tr>\n",
       "      <th>3</th>\n",
       "      <td>b</td>\n",
       "      <td>27.83</td>\n",
       "      <td>1.540</td>\n",
       "      <td>u</td>\n",
       "      <td>g</td>\n",
       "      <td>w</td>\n",
       "      <td>v</td>\n",
       "      <td>3.75</td>\n",
       "      <td>t</td>\n",
       "      <td>t</td>\n",
       "      <td>5</td>\n",
       "      <td>t</td>\n",
       "      <td>g</td>\n",
       "      <td>100</td>\n",
       "      <td>3</td>\n",
       "      <td>+</td>\n",
       "    </tr>\n",
       "    <tr>\n",
       "      <th>4</th>\n",
       "      <td>b</td>\n",
       "      <td>20.17</td>\n",
       "      <td>5.625</td>\n",
       "      <td>u</td>\n",
       "      <td>g</td>\n",
       "      <td>w</td>\n",
       "      <td>v</td>\n",
       "      <td>1.71</td>\n",
       "      <td>t</td>\n",
       "      <td>f</td>\n",
       "      <td>0</td>\n",
       "      <td>f</td>\n",
       "      <td>s</td>\n",
       "      <td>120</td>\n",
       "      <td>0</td>\n",
       "      <td>+</td>\n",
       "    </tr>\n",
       "  </tbody>\n",
       "</table>\n",
       "</div>"
      ],
      "text/plain": [
       "  A1     A2     A3 A4 A5 A6 A7    A8 A9 A10  A11 A12 A13  A14  A15  T\n",
       "0  b  30.83  0.000  u  g  w  v  1.25  t   t    1   f   g  202    0  +\n",
       "1  a  58.67  4.460  u  g  q  h  3.04  t   t    6   f   g   43  560  +\n",
       "2  a   24.5  0.500  u  g  q  h  1.50  t   f    0   f   g  280  824  +\n",
       "3  b  27.83  1.540  u  g  w  v  3.75  t   t    5   t   g  100    3  +\n",
       "4  b  20.17  5.625  u  g  w  v  1.71  t   f    0   f   s  120    0  +"
      ]
     },
     "execution_count": 5,
     "metadata": {},
     "output_type": "execute_result"
    }
   ],
   "source": [
    "Credit_df = pd.read_csv(\"01_credit_data.csv\")\n",
    "Credit_df.head()"
   ]
  },
  {
   "cell_type": "code",
   "execution_count": 9,
   "id": "72713f29",
   "metadata": {},
   "outputs": [
    {
     "name": "stdout",
     "output_type": "stream",
     "text": [
      "<class 'pandas.core.frame.DataFrame'>\n",
      "RangeIndex: 690 entries, 0 to 689\n",
      "Data columns (total 16 columns):\n",
      " #   Column  Non-Null Count  Dtype  \n",
      "---  ------  --------------  -----  \n",
      " 0   A1      690 non-null    object \n",
      " 1   A2      690 non-null    object \n",
      " 2   A3      690 non-null    float64\n",
      " 3   A4      690 non-null    object \n",
      " 4   A5      690 non-null    object \n",
      " 5   A6      690 non-null    object \n",
      " 6   A7      690 non-null    object \n",
      " 7   A8      690 non-null    float64\n",
      " 8   A9      690 non-null    object \n",
      " 9   A10     690 non-null    object \n",
      " 10  A11     690 non-null    int64  \n",
      " 11  A12     690 non-null    object \n",
      " 12  A13     690 non-null    object \n",
      " 13  A14     690 non-null    object \n",
      " 14  A15     690 non-null    int64  \n",
      " 15  T       690 non-null    object \n",
      "dtypes: float64(2), int64(2), object(12)\n",
      "memory usage: 86.4+ KB\n"
     ]
    }
   ],
   "source": [
    "Credit_df.info()"
   ]
  },
  {
   "cell_type": "code",
   "execution_count": 7,
   "id": "9dcb2b87",
   "metadata": {},
   "outputs": [],
   "source": [
    "X = pd.get_dummies(Credit_df.drop(\"T\", axis=1), drop_first=True)\n",
    "y = Credit_df[\"T\"]"
   ]
  },
  {
   "cell_type": "code",
   "execution_count": 8,
   "id": "1fd41d81",
   "metadata": {},
   "outputs": [
    {
     "data": {
      "text/plain": [
       "-    383\n",
       "+    307\n",
       "Name: T, dtype: int64"
      ]
     },
     "execution_count": 8,
     "metadata": {},
     "output_type": "execute_result"
    }
   ],
   "source": [
    "y.value_counts()"
   ]
  },
  {
   "cell_type": "code",
   "execution_count": 11,
   "id": "c411d12c",
   "metadata": {},
   "outputs": [],
   "source": [
    "#split the data 75/25%\n",
    "x_train,x_test,y_train,y_test = train_test_split(X,y,random_state=0,train_size=0.75)"
   ]
  },
  {
   "cell_type": "code",
   "execution_count": 14,
   "id": "c42e5629",
   "metadata": {},
   "outputs": [
    {
     "data": {
      "text/plain": [
       "(517, 559)"
      ]
     },
     "execution_count": 14,
     "metadata": {},
     "output_type": "execute_result"
    }
   ],
   "source": [
    "x_train.shape"
   ]
  },
  {
   "cell_type": "code",
   "execution_count": 15,
   "id": "eda1ee33",
   "metadata": {},
   "outputs": [
    {
     "data": {
      "text/plain": [
       "(173, 559)"
      ]
     },
     "execution_count": 15,
     "metadata": {},
     "output_type": "execute_result"
    }
   ],
   "source": [
    "x_test.shape"
   ]
  },
  {
   "cell_type": "code",
   "execution_count": 16,
   "id": "eb14e266",
   "metadata": {},
   "outputs": [
    {
     "data": {
      "text/plain": [
       "(173,)"
      ]
     },
     "execution_count": 16,
     "metadata": {},
     "output_type": "execute_result"
    }
   ],
   "source": [
    "y_test.shape"
   ]
  },
  {
   "cell_type": "code",
   "execution_count": 17,
   "id": "9b3009bc",
   "metadata": {},
   "outputs": [
    {
     "data": {
      "text/plain": [
       "DecisionTreeClassifier()"
      ]
     },
     "execution_count": 17,
     "metadata": {},
     "output_type": "execute_result"
    }
   ],
   "source": [
    "# CART Model for classification\n",
    "model_cart = DecisionTreeClassifier(criterion='gini')\n",
    "model_cart.fit(x_train,y_train)\n",
    "\n"
   ]
  },
  {
   "cell_type": "code",
   "execution_count": 20,
   "id": "a45845ac",
   "metadata": {},
   "outputs": [
    {
     "name": "stdout",
     "output_type": "stream",
     "text": [
      "Train score: 1.0\n",
      "Test  score: 0.8323699421965318\n"
     ]
    }
   ],
   "source": [
    "\n",
    "y_train_pred = model_cart.predict(x_train)\n",
    "y_test_pred = model_cart.predict(x_test) \n",
    "\n",
    "print(f'Train score: {accuracy_score(y_train_pred,y_train)}')\n",
    "print(f'Test  score: {accuracy_score(y_test_pred,y_test)}')"
   ]
  },
  {
   "cell_type": "code",
   "execution_count": 25,
   "id": "e4f72605",
   "metadata": {},
   "outputs": [],
   "source": [
    "# ID3\n",
    "modele_id3 =DecisionTreeClassifier(criterion='entropy')\n",
    "modele_id3 = modele_id3.fit(x_train,y_train)"
   ]
  },
  {
   "cell_type": "code",
   "execution_count": 23,
   "id": "2a425f23",
   "metadata": {},
   "outputs": [
    {
     "name": "stdout",
     "output_type": "stream",
     "text": [
      "Train score: 1.0\n",
      "Test  score: 0.8092485549132948\n"
     ]
    }
   ],
   "source": [
    "y_train_pred = modele_id3.predict(x_train)\n",
    "y_test_pred = modele_id3.predict(x_test) \n",
    "\n",
    "print(f'Train score: {accuracy_score(y_train_pred,y_train)}')\n",
    "print(f'Test  score: {accuracy_score(y_test_pred,y_test)}')"
   ]
  },
  {
   "cell_type": "code",
   "execution_count": null,
   "id": "e6c3bd14",
   "metadata": {},
   "outputs": [],
   "source": [
    "# Find the accuracy on test data for the 2 different methods. Why do you think they are\n",
    "so?"
   ]
  },
  {
   "cell_type": "markdown",
   "id": "826d38a5",
   "metadata": {},
   "source": [
    "# Question 2\n",
    "\n",
    "## Decision Tree Regression – MBA Starting Salary\n",
    "\n",
    "The average starting salary of MBA graduates in US is provided in the file 02_MBA_Starting_Salary.xlsx.Use the attributes below to predict the Avg Starting salary:\n",
    "- Type\n",
    "- Enrollment\n",
    "- Avg GMAT\n",
    "- Resident Tuition, Fees\n",
    "- Pct International\n",
    "- Pct Female\n",
    "- Pct Asian American\n",
    "- Pct Minority\n",
    "- Pct with job offers\n",
    "\n",
    "1) Train a Decision tree by dropping the rows with missing values\n",
    "\n",
    "2) Impute the missing values in each column using KNN imputer, and then train a model\n",
    "\n",
    "3) Compare the score of both the above models. Use 5-fold CV score in both cases, with same model hyper-parameters (depth, etc)"
   ]
  },
  {
   "cell_type": "code",
   "execution_count": 2,
   "id": "7c4bdb64",
   "metadata": {},
   "outputs": [],
   "source": [
    "import numpy as np\n",
    "import pandas as pd\n",
    "\n",
    "from sklearn.datasets import load_diabetes\n",
    "\n",
    "from sklearn.model_selection import cross_val_score, train_test_split\n",
    "from sklearn.tree import DecisionTreeRegressor, plot_tree, export_text\n",
    "from sklearn.datasets import fetch_california_housing\n",
    "#from cubist import Cubist\n",
    "\n",
    "import matplotlib.pyplot as plt"
   ]
  },
  {
   "cell_type": "code",
   "execution_count": 11,
   "id": "d7666736",
   "metadata": {},
   "outputs": [
    {
     "name": "stdout",
     "output_type": "stream",
     "text": [
      "<class 'pandas.core.frame.DataFrame'>\n",
      "RangeIndex: 70 entries, 0 to 69\n",
      "Data columns (total 13 columns):\n",
      " #   Column                          Non-Null Count  Dtype  \n",
      "---  ------                          --------------  -----  \n",
      " 0   Fulltime Business Week Ranking  70 non-null     object \n",
      " 1   School Name                     70 non-null     object \n",
      " 2   State                           70 non-null     object \n",
      " 3   Type                            70 non-null     object \n",
      " 4   Enrollment                      70 non-null     int64  \n",
      " 5   Avg GMAT                        67 non-null     float64\n",
      " 6   Resident Tuition, Fees          68 non-null     float64\n",
      " 7   Pct International               68 non-null     float64\n",
      " 8   Pct Female                      68 non-null     float64\n",
      " 9   Pct Asian American              63 non-null     float64\n",
      " 10  Pct Minority                    66 non-null     float64\n",
      " 11  Pct with job offers             67 non-null     float64\n",
      " 12  Avg starting base salary        67 non-null     float64\n",
      "dtypes: float64(8), int64(1), object(4)\n",
      "memory usage: 7.2+ KB\n"
     ]
    }
   ],
   "source": [
    "df_MBA = pd.read_excel(\"02_MBA_Starting_Salary.xlsx\",sheet_name=1) #sheet_name=1\n",
    "df_MBA.info()"
   ]
  },
  {
   "cell_type": "code",
   "execution_count": 7,
   "id": "2fa5d5d1",
   "metadata": {},
   "outputs": [
    {
     "data": {
      "text/html": [
       "<div>\n",
       "<style scoped>\n",
       "    .dataframe tbody tr th:only-of-type {\n",
       "        vertical-align: middle;\n",
       "    }\n",
       "\n",
       "    .dataframe tbody tr th {\n",
       "        vertical-align: top;\n",
       "    }\n",
       "\n",
       "    .dataframe thead th {\n",
       "        text-align: right;\n",
       "    }\n",
       "</style>\n",
       "<table border=\"1\" class=\"dataframe\">\n",
       "  <thead>\n",
       "    <tr style=\"text-align: right;\">\n",
       "      <th></th>\n",
       "      <th>Fulltime Business Week Ranking</th>\n",
       "      <th>School Name</th>\n",
       "      <th>State</th>\n",
       "      <th>Type</th>\n",
       "      <th>Enrollment</th>\n",
       "      <th>Avg GMAT</th>\n",
       "      <th>Resident Tuition, Fees</th>\n",
       "      <th>Pct International</th>\n",
       "      <th>Pct Female</th>\n",
       "      <th>Pct Asian American</th>\n",
       "      <th>Pct Minority</th>\n",
       "      <th>Pct with job offers</th>\n",
       "      <th>Avg starting base salary</th>\n",
       "    </tr>\n",
       "  </thead>\n",
       "  <tbody>\n",
       "    <tr>\n",
       "      <th>0</th>\n",
       "      <td>1</td>\n",
       "      <td>University of Chicago</td>\n",
       "      <td>Illinois</td>\n",
       "      <td>Private</td>\n",
       "      <td>1144</td>\n",
       "      <td>713.0</td>\n",
       "      <td>97165.0</td>\n",
       "      <td>35.0</td>\n",
       "      <td>35.0</td>\n",
       "      <td>16.0</td>\n",
       "      <td>7.0</td>\n",
       "      <td>92.0</td>\n",
       "      <td>107091.0</td>\n",
       "    </tr>\n",
       "    <tr>\n",
       "      <th>1</th>\n",
       "      <td>2</td>\n",
       "      <td>Harvard University</td>\n",
       "      <td>Massachusetts</td>\n",
       "      <td>Private</td>\n",
       "      <td>1801</td>\n",
       "      <td>720.0</td>\n",
       "      <td>101660.0</td>\n",
       "      <td>33.0</td>\n",
       "      <td>38.0</td>\n",
       "      <td>NaN</td>\n",
       "      <td>NaN</td>\n",
       "      <td>94.0</td>\n",
       "      <td>124378.0</td>\n",
       "    </tr>\n",
       "    <tr>\n",
       "      <th>2</th>\n",
       "      <td>3</td>\n",
       "      <td>Northwestern University</td>\n",
       "      <td>Illinois</td>\n",
       "      <td>Private</td>\n",
       "      <td>1200</td>\n",
       "      <td>711.0</td>\n",
       "      <td>93918.0</td>\n",
       "      <td>34.0</td>\n",
       "      <td>36.0</td>\n",
       "      <td>25.0</td>\n",
       "      <td>13.0</td>\n",
       "      <td>95.0</td>\n",
       "      <td>108064.0</td>\n",
       "    </tr>\n",
       "    <tr>\n",
       "      <th>3</th>\n",
       "      <td>4</td>\n",
       "      <td>University of Pennsylvania</td>\n",
       "      <td>Pennsylvania</td>\n",
       "      <td>Private</td>\n",
       "      <td>1651</td>\n",
       "      <td>714.0</td>\n",
       "      <td>104410.0</td>\n",
       "      <td>44.0</td>\n",
       "      <td>36.0</td>\n",
       "      <td>7.8</td>\n",
       "      <td>9.0</td>\n",
       "      <td>89.0</td>\n",
       "      <td>112186.0</td>\n",
       "    </tr>\n",
       "    <tr>\n",
       "      <th>4</th>\n",
       "      <td>5</td>\n",
       "      <td>University of Michigan</td>\n",
       "      <td>Michigan</td>\n",
       "      <td>Public</td>\n",
       "      <td>898</td>\n",
       "      <td>706.0</td>\n",
       "      <td>80879.0</td>\n",
       "      <td>27.0</td>\n",
       "      <td>34.0</td>\n",
       "      <td>21.0</td>\n",
       "      <td>13.0</td>\n",
       "      <td>89.0</td>\n",
       "      <td>103608.0</td>\n",
       "    </tr>\n",
       "  </tbody>\n",
       "</table>\n",
       "</div>"
      ],
      "text/plain": [
       "  Fulltime Business Week Ranking                 School Name          State  \\\n",
       "0                              1       University of Chicago       Illinois   \n",
       "1                              2          Harvard University  Massachusetts   \n",
       "2                              3     Northwestern University       Illinois   \n",
       "3                              4  University of Pennsylvania   Pennsylvania   \n",
       "4                              5      University of Michigan       Michigan   \n",
       "\n",
       "      Type  Enrollment  Avg GMAT  Resident Tuition, Fees  Pct International  \\\n",
       "0  Private        1144     713.0                 97165.0               35.0   \n",
       "1  Private        1801     720.0                101660.0               33.0   \n",
       "2  Private        1200     711.0                 93918.0               34.0   \n",
       "3  Private        1651     714.0                104410.0               44.0   \n",
       "4   Public         898     706.0                 80879.0               27.0   \n",
       "\n",
       "   Pct Female  Pct Asian American  Pct Minority  Pct with job offers  \\\n",
       "0        35.0                16.0           7.0                 92.0   \n",
       "1        38.0                 NaN           NaN                 94.0   \n",
       "2        36.0                25.0          13.0                 95.0   \n",
       "3        36.0                 7.8           9.0                 89.0   \n",
       "4        34.0                21.0          13.0                 89.0   \n",
       "\n",
       "   Avg starting base salary  \n",
       "0                  107091.0  \n",
       "1                  124378.0  \n",
       "2                  108064.0  \n",
       "3                  112186.0  \n",
       "4                  103608.0  "
      ]
     },
     "execution_count": 7,
     "metadata": {},
     "output_type": "execute_result"
    }
   ],
   "source": [
    "df_MBA.head(5)"
   ]
  },
  {
   "cell_type": "code",
   "execution_count": 12,
   "id": "83cd7cb4",
   "metadata": {},
   "outputs": [
    {
     "name": "stdout",
     "output_type": "stream",
     "text": [
      "<class 'pandas.core.frame.DataFrame'>\n",
      "Int64Index: 60 entries, 0 to 69\n",
      "Data columns (total 13 columns):\n",
      " #   Column                          Non-Null Count  Dtype  \n",
      "---  ------                          --------------  -----  \n",
      " 0   Fulltime Business Week Ranking  60 non-null     object \n",
      " 1   School Name                     60 non-null     object \n",
      " 2   State                           60 non-null     object \n",
      " 3   Type                            60 non-null     object \n",
      " 4   Enrollment                      60 non-null     int64  \n",
      " 5   Avg GMAT                        60 non-null     float64\n",
      " 6   Resident Tuition, Fees          60 non-null     float64\n",
      " 7   Pct International               60 non-null     float64\n",
      " 8   Pct Female                      60 non-null     float64\n",
      " 9   Pct Asian American              60 non-null     float64\n",
      " 10  Pct Minority                    60 non-null     float64\n",
      " 11  Pct with job offers             60 non-null     float64\n",
      " 12  Avg starting base salary        60 non-null     float64\n",
      "dtypes: float64(8), int64(1), object(4)\n",
      "memory usage: 6.6+ KB\n"
     ]
    }
   ],
   "source": [
    "#dropping rows which have at least a missing value\n",
    "new_df_MBA= df_MBA.dropna(axis=0,how='any')\n",
    "new_df_MBA.info()"
   ]
  },
  {
   "cell_type": "code",
   "execution_count": 15,
   "id": "69321155",
   "metadata": {},
   "outputs": [],
   "source": [
    "#get dummies \n",
    "X = pd.get_dummies(new_df_MBA.drop([\"Avg starting base salary\",\"Fulltime Business Week Ranking\"], axis=1), drop_first=True)\n",
    "y = new_df_MBA[\"Avg starting base salary\"]\n"
   ]
  },
  {
   "cell_type": "code",
   "execution_count": 16,
   "id": "ef936ecc",
   "metadata": {},
   "outputs": [
    {
     "name": "stdout",
     "output_type": "stream",
     "text": [
      "(60, 93)\n",
      "(60,)\n"
     ]
    }
   ],
   "source": [
    "print(X.shape)\n",
    "print (y.shape)"
   ]
  },
  {
   "cell_type": "code",
   "execution_count": 17,
   "id": "e69340e2",
   "metadata": {},
   "outputs": [],
   "source": [
    "#split the data 75/25%\n",
    "x_train,x_test,y_train,y_test = train_test_split(X,y,random_state=0,train_size=0.75)"
   ]
  },
  {
   "cell_type": "code",
   "execution_count": 18,
   "id": "f0b13ebb",
   "metadata": {},
   "outputs": [
    {
     "data": {
      "text/plain": [
       "DecisionTreeRegressor(random_state=0)"
      ]
     },
     "execution_count": 18,
     "metadata": {},
     "output_type": "execute_result"
    }
   ],
   "source": [
    "# CART Regression Tree\n",
    "cart_tree = DecisionTreeRegressor(random_state=0)\n",
    "cart_tree.fit(x_train,y_train)"
   ]
  },
  {
   "cell_type": "code",
   "execution_count": 19,
   "id": "29db9bd7",
   "metadata": {},
   "outputs": [
    {
     "data": {
      "text/plain": [
       "11"
      ]
     },
     "execution_count": 19,
     "metadata": {},
     "output_type": "execute_result"
    }
   ],
   "source": [
    "# Tree depth\n",
    "cart_tree.get_depth()"
   ]
  },
  {
   "cell_type": "code",
   "execution_count": 20,
   "id": "810b4553",
   "metadata": {},
   "outputs": [
    {
     "name": "stdout",
     "output_type": "stream",
     "text": [
      "CART=> Train: 1.0 Test: -0.038\n"
     ]
    }
   ],
   "source": [
    "#Calculate the accuray of clasification using test data\n",
    "cart_train_acc =cart_tree.score(x_train, y_train)\n",
    "cart_test_acc = cart_tree.score(x_test, y_test)\n",
    "\n",
    "print(\"CART=> Train:\", cart_train_acc.round(3), \"Test:\", cart_test_acc.round(3) )"
   ]
  },
  {
   "cell_type": "code",
   "execution_count": null,
   "id": "6707158f",
   "metadata": {},
   "outputs": [],
   "source": [
    "I am not sure if I made a mistake somewhere but the tree is overffited while the testing set did very poorly   "
   ]
  },
  {
   "cell_type": "code",
   "execution_count": 25,
   "id": "9d9d34c4",
   "metadata": {},
   "outputs": [
    {
     "data": {
      "text/plain": [
       "Enrollment                0\n",
       "Avg GMAT                  3\n",
       "Resident Tuition, Fees    2\n",
       "Pct International         2\n",
       "Pct Female                2\n",
       "                         ..\n",
       "State_Virginia            0\n",
       "State_Washington          0\n",
       "State_Washington D.C.     0\n",
       "State_Wisconsin           0\n",
       "Type_Public               0\n",
       "Length: 106, dtype: int64"
      ]
     },
     "execution_count": 25,
     "metadata": {},
     "output_type": "execute_result"
    }
   ],
   "source": [
    "#get dummies \n",
    "Df_encoded= pd.get_dummies(df_MBA.drop(\"Fulltime Business Week Ranking\", axis=1), drop_first=True)\n",
    "Df_encoded.isna().sum()"
   ]
  },
  {
   "cell_type": "code",
   "execution_count": 26,
   "id": "e04a4554",
   "metadata": {
    "scrolled": true
   },
   "outputs": [
    {
     "data": {
      "text/html": [
       "<div>\n",
       "<style scoped>\n",
       "    .dataframe tbody tr th:only-of-type {\n",
       "        vertical-align: middle;\n",
       "    }\n",
       "\n",
       "    .dataframe tbody tr th {\n",
       "        vertical-align: top;\n",
       "    }\n",
       "\n",
       "    .dataframe thead th {\n",
       "        text-align: right;\n",
       "    }\n",
       "</style>\n",
       "<table border=\"1\" class=\"dataframe\">\n",
       "  <thead>\n",
       "    <tr style=\"text-align: right;\">\n",
       "      <th></th>\n",
       "      <th>Enrollment</th>\n",
       "      <th>Avg GMAT</th>\n",
       "      <th>Resident Tuition, Fees</th>\n",
       "      <th>Pct International</th>\n",
       "      <th>Pct Female</th>\n",
       "      <th>Pct Asian American</th>\n",
       "      <th>Pct Minority</th>\n",
       "      <th>Pct with job offers</th>\n",
       "      <th>Avg starting base salary</th>\n",
       "      <th>School Name_Arizona State University</th>\n",
       "      <th>...</th>\n",
       "      <th>State_Ohio</th>\n",
       "      <th>State_Pennsylvania</th>\n",
       "      <th>State_Tennessee</th>\n",
       "      <th>State_Texas</th>\n",
       "      <th>State_Utah</th>\n",
       "      <th>State_Virginia</th>\n",
       "      <th>State_Washington</th>\n",
       "      <th>State_Washington D.C.</th>\n",
       "      <th>State_Wisconsin</th>\n",
       "      <th>Type_Public</th>\n",
       "    </tr>\n",
       "  </thead>\n",
       "  <tbody>\n",
       "    <tr>\n",
       "      <th>0</th>\n",
       "      <td>1144</td>\n",
       "      <td>713.0</td>\n",
       "      <td>97165.0</td>\n",
       "      <td>35.0</td>\n",
       "      <td>35.0</td>\n",
       "      <td>16.0</td>\n",
       "      <td>7.0</td>\n",
       "      <td>92.0</td>\n",
       "      <td>107091.0</td>\n",
       "      <td>0</td>\n",
       "      <td>...</td>\n",
       "      <td>0</td>\n",
       "      <td>0</td>\n",
       "      <td>0</td>\n",
       "      <td>0</td>\n",
       "      <td>0</td>\n",
       "      <td>0</td>\n",
       "      <td>0</td>\n",
       "      <td>0</td>\n",
       "      <td>0</td>\n",
       "      <td>0</td>\n",
       "    </tr>\n",
       "    <tr>\n",
       "      <th>1</th>\n",
       "      <td>1801</td>\n",
       "      <td>720.0</td>\n",
       "      <td>101660.0</td>\n",
       "      <td>33.0</td>\n",
       "      <td>38.0</td>\n",
       "      <td>NaN</td>\n",
       "      <td>NaN</td>\n",
       "      <td>94.0</td>\n",
       "      <td>124378.0</td>\n",
       "      <td>0</td>\n",
       "      <td>...</td>\n",
       "      <td>0</td>\n",
       "      <td>0</td>\n",
       "      <td>0</td>\n",
       "      <td>0</td>\n",
       "      <td>0</td>\n",
       "      <td>0</td>\n",
       "      <td>0</td>\n",
       "      <td>0</td>\n",
       "      <td>0</td>\n",
       "      <td>0</td>\n",
       "    </tr>\n",
       "    <tr>\n",
       "      <th>2</th>\n",
       "      <td>1200</td>\n",
       "      <td>711.0</td>\n",
       "      <td>93918.0</td>\n",
       "      <td>34.0</td>\n",
       "      <td>36.0</td>\n",
       "      <td>25.0</td>\n",
       "      <td>13.0</td>\n",
       "      <td>95.0</td>\n",
       "      <td>108064.0</td>\n",
       "      <td>0</td>\n",
       "      <td>...</td>\n",
       "      <td>0</td>\n",
       "      <td>0</td>\n",
       "      <td>0</td>\n",
       "      <td>0</td>\n",
       "      <td>0</td>\n",
       "      <td>0</td>\n",
       "      <td>0</td>\n",
       "      <td>0</td>\n",
       "      <td>0</td>\n",
       "      <td>0</td>\n",
       "    </tr>\n",
       "    <tr>\n",
       "      <th>3</th>\n",
       "      <td>1651</td>\n",
       "      <td>714.0</td>\n",
       "      <td>104410.0</td>\n",
       "      <td>44.0</td>\n",
       "      <td>36.0</td>\n",
       "      <td>7.8</td>\n",
       "      <td>9.0</td>\n",
       "      <td>89.0</td>\n",
       "      <td>112186.0</td>\n",
       "      <td>0</td>\n",
       "      <td>...</td>\n",
       "      <td>0</td>\n",
       "      <td>1</td>\n",
       "      <td>0</td>\n",
       "      <td>0</td>\n",
       "      <td>0</td>\n",
       "      <td>0</td>\n",
       "      <td>0</td>\n",
       "      <td>0</td>\n",
       "      <td>0</td>\n",
       "      <td>0</td>\n",
       "    </tr>\n",
       "    <tr>\n",
       "      <th>4</th>\n",
       "      <td>898</td>\n",
       "      <td>706.0</td>\n",
       "      <td>80879.0</td>\n",
       "      <td>27.0</td>\n",
       "      <td>34.0</td>\n",
       "      <td>21.0</td>\n",
       "      <td>13.0</td>\n",
       "      <td>89.0</td>\n",
       "      <td>103608.0</td>\n",
       "      <td>0</td>\n",
       "      <td>...</td>\n",
       "      <td>0</td>\n",
       "      <td>0</td>\n",
       "      <td>0</td>\n",
       "      <td>0</td>\n",
       "      <td>0</td>\n",
       "      <td>0</td>\n",
       "      <td>0</td>\n",
       "      <td>0</td>\n",
       "      <td>0</td>\n",
       "      <td>1</td>\n",
       "    </tr>\n",
       "  </tbody>\n",
       "</table>\n",
       "<p>5 rows × 106 columns</p>\n",
       "</div>"
      ],
      "text/plain": [
       "   Enrollment  Avg GMAT  Resident Tuition, Fees  Pct International  \\\n",
       "0        1144     713.0                 97165.0               35.0   \n",
       "1        1801     720.0                101660.0               33.0   \n",
       "2        1200     711.0                 93918.0               34.0   \n",
       "3        1651     714.0                104410.0               44.0   \n",
       "4         898     706.0                 80879.0               27.0   \n",
       "\n",
       "   Pct Female  Pct Asian American  Pct Minority  Pct with job offers  \\\n",
       "0        35.0                16.0           7.0                 92.0   \n",
       "1        38.0                 NaN           NaN                 94.0   \n",
       "2        36.0                25.0          13.0                 95.0   \n",
       "3        36.0                 7.8           9.0                 89.0   \n",
       "4        34.0                21.0          13.0                 89.0   \n",
       "\n",
       "   Avg starting base salary  School Name_Arizona State University  ...  \\\n",
       "0                  107091.0                                     0  ...   \n",
       "1                  124378.0                                     0  ...   \n",
       "2                  108064.0                                     0  ...   \n",
       "3                  112186.0                                     0  ...   \n",
       "4                  103608.0                                     0  ...   \n",
       "\n",
       "   State_Ohio  State_Pennsylvania  State_Tennessee  State_Texas  State_Utah  \\\n",
       "0           0                   0                0            0           0   \n",
       "1           0                   0                0            0           0   \n",
       "2           0                   0                0            0           0   \n",
       "3           0                   1                0            0           0   \n",
       "4           0                   0                0            0           0   \n",
       "\n",
       "   State_Virginia  State_Washington  State_Washington D.C.  State_Wisconsin  \\\n",
       "0               0                 0                      0                0   \n",
       "1               0                 0                      0                0   \n",
       "2               0                 0                      0                0   \n",
       "3               0                 0                      0                0   \n",
       "4               0                 0                      0                0   \n",
       "\n",
       "   Type_Public  \n",
       "0            0  \n",
       "1            0  \n",
       "2            0  \n",
       "3            0  \n",
       "4            1  \n",
       "\n",
       "[5 rows x 106 columns]"
      ]
     },
     "execution_count": 26,
     "metadata": {},
     "output_type": "execute_result"
    }
   ],
   "source": [
    "Df_encoded.head(5)"
   ]
  },
  {
   "cell_type": "code",
   "execution_count": 28,
   "id": "5e984005",
   "metadata": {},
   "outputs": [
    {
     "data": {
      "text/html": [
       "<div>\n",
       "<style scoped>\n",
       "    .dataframe tbody tr th:only-of-type {\n",
       "        vertical-align: middle;\n",
       "    }\n",
       "\n",
       "    .dataframe tbody tr th {\n",
       "        vertical-align: top;\n",
       "    }\n",
       "\n",
       "    .dataframe thead th {\n",
       "        text-align: right;\n",
       "    }\n",
       "</style>\n",
       "<table border=\"1\" class=\"dataframe\">\n",
       "  <thead>\n",
       "    <tr style=\"text-align: right;\">\n",
       "      <th></th>\n",
       "      <th>Enrollment</th>\n",
       "      <th>Avg GMAT</th>\n",
       "      <th>Resident Tuition, Fees</th>\n",
       "      <th>Pct International</th>\n",
       "      <th>Pct Female</th>\n",
       "      <th>Pct Asian American</th>\n",
       "      <th>Pct Minority</th>\n",
       "      <th>Pct with job offers</th>\n",
       "      <th>Avg starting base salary</th>\n",
       "      <th>School Name_Arizona State University</th>\n",
       "      <th>...</th>\n",
       "      <th>State_Ohio</th>\n",
       "      <th>State_Pennsylvania</th>\n",
       "      <th>State_Tennessee</th>\n",
       "      <th>State_Texas</th>\n",
       "      <th>State_Utah</th>\n",
       "      <th>State_Virginia</th>\n",
       "      <th>State_Washington</th>\n",
       "      <th>State_Washington D.C.</th>\n",
       "      <th>State_Wisconsin</th>\n",
       "      <th>Type_Public</th>\n",
       "    </tr>\n",
       "  </thead>\n",
       "  <tbody>\n",
       "    <tr>\n",
       "      <th>0</th>\n",
       "      <td>0.628394</td>\n",
       "      <td>0.923077</td>\n",
       "      <td>0.916989</td>\n",
       "      <td>0.583333</td>\n",
       "      <td>0.416667</td>\n",
       "      <td>0.551724</td>\n",
       "      <td>0.062500</td>\n",
       "      <td>0.911765</td>\n",
       "      <td>0.836400</td>\n",
       "      <td>0.0</td>\n",
       "      <td>...</td>\n",
       "      <td>0.0</td>\n",
       "      <td>0.0</td>\n",
       "      <td>0.0</td>\n",
       "      <td>0.0</td>\n",
       "      <td>0.0</td>\n",
       "      <td>0.0</td>\n",
       "      <td>0.0</td>\n",
       "      <td>0.0</td>\n",
       "      <td>0.0</td>\n",
       "      <td>0.0</td>\n",
       "    </tr>\n",
       "    <tr>\n",
       "      <th>1</th>\n",
       "      <td>1.000000</td>\n",
       "      <td>0.964497</td>\n",
       "      <td>0.968491</td>\n",
       "      <td>0.541667</td>\n",
       "      <td>0.500000</td>\n",
       "      <td>NaN</td>\n",
       "      <td>NaN</td>\n",
       "      <td>0.941176</td>\n",
       "      <td>1.000000</td>\n",
       "      <td>0.0</td>\n",
       "      <td>...</td>\n",
       "      <td>0.0</td>\n",
       "      <td>0.0</td>\n",
       "      <td>0.0</td>\n",
       "      <td>0.0</td>\n",
       "      <td>0.0</td>\n",
       "      <td>0.0</td>\n",
       "      <td>0.0</td>\n",
       "      <td>0.0</td>\n",
       "      <td>0.0</td>\n",
       "      <td>0.0</td>\n",
       "    </tr>\n",
       "    <tr>\n",
       "      <th>2</th>\n",
       "      <td>0.660068</td>\n",
       "      <td>0.911243</td>\n",
       "      <td>0.879786</td>\n",
       "      <td>0.562500</td>\n",
       "      <td>0.444444</td>\n",
       "      <td>0.862069</td>\n",
       "      <td>0.125000</td>\n",
       "      <td>0.955882</td>\n",
       "      <td>0.845608</td>\n",
       "      <td>0.0</td>\n",
       "      <td>...</td>\n",
       "      <td>0.0</td>\n",
       "      <td>0.0</td>\n",
       "      <td>0.0</td>\n",
       "      <td>0.0</td>\n",
       "      <td>0.0</td>\n",
       "      <td>0.0</td>\n",
       "      <td>0.0</td>\n",
       "      <td>0.0</td>\n",
       "      <td>0.0</td>\n",
       "      <td>0.0</td>\n",
       "    </tr>\n",
       "    <tr>\n",
       "      <th>3</th>\n",
       "      <td>0.915158</td>\n",
       "      <td>0.928994</td>\n",
       "      <td>1.000000</td>\n",
       "      <td>0.770833</td>\n",
       "      <td>0.444444</td>\n",
       "      <td>0.268966</td>\n",
       "      <td>0.083333</td>\n",
       "      <td>0.867647</td>\n",
       "      <td>0.884618</td>\n",
       "      <td>0.0</td>\n",
       "      <td>...</td>\n",
       "      <td>0.0</td>\n",
       "      <td>1.0</td>\n",
       "      <td>0.0</td>\n",
       "      <td>0.0</td>\n",
       "      <td>0.0</td>\n",
       "      <td>0.0</td>\n",
       "      <td>0.0</td>\n",
       "      <td>0.0</td>\n",
       "      <td>0.0</td>\n",
       "      <td>0.0</td>\n",
       "    </tr>\n",
       "    <tr>\n",
       "      <th>4</th>\n",
       "      <td>0.489253</td>\n",
       "      <td>0.881657</td>\n",
       "      <td>0.730390</td>\n",
       "      <td>0.416667</td>\n",
       "      <td>0.388889</td>\n",
       "      <td>0.724138</td>\n",
       "      <td>0.125000</td>\n",
       "      <td>0.867647</td>\n",
       "      <td>0.803437</td>\n",
       "      <td>0.0</td>\n",
       "      <td>...</td>\n",
       "      <td>0.0</td>\n",
       "      <td>0.0</td>\n",
       "      <td>0.0</td>\n",
       "      <td>0.0</td>\n",
       "      <td>0.0</td>\n",
       "      <td>0.0</td>\n",
       "      <td>0.0</td>\n",
       "      <td>0.0</td>\n",
       "      <td>0.0</td>\n",
       "      <td>1.0</td>\n",
       "    </tr>\n",
       "  </tbody>\n",
       "</table>\n",
       "<p>5 rows × 106 columns</p>\n",
       "</div>"
      ],
      "text/plain": [
       "   Enrollment  Avg GMAT  Resident Tuition, Fees  Pct International  \\\n",
       "0    0.628394  0.923077                0.916989           0.583333   \n",
       "1    1.000000  0.964497                0.968491           0.541667   \n",
       "2    0.660068  0.911243                0.879786           0.562500   \n",
       "3    0.915158  0.928994                1.000000           0.770833   \n",
       "4    0.489253  0.881657                0.730390           0.416667   \n",
       "\n",
       "   Pct Female  Pct Asian American  Pct Minority  Pct with job offers  \\\n",
       "0    0.416667            0.551724      0.062500             0.911765   \n",
       "1    0.500000                 NaN           NaN             0.941176   \n",
       "2    0.444444            0.862069      0.125000             0.955882   \n",
       "3    0.444444            0.268966      0.083333             0.867647   \n",
       "4    0.388889            0.724138      0.125000             0.867647   \n",
       "\n",
       "   Avg starting base salary  School Name_Arizona State University  ...  \\\n",
       "0                  0.836400                                   0.0  ...   \n",
       "1                  1.000000                                   0.0  ...   \n",
       "2                  0.845608                                   0.0  ...   \n",
       "3                  0.884618                                   0.0  ...   \n",
       "4                  0.803437                                   0.0  ...   \n",
       "\n",
       "   State_Ohio  State_Pennsylvania  State_Tennessee  State_Texas  State_Utah  \\\n",
       "0         0.0                 0.0              0.0          0.0         0.0   \n",
       "1         0.0                 0.0              0.0          0.0         0.0   \n",
       "2         0.0                 0.0              0.0          0.0         0.0   \n",
       "3         0.0                 1.0              0.0          0.0         0.0   \n",
       "4         0.0                 0.0              0.0          0.0         0.0   \n",
       "\n",
       "   State_Virginia  State_Washington  State_Washington D.C.  State_Wisconsin  \\\n",
       "0             0.0               0.0                    0.0              0.0   \n",
       "1             0.0               0.0                    0.0              0.0   \n",
       "2             0.0               0.0                    0.0              0.0   \n",
       "3             0.0               0.0                    0.0              0.0   \n",
       "4             0.0               0.0                    0.0              0.0   \n",
       "\n",
       "   Type_Public  \n",
       "0          0.0  \n",
       "1          0.0  \n",
       "2          0.0  \n",
       "3          0.0  \n",
       "4          1.0  \n",
       "\n",
       "[5 rows x 106 columns]"
      ]
     },
     "execution_count": 28,
     "metadata": {},
     "output_type": "execute_result"
    }
   ],
   "source": [
    "#Normalising the data set since they are using different scale\n",
    "from sklearn.preprocessing import MinMaxScaler\n",
    "scaler = MinMaxScaler()\n",
    "df_scaled = pd.DataFrame(scaler.fit_transform(Df_encoded), columns = Df_encoded.columns)\n",
    "df_scaled .head()"
   ]
  },
  {
   "cell_type": "code",
   "execution_count": 29,
   "id": "34d07387",
   "metadata": {},
   "outputs": [],
   "source": [
    "# Impute the missing values in each column using KNN imputer\n",
    "# define imputer\n",
    "# knn imputation transform for the horse colic dataset\n",
    "from numpy import isnan\n",
    "\n",
    "from sklearn.impute import KNNImputer\n",
    "imputer = KNNImputer(n_neighbors=5, weights='uniform', metric='nan_euclidean')"
   ]
  },
  {
   "cell_type": "code",
   "execution_count": 31,
   "id": "a8161d5b",
   "metadata": {},
   "outputs": [],
   "source": [
    "# fit on the dataset\n",
    "Inputered_df=pd.DataFrame(imputer.fit_transform(df_scaled),columns=df_scaled.columns)"
   ]
  },
  {
   "cell_type": "code",
   "execution_count": 34,
   "id": "e0f779a0",
   "metadata": {},
   "outputs": [
    {
     "data": {
      "text/plain": [
       "Enrollment                0\n",
       "Avg GMAT                  0\n",
       "Resident Tuition, Fees    0\n",
       "Pct International         0\n",
       "Pct Female                0\n",
       "                         ..\n",
       "State_Virginia            0\n",
       "State_Washington          0\n",
       "State_Washington D.C.     0\n",
       "State_Wisconsin           0\n",
       "Type_Public               0\n",
       "Length: 106, dtype: int64"
      ]
     },
     "execution_count": 34,
     "metadata": {},
     "output_type": "execute_result"
    }
   ],
   "source": [
    "#Checking that there are no more missing values\n",
    "#Inputered_df.isna().any()\n",
    "Inputered_df.isna().sum()\n"
   ]
  },
  {
   "cell_type": "code",
   "execution_count": 35,
   "id": "7df3b433",
   "metadata": {},
   "outputs": [],
   "source": [
    "X =Inputered_df.drop(\"Avg starting base salary\", axis=1)\n",
    "y = Inputered_df[\"Avg starting base salary\"]"
   ]
  },
  {
   "cell_type": "code",
   "execution_count": 36,
   "id": "80141c31",
   "metadata": {},
   "outputs": [
    {
     "name": "stdout",
     "output_type": "stream",
     "text": [
      "(70, 105)\n",
      "(70,)\n"
     ]
    }
   ],
   "source": [
    "print(X.shape)\n",
    "print (y.shape)"
   ]
  },
  {
   "cell_type": "code",
   "execution_count": 37,
   "id": "a51d1d3b",
   "metadata": {},
   "outputs": [],
   "source": [
    "#split the data 75/25%\n",
    "x_train,x_test,y_train,y_test = train_test_split(X,y,random_state=0,train_size=0.75)"
   ]
  },
  {
   "cell_type": "code",
   "execution_count": 38,
   "id": "3a2d862d",
   "metadata": {},
   "outputs": [
    {
     "data": {
      "text/plain": [
       "DecisionTreeRegressor(random_state=0)"
      ]
     },
     "execution_count": 38,
     "metadata": {},
     "output_type": "execute_result"
    }
   ],
   "source": [
    "# CART Regression Tree\n",
    "cart_tree1 = DecisionTreeRegressor(random_state=0)\n",
    "cart_tree1.fit(x_train,y_train)"
   ]
  },
  {
   "cell_type": "code",
   "execution_count": 39,
   "id": "988bef02",
   "metadata": {},
   "outputs": [
    {
     "data": {
      "text/plain": [
       "13"
      ]
     },
     "execution_count": 39,
     "metadata": {},
     "output_type": "execute_result"
    }
   ],
   "source": [
    "# Tree depth\n",
    "cart_tree1.get_depth()"
   ]
  },
  {
   "cell_type": "code",
   "execution_count": 40,
   "id": "6e7f30df",
   "metadata": {},
   "outputs": [
    {
     "name": "stdout",
     "output_type": "stream",
     "text": [
      "CART=> Train: 1.0 Test: -1.109\n"
     ]
    }
   ],
   "source": [
    "#Calculate the accuray of clasification using test data\n",
    "cart_train_acc =cart_tree1.score(x_train, y_train)\n",
    "cart_test_acc = cart_tree1.score(x_test, y_test)\n",
    "\n",
    "print(\"CART=> Train:\", cart_train_acc.round(3), \"Test:\", cart_test_acc.round(3) )"
   ]
  },
  {
   "cell_type": "markdown",
   "id": "82148caf",
   "metadata": {},
   "source": [
    "# Q3. Ensemble Modeling – Mobile Price\n",
    "We want to predict the price of mobile phone(range) based on the characteristics of the\n",
    "phone like memory, battery power, camera specification etc. The data for about 2000\n",
    "phones is provided in 03_mobile_price.csv\n",
    "1) Train a Random Forest classifier to predict the mobile price. What is the accuracy\n",
    "you get with a 5fold CV on the Dataset.\n",
    "2) Now, train a gradient boosting classifier using the same data. How does the score\n",
    "compare with random forest model?\n",
    "Note that this is multi-class classification."
   ]
  },
  {
   "cell_type": "code",
   "execution_count": 51,
   "id": "295c22cb",
   "metadata": {},
   "outputs": [
    {
     "data": {
      "text/html": [
       "<div>\n",
       "<style scoped>\n",
       "    .dataframe tbody tr th:only-of-type {\n",
       "        vertical-align: middle;\n",
       "    }\n",
       "\n",
       "    .dataframe tbody tr th {\n",
       "        vertical-align: top;\n",
       "    }\n",
       "\n",
       "    .dataframe thead th {\n",
       "        text-align: right;\n",
       "    }\n",
       "</style>\n",
       "<table border=\"1\" class=\"dataframe\">\n",
       "  <thead>\n",
       "    <tr style=\"text-align: right;\">\n",
       "      <th></th>\n",
       "      <th>battery_power</th>\n",
       "      <th>blue</th>\n",
       "      <th>clock_speed</th>\n",
       "      <th>dual_sim</th>\n",
       "      <th>frontcamera</th>\n",
       "      <th>Has4G</th>\n",
       "      <th>memory</th>\n",
       "      <th>mobile_thickness</th>\n",
       "      <th>mobile_wt</th>\n",
       "      <th>n_cores</th>\n",
       "      <th>...</th>\n",
       "      <th>px_height</th>\n",
       "      <th>px_width</th>\n",
       "      <th>ram</th>\n",
       "      <th>screen_height</th>\n",
       "      <th>screen_width</th>\n",
       "      <th>talk_time</th>\n",
       "      <th>Has3G</th>\n",
       "      <th>touch_screen</th>\n",
       "      <th>wifi</th>\n",
       "      <th>price_range</th>\n",
       "    </tr>\n",
       "  </thead>\n",
       "  <tbody>\n",
       "    <tr>\n",
       "      <th>0</th>\n",
       "      <td>842</td>\n",
       "      <td>0</td>\n",
       "      <td>2.2</td>\n",
       "      <td>0</td>\n",
       "      <td>1</td>\n",
       "      <td>0</td>\n",
       "      <td>7</td>\n",
       "      <td>0.6</td>\n",
       "      <td>188</td>\n",
       "      <td>2</td>\n",
       "      <td>...</td>\n",
       "      <td>20</td>\n",
       "      <td>756</td>\n",
       "      <td>2549</td>\n",
       "      <td>9</td>\n",
       "      <td>7</td>\n",
       "      <td>19</td>\n",
       "      <td>0</td>\n",
       "      <td>0</td>\n",
       "      <td>1</td>\n",
       "      <td>1</td>\n",
       "    </tr>\n",
       "    <tr>\n",
       "      <th>1</th>\n",
       "      <td>1021</td>\n",
       "      <td>1</td>\n",
       "      <td>0.5</td>\n",
       "      <td>1</td>\n",
       "      <td>0</td>\n",
       "      <td>1</td>\n",
       "      <td>53</td>\n",
       "      <td>0.7</td>\n",
       "      <td>136</td>\n",
       "      <td>3</td>\n",
       "      <td>...</td>\n",
       "      <td>905</td>\n",
       "      <td>1988</td>\n",
       "      <td>2631</td>\n",
       "      <td>17</td>\n",
       "      <td>3</td>\n",
       "      <td>7</td>\n",
       "      <td>1</td>\n",
       "      <td>1</td>\n",
       "      <td>0</td>\n",
       "      <td>2</td>\n",
       "    </tr>\n",
       "    <tr>\n",
       "      <th>2</th>\n",
       "      <td>563</td>\n",
       "      <td>1</td>\n",
       "      <td>0.5</td>\n",
       "      <td>1</td>\n",
       "      <td>2</td>\n",
       "      <td>1</td>\n",
       "      <td>41</td>\n",
       "      <td>0.9</td>\n",
       "      <td>145</td>\n",
       "      <td>5</td>\n",
       "      <td>...</td>\n",
       "      <td>1263</td>\n",
       "      <td>1716</td>\n",
       "      <td>2603</td>\n",
       "      <td>11</td>\n",
       "      <td>2</td>\n",
       "      <td>9</td>\n",
       "      <td>1</td>\n",
       "      <td>1</td>\n",
       "      <td>0</td>\n",
       "      <td>2</td>\n",
       "    </tr>\n",
       "    <tr>\n",
       "      <th>3</th>\n",
       "      <td>615</td>\n",
       "      <td>1</td>\n",
       "      <td>2.5</td>\n",
       "      <td>0</td>\n",
       "      <td>0</td>\n",
       "      <td>0</td>\n",
       "      <td>10</td>\n",
       "      <td>0.8</td>\n",
       "      <td>131</td>\n",
       "      <td>6</td>\n",
       "      <td>...</td>\n",
       "      <td>1216</td>\n",
       "      <td>1786</td>\n",
       "      <td>2769</td>\n",
       "      <td>16</td>\n",
       "      <td>8</td>\n",
       "      <td>11</td>\n",
       "      <td>1</td>\n",
       "      <td>0</td>\n",
       "      <td>0</td>\n",
       "      <td>2</td>\n",
       "    </tr>\n",
       "    <tr>\n",
       "      <th>4</th>\n",
       "      <td>1821</td>\n",
       "      <td>1</td>\n",
       "      <td>1.2</td>\n",
       "      <td>0</td>\n",
       "      <td>13</td>\n",
       "      <td>1</td>\n",
       "      <td>44</td>\n",
       "      <td>0.6</td>\n",
       "      <td>141</td>\n",
       "      <td>2</td>\n",
       "      <td>...</td>\n",
       "      <td>1208</td>\n",
       "      <td>1212</td>\n",
       "      <td>1411</td>\n",
       "      <td>8</td>\n",
       "      <td>2</td>\n",
       "      <td>15</td>\n",
       "      <td>1</td>\n",
       "      <td>1</td>\n",
       "      <td>0</td>\n",
       "      <td>1</td>\n",
       "    </tr>\n",
       "    <tr>\n",
       "      <th>5</th>\n",
       "      <td>1859</td>\n",
       "      <td>0</td>\n",
       "      <td>0.5</td>\n",
       "      <td>1</td>\n",
       "      <td>3</td>\n",
       "      <td>0</td>\n",
       "      <td>22</td>\n",
       "      <td>0.7</td>\n",
       "      <td>164</td>\n",
       "      <td>1</td>\n",
       "      <td>...</td>\n",
       "      <td>1004</td>\n",
       "      <td>1654</td>\n",
       "      <td>1067</td>\n",
       "      <td>17</td>\n",
       "      <td>1</td>\n",
       "      <td>10</td>\n",
       "      <td>1</td>\n",
       "      <td>0</td>\n",
       "      <td>0</td>\n",
       "      <td>1</td>\n",
       "    </tr>\n",
       "    <tr>\n",
       "      <th>6</th>\n",
       "      <td>1821</td>\n",
       "      <td>0</td>\n",
       "      <td>1.7</td>\n",
       "      <td>0</td>\n",
       "      <td>4</td>\n",
       "      <td>1</td>\n",
       "      <td>10</td>\n",
       "      <td>0.8</td>\n",
       "      <td>139</td>\n",
       "      <td>8</td>\n",
       "      <td>...</td>\n",
       "      <td>381</td>\n",
       "      <td>1018</td>\n",
       "      <td>3220</td>\n",
       "      <td>13</td>\n",
       "      <td>8</td>\n",
       "      <td>18</td>\n",
       "      <td>1</td>\n",
       "      <td>0</td>\n",
       "      <td>1</td>\n",
       "      <td>3</td>\n",
       "    </tr>\n",
       "    <tr>\n",
       "      <th>7</th>\n",
       "      <td>1954</td>\n",
       "      <td>0</td>\n",
       "      <td>0.5</td>\n",
       "      <td>1</td>\n",
       "      <td>0</td>\n",
       "      <td>0</td>\n",
       "      <td>24</td>\n",
       "      <td>0.8</td>\n",
       "      <td>187</td>\n",
       "      <td>4</td>\n",
       "      <td>...</td>\n",
       "      <td>512</td>\n",
       "      <td>1149</td>\n",
       "      <td>700</td>\n",
       "      <td>16</td>\n",
       "      <td>3</td>\n",
       "      <td>5</td>\n",
       "      <td>1</td>\n",
       "      <td>1</td>\n",
       "      <td>1</td>\n",
       "      <td>0</td>\n",
       "    </tr>\n",
       "    <tr>\n",
       "      <th>8</th>\n",
       "      <td>1445</td>\n",
       "      <td>1</td>\n",
       "      <td>0.5</td>\n",
       "      <td>0</td>\n",
       "      <td>0</td>\n",
       "      <td>0</td>\n",
       "      <td>53</td>\n",
       "      <td>0.7</td>\n",
       "      <td>174</td>\n",
       "      <td>7</td>\n",
       "      <td>...</td>\n",
       "      <td>386</td>\n",
       "      <td>836</td>\n",
       "      <td>1099</td>\n",
       "      <td>17</td>\n",
       "      <td>1</td>\n",
       "      <td>20</td>\n",
       "      <td>1</td>\n",
       "      <td>0</td>\n",
       "      <td>0</td>\n",
       "      <td>0</td>\n",
       "    </tr>\n",
       "    <tr>\n",
       "      <th>9</th>\n",
       "      <td>509</td>\n",
       "      <td>1</td>\n",
       "      <td>0.6</td>\n",
       "      <td>1</td>\n",
       "      <td>2</td>\n",
       "      <td>1</td>\n",
       "      <td>9</td>\n",
       "      <td>0.1</td>\n",
       "      <td>93</td>\n",
       "      <td>5</td>\n",
       "      <td>...</td>\n",
       "      <td>1137</td>\n",
       "      <td>1224</td>\n",
       "      <td>513</td>\n",
       "      <td>19</td>\n",
       "      <td>10</td>\n",
       "      <td>12</td>\n",
       "      <td>1</td>\n",
       "      <td>0</td>\n",
       "      <td>0</td>\n",
       "      <td>0</td>\n",
       "    </tr>\n",
       "  </tbody>\n",
       "</table>\n",
       "<p>10 rows × 21 columns</p>\n",
       "</div>"
      ],
      "text/plain": [
       "   battery_power  blue  clock_speed  dual_sim  frontcamera  Has4G  memory  \\\n",
       "0            842     0          2.2         0            1      0       7   \n",
       "1           1021     1          0.5         1            0      1      53   \n",
       "2            563     1          0.5         1            2      1      41   \n",
       "3            615     1          2.5         0            0      0      10   \n",
       "4           1821     1          1.2         0           13      1      44   \n",
       "5           1859     0          0.5         1            3      0      22   \n",
       "6           1821     0          1.7         0            4      1      10   \n",
       "7           1954     0          0.5         1            0      0      24   \n",
       "8           1445     1          0.5         0            0      0      53   \n",
       "9            509     1          0.6         1            2      1       9   \n",
       "\n",
       "   mobile_thickness  mobile_wt  n_cores  ...  px_height  px_width   ram  \\\n",
       "0               0.6        188        2  ...         20       756  2549   \n",
       "1               0.7        136        3  ...        905      1988  2631   \n",
       "2               0.9        145        5  ...       1263      1716  2603   \n",
       "3               0.8        131        6  ...       1216      1786  2769   \n",
       "4               0.6        141        2  ...       1208      1212  1411   \n",
       "5               0.7        164        1  ...       1004      1654  1067   \n",
       "6               0.8        139        8  ...        381      1018  3220   \n",
       "7               0.8        187        4  ...        512      1149   700   \n",
       "8               0.7        174        7  ...        386       836  1099   \n",
       "9               0.1         93        5  ...       1137      1224   513   \n",
       "\n",
       "   screen_height  screen_width  talk_time  Has3G  touch_screen  wifi  \\\n",
       "0              9             7         19      0             0     1   \n",
       "1             17             3          7      1             1     0   \n",
       "2             11             2          9      1             1     0   \n",
       "3             16             8         11      1             0     0   \n",
       "4              8             2         15      1             1     0   \n",
       "5             17             1         10      1             0     0   \n",
       "6             13             8         18      1             0     1   \n",
       "7             16             3          5      1             1     1   \n",
       "8             17             1         20      1             0     0   \n",
       "9             19            10         12      1             0     0   \n",
       "\n",
       "   price_range  \n",
       "0            1  \n",
       "1            2  \n",
       "2            2  \n",
       "3            2  \n",
       "4            1  \n",
       "5            1  \n",
       "6            3  \n",
       "7            0  \n",
       "8            0  \n",
       "9            0  \n",
       "\n",
       "[10 rows x 21 columns]"
      ]
     },
     "execution_count": 51,
     "metadata": {},
     "output_type": "execute_result"
    }
   ],
   "source": [
    "import numpy as np\n",
    "import pandas as pd\n",
    "\n",
    "import matplotlib.pyplot as plt\n",
    "import seaborn as sns\n",
    "\n",
    "from sklearn.ensemble import RandomForestClassifier, GradientBoostingClassifier\n",
    "from sklearn.experimental import enable_hist_gradient_boosting\n",
    "from sklearn.ensemble import HistGradientBoostingClassifier\n",
    "from sklearn.preprocessing import StandardScaler\n",
    "\n",
    "mobile_df = pd.read_csv(\"03_mobile_price.csv\")\n",
    "mobile_df.head(10)\n"
   ]
  },
  {
   "cell_type": "code",
   "execution_count": 44,
   "id": "c5a4483c",
   "metadata": {},
   "outputs": [
    {
     "name": "stdout",
     "output_type": "stream",
     "text": [
      "<class 'pandas.core.frame.DataFrame'>\n",
      "RangeIndex: 2000 entries, 0 to 1999\n",
      "Data columns (total 21 columns):\n",
      " #   Column            Non-Null Count  Dtype  \n",
      "---  ------            --------------  -----  \n",
      " 0   battery_power     2000 non-null   int64  \n",
      " 1   blue              2000 non-null   int64  \n",
      " 2   clock_speed       2000 non-null   float64\n",
      " 3   dual_sim          2000 non-null   int64  \n",
      " 4   frontcamera       2000 non-null   int64  \n",
      " 5   Has4G             2000 non-null   int64  \n",
      " 6   memory            2000 non-null   int64  \n",
      " 7   mobile_thickness  2000 non-null   float64\n",
      " 8   mobile_wt         2000 non-null   int64  \n",
      " 9   n_cores           2000 non-null   int64  \n",
      " 10  primarycamera_mp  2000 non-null   int64  \n",
      " 11  px_height         2000 non-null   int64  \n",
      " 12  px_width          2000 non-null   int64  \n",
      " 13  ram               2000 non-null   int64  \n",
      " 14  screen_height     2000 non-null   int64  \n",
      " 15  screen_width      2000 non-null   int64  \n",
      " 16  talk_time         2000 non-null   int64  \n",
      " 17  Has3G             2000 non-null   int64  \n",
      " 18  touch_screen      2000 non-null   int64  \n",
      " 19  wifi              2000 non-null   int64  \n",
      " 20  price_range       2000 non-null   int64  \n",
      "dtypes: float64(2), int64(19)\n",
      "memory usage: 328.2 KB\n"
     ]
    }
   ],
   "source": [
    "mobile_df.info()"
   ]
  },
  {
   "cell_type": "code",
   "execution_count": 47,
   "id": "5a3640b8",
   "metadata": {},
   "outputs": [
    {
     "data": {
      "text/plain": [
       "1    500\n",
       "2    500\n",
       "3    500\n",
       "0    500\n",
       "Name: price_range, dtype: int64"
      ]
     },
     "execution_count": 47,
     "metadata": {},
     "output_type": "execute_result"
    }
   ],
   "source": [
    "mobile_df.price_range.value_counts()"
   ]
  },
  {
   "cell_type": "code",
   "execution_count": 52,
   "id": "8d658289",
   "metadata": {},
   "outputs": [],
   "source": [
    "X = mobile_df.drop(columns=\"price_range\")\n",
    "y = mobile_df[\"price_range\"]\n",
    "X = StandardScaler().fit_transform(X)\n",
    "X_train, X_test, y_train, y_test = train_test_split(X, y, \n",
    "                                                    test_size=0.3, \n",
    "                                                    random_state=30072022)"
   ]
  },
  {
   "cell_type": "code",
   "execution_count": 53,
   "id": "7cc344da",
   "metadata": {},
   "outputs": [
    {
     "name": "stdout",
     "output_type": "stream",
     "text": [
      "Random Forest 0.829 0.663\n",
      "GB 0.975 0.908\n"
     ]
    }
   ],
   "source": [
    "names = [\"Random Forest\", \"GB\"]\n",
    "\n",
    "classifiers = [\n",
    "    RandomForestClassifier(max_depth=5, n_estimators=10),\n",
    "    GradientBoostingClassifier(n_estimators=50)\n",
    "]\n",
    "\n",
    "for name, clf in zip(names, classifiers):\n",
    "    clf.fit(X_train, y_train)\n",
    "    trainscore = clf.score(X_train, y_train)\n",
    "    testscore = clf.score(X_test, y_test)\n",
    "    print(name, trainscore.round(3), testscore.round(3))"
   ]
  },
  {
   "cell_type": "markdown",
   "id": "901d8831",
   "metadata": {},
   "source": [
    "The gradient boosting classifier did very well on both the traning and testing set"
   ]
  }
 ],
 "metadata": {
  "kernelspec": {
   "display_name": "Python 3 (ipykernel)",
   "language": "python",
   "name": "python3"
  },
  "language_info": {
   "codemirror_mode": {
    "name": "ipython",
    "version": 3
   },
   "file_extension": ".py",
   "mimetype": "text/x-python",
   "name": "python",
   "nbconvert_exporter": "python",
   "pygments_lexer": "ipython3",
   "version": "3.9.12"
  }
 },
 "nbformat": 4,
 "nbformat_minor": 5
}
