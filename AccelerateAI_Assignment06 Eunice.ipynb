{
 "cells": [
  {
   "cell_type": "markdown",
   "id": "c86301af",
   "metadata": {},
   "source": [
    "# AccelerateAI\n",
    "## Data Science Global Bootcamp\n",
    "### Assignment 06\n",
    "#### By Eunice"
   ]
  },
  {
   "cell_type": "markdown",
   "id": "3236d2dd",
   "metadata": {},
   "source": [
    "# Question1\n",
    "\n",
    "## MLR with 2 or more variables – Machine tools company\n",
    "\n",
    "Benedrix, a machine tool company is interested in understand the impact of machine hours and production run, on its overhead cost.The data on a monthly basis for 3 years is provided in the dataset:\n",
    "MLR_FactoryOverhead.csv\n",
    "\n",
    "Fit the regression equations:\n",
    "• Overhead = F (machine hours)\n",
    "• Overhead = F (production runs)\n",
    "• Overhead = F (machine hours, production runs)\n",
    "1) Find the R-Squared in all 3 cases.\n",
    "2) How would you explain the additional lift in R-squared of the combined model vs\n",
    "each of the individual model?"
   ]
  },
  {
   "cell_type": "code",
   "execution_count": 118,
   "id": "b4a53f48",
   "metadata": {},
   "outputs": [],
   "source": [
    "import numpy as np\n",
    "import pandas as pd \n",
    "from scipy.stats.mstats import zscore\n",
    "\n",
    "import seaborn as sbn \n",
    "import matplotlib.pyplot as plt\n",
    "\n",
    "import statsmodels.api as sm"
   ]
  },
  {
   "cell_type": "code",
   "execution_count": 119,
   "id": "e63fb284",
   "metadata": {
    "scrolled": false
   },
   "outputs": [
    {
     "data": {
      "text/html": [
       "<div>\n",
       "<style scoped>\n",
       "    .dataframe tbody tr th:only-of-type {\n",
       "        vertical-align: middle;\n",
       "    }\n",
       "\n",
       "    .dataframe tbody tr th {\n",
       "        vertical-align: top;\n",
       "    }\n",
       "\n",
       "    .dataframe thead th {\n",
       "        text-align: right;\n",
       "    }\n",
       "</style>\n",
       "<table border=\"1\" class=\"dataframe\">\n",
       "  <thead>\n",
       "    <tr style=\"text-align: right;\">\n",
       "      <th></th>\n",
       "      <th>Month</th>\n",
       "      <th>Machine Hours</th>\n",
       "      <th>Production Runs</th>\n",
       "      <th>Overhead Cost</th>\n",
       "    </tr>\n",
       "  </thead>\n",
       "  <tbody>\n",
       "    <tr>\n",
       "      <th>0</th>\n",
       "      <td>1</td>\n",
       "      <td>1539</td>\n",
       "      <td>31</td>\n",
       "      <td>99798</td>\n",
       "    </tr>\n",
       "    <tr>\n",
       "      <th>1</th>\n",
       "      <td>2</td>\n",
       "      <td>1284</td>\n",
       "      <td>29</td>\n",
       "      <td>87804</td>\n",
       "    </tr>\n",
       "    <tr>\n",
       "      <th>2</th>\n",
       "      <td>3</td>\n",
       "      <td>1490</td>\n",
       "      <td>27</td>\n",
       "      <td>93681</td>\n",
       "    </tr>\n",
       "    <tr>\n",
       "      <th>3</th>\n",
       "      <td>4</td>\n",
       "      <td>1355</td>\n",
       "      <td>22</td>\n",
       "      <td>82262</td>\n",
       "    </tr>\n",
       "    <tr>\n",
       "      <th>4</th>\n",
       "      <td>5</td>\n",
       "      <td>1500</td>\n",
       "      <td>35</td>\n",
       "      <td>106968</td>\n",
       "    </tr>\n",
       "  </tbody>\n",
       "</table>\n",
       "</div>"
      ],
      "text/plain": [
       "   Month  Machine Hours  Production Runs  Overhead Cost\n",
       "0      1           1539               31          99798\n",
       "1      2           1284               29          87804\n",
       "2      3           1490               27          93681\n",
       "3      4           1355               22          82262\n",
       "4      5           1500               35         106968"
      ]
     },
     "execution_count": 119,
     "metadata": {},
     "output_type": "execute_result"
    }
   ],
   "source": [
    "# Load the dataset\n",
    "MLRFactory_df = pd.read_csv(\"MLR_FactoryOverhead.csv\")\n",
    "MLRFactory_df.head(5)"
   ]
  },
  {
   "cell_type": "code",
   "execution_count": 19,
   "id": "985fb5ff",
   "metadata": {},
   "outputs": [
    {
     "data": {
      "text/html": [
       "<div>\n",
       "<style scoped>\n",
       "    .dataframe tbody tr th:only-of-type {\n",
       "        vertical-align: middle;\n",
       "    }\n",
       "\n",
       "    .dataframe tbody tr th {\n",
       "        vertical-align: top;\n",
       "    }\n",
       "\n",
       "    .dataframe thead th {\n",
       "        text-align: right;\n",
       "    }\n",
       "</style>\n",
       "<table border=\"1\" class=\"dataframe\">\n",
       "  <thead>\n",
       "    <tr style=\"text-align: right;\">\n",
       "      <th></th>\n",
       "      <th>Month</th>\n",
       "      <th>Machine Hours</th>\n",
       "      <th>Production Runs</th>\n",
       "      <th>Overhead Cost</th>\n",
       "    </tr>\n",
       "  </thead>\n",
       "  <tbody>\n",
       "    <tr>\n",
       "      <th>31</th>\n",
       "      <td>32</td>\n",
       "      <td>1536</td>\n",
       "      <td>28</td>\n",
       "      <td>102419</td>\n",
       "    </tr>\n",
       "    <tr>\n",
       "      <th>32</th>\n",
       "      <td>33</td>\n",
       "      <td>1678</td>\n",
       "      <td>41</td>\n",
       "      <td>117183</td>\n",
       "    </tr>\n",
       "    <tr>\n",
       "      <th>33</th>\n",
       "      <td>34</td>\n",
       "      <td>1723</td>\n",
       "      <td>35</td>\n",
       "      <td>107828</td>\n",
       "    </tr>\n",
       "    <tr>\n",
       "      <th>34</th>\n",
       "      <td>35</td>\n",
       "      <td>1413</td>\n",
       "      <td>30</td>\n",
       "      <td>88032</td>\n",
       "    </tr>\n",
       "    <tr>\n",
       "      <th>35</th>\n",
       "      <td>36</td>\n",
       "      <td>1390</td>\n",
       "      <td>54</td>\n",
       "      <td>117943</td>\n",
       "    </tr>\n",
       "  </tbody>\n",
       "</table>\n",
       "</div>"
      ],
      "text/plain": [
       "    Month  Machine Hours  Production Runs  Overhead Cost\n",
       "31     32           1536               28         102419\n",
       "32     33           1678               41         117183\n",
       "33     34           1723               35         107828\n",
       "34     35           1413               30          88032\n",
       "35     36           1390               54         117943"
      ]
     },
     "execution_count": 19,
     "metadata": {},
     "output_type": "execute_result"
    }
   ],
   "source": [
    "MLRFactory_df.tail(5)"
   ]
  },
  {
   "cell_type": "code",
   "execution_count": 6,
   "id": "8b96da23",
   "metadata": {},
   "outputs": [
    {
     "name": "stdout",
     "output_type": "stream",
     "text": [
      "                            OLS Regression Results                            \n",
      "==============================================================================\n",
      "Dep. Variable:          Overhead Cost   R-squared:                       0.399\n",
      "Model:                            OLS   Adj. R-squared:                  0.382\n",
      "Method:                 Least Squares   F-statistic:                     22.60\n",
      "Date:                Sun, 04 Sep 2022   Prob (F-statistic):           3.57e-05\n",
      "Time:                        20:36:59   Log-Likelihood:                -376.13\n",
      "No. Observations:                  36   AIC:                             756.3\n",
      "Df Residuals:                      34   BIC:                             759.4\n",
      "Df Model:                           1                                         \n",
      "Covariance Type:            nonrobust                                         \n",
      "=================================================================================\n",
      "                    coef    std err          t      P>|t|      [0.025      0.975]\n",
      "---------------------------------------------------------------------------------\n",
      "const          4.862e+04   1.07e+04      4.533      0.000    2.68e+04    7.04e+04\n",
      "Machine Hours    34.7022      7.300      4.754      0.000      19.867      49.537\n",
      "==============================================================================\n",
      "Omnibus:                        0.251   Durbin-Watson:                   2.451\n",
      "Prob(Omnibus):                  0.882   Jarque-Bera (JB):                0.140\n",
      "Skew:                           0.141   Prob(JB):                        0.933\n",
      "Kurtosis:                       2.886   Cond. No.                     1.10e+04\n",
      "==============================================================================\n",
      "\n",
      "Notes:\n",
      "[1] Standard Errors assume that the covariance matrix of the errors is correctly specified.\n",
      "[2] The condition number is large, 1.1e+04. This might indicate that there are\n",
      "strong multicollinearity or other numerical problems.\n"
     ]
    }
   ],
   "source": [
    "# Training a linear regression model1 Overhead = F (machine hours)\n",
    "Y = MLRFactory_df[\"Overhead Cost\"]\n",
    "\n",
    "X = MLRFactory_df[['Machine Hours']]\n",
    "X = sm.add_constant(X) # adding a constant\n",
    "\n",
    "reg_model1 = sm.OLS(Y,X).fit()\n",
    "print(reg_model1.summary())  "
   ]
  },
  {
   "cell_type": "code",
   "execution_count": 7,
   "id": "2ae496ca",
   "metadata": {},
   "outputs": [
    {
     "name": "stdout",
     "output_type": "stream",
     "text": [
      "                            OLS Regression Results                            \n",
      "==============================================================================\n",
      "Dep. Variable:          Overhead Cost   R-squared:                       0.271\n",
      "Model:                            OLS   Adj. R-squared:                  0.250\n",
      "Method:                 Least Squares   F-statistic:                     12.64\n",
      "Date:                Sun, 04 Sep 2022   Prob (F-statistic):            0.00114\n",
      "Time:                        20:37:35   Log-Likelihood:                -379.62\n",
      "No. Observations:                  36   AIC:                             763.2\n",
      "Df Residuals:                      34   BIC:                             766.4\n",
      "Df Model:                           1                                         \n",
      "Covariance Type:            nonrobust                                         \n",
      "===================================================================================\n",
      "                      coef    std err          t      P>|t|      [0.025      0.975]\n",
      "-----------------------------------------------------------------------------------\n",
      "const            7.561e+04   6808.611     11.104      0.000    6.18e+04    8.94e+04\n",
      "Production Runs   655.0707    184.275      3.555      0.001     280.579    1029.562\n",
      "==============================================================================\n",
      "Omnibus:                        0.597   Durbin-Watson:                   2.090\n",
      "Prob(Omnibus):                  0.742   Jarque-Bera (JB):                0.683\n",
      "Skew:                          -0.264   Prob(JB):                        0.711\n",
      "Kurtosis:                       2.580   Cond. No.                         160.\n",
      "==============================================================================\n",
      "\n",
      "Notes:\n",
      "[1] Standard Errors assume that the covariance matrix of the errors is correctly specified.\n"
     ]
    }
   ],
   "source": [
    "# Training a linear regression model2 Overhead = F (production runs)\n",
    "Y = MLRFactory_df[\"Overhead Cost\"]\n",
    "\n",
    "X = MLRFactory_df[['Production Runs']]\n",
    "X = sm.add_constant(X) # adding a constant\n",
    "\n",
    "reg_model2 = sm.OLS(Y,X).fit()\n",
    "print(reg_model2 .summary())  "
   ]
  },
  {
   "cell_type": "code",
   "execution_count": 8,
   "id": "1a83a334",
   "metadata": {},
   "outputs": [
    {
     "name": "stdout",
     "output_type": "stream",
     "text": [
      "                            OLS Regression Results                            \n",
      "==============================================================================\n",
      "Dep. Variable:          Overhead Cost   R-squared:                       0.866\n",
      "Model:                            OLS   Adj. R-squared:                  0.858\n",
      "Method:                 Least Squares   F-statistic:                     107.0\n",
      "Date:                Sun, 04 Sep 2022   Prob (F-statistic):           3.75e-15\n",
      "Time:                        20:37:53   Log-Likelihood:                -349.07\n",
      "No. Observations:                  36   AIC:                             704.1\n",
      "Df Residuals:                      33   BIC:                             708.9\n",
      "Df Model:                           2                                         \n",
      "Covariance Type:            nonrobust                                         \n",
      "===================================================================================\n",
      "                      coef    std err          t      P>|t|      [0.025      0.975]\n",
      "-----------------------------------------------------------------------------------\n",
      "const            3996.6782   6603.651      0.605      0.549   -9438.551    1.74e+04\n",
      "Production Runs   883.6179     82.251     10.743      0.000     716.276    1050.960\n",
      "Machine Hours      43.5364      3.589     12.129      0.000      36.234      50.839\n",
      "==============================================================================\n",
      "Omnibus:                        3.142   Durbin-Watson:                   1.313\n",
      "Prob(Omnibus):                  0.208   Jarque-Bera (JB):                2.259\n",
      "Skew:                          -0.609   Prob(JB):                        0.323\n",
      "Kurtosis:                       3.155   Cond. No.                     1.42e+04\n",
      "==============================================================================\n",
      "\n",
      "Notes:\n",
      "[1] Standard Errors assume that the covariance matrix of the errors is correctly specified.\n",
      "[2] The condition number is large, 1.42e+04. This might indicate that there are\n",
      "strong multicollinearity or other numerical problems.\n"
     ]
    }
   ],
   "source": [
    "# Training a linear regression combined model Overhead = F (machine hours, production runs)\n",
    "Y = MLRFactory_df[\"Overhead Cost\"]\n",
    "\n",
    "X = MLRFactory_df[['Production Runs', 'Machine Hours']]\n",
    "X = sm.add_constant(X) # adding a constant\n",
    "\n",
    "reg_modelCombined = sm.OLS(Y,X).fit()\n",
    "print(reg_modelCombined.summary())  "
   ]
  },
  {
   "cell_type": "code",
   "execution_count": 18,
   "id": "b3fdd83a",
   "metadata": {},
   "outputs": [
    {
     "data": {
      "text/plain": [
       "<seaborn.axisgrid.PairGrid at 0x26532fd6c40>"
      ]
     },
     "execution_count": 18,
     "metadata": {},
     "output_type": "execute_result"
    },
    {
     "data": {
      "image/png": "[encoded data removed]",
      "text/plain": [
       "<Figure size 540x540 with 12 Axes>"
      ]
     },
     "metadata": {
      "needs_background": "light"
     },
     "output_type": "display_data"
    }
   ],
   "source": [
    "sbn.pairplot(MLRFactory_df.drop(columns=\"Overhead Cost\"), diag_kind='kde')"
   ]
  },
  {
   "cell_type": "code",
   "execution_count": 20,
   "id": "e53c2b18",
   "metadata": {},
   "outputs": [
    {
     "data": {
      "text/html": [
       "<div>\n",
       "<style scoped>\n",
       "    .dataframe tbody tr th:only-of-type {\n",
       "        vertical-align: middle;\n",
       "    }\n",
       "\n",
       "    .dataframe tbody tr th {\n",
       "        vertical-align: top;\n",
       "    }\n",
       "\n",
       "    .dataframe thead th {\n",
       "        text-align: right;\n",
       "    }\n",
       "</style>\n",
       "<table border=\"1\" class=\"dataframe\">\n",
       "  <thead>\n",
       "    <tr style=\"text-align: right;\">\n",
       "      <th></th>\n",
       "      <th>Month</th>\n",
       "      <th>Machine Hours</th>\n",
       "      <th>Production Runs</th>\n",
       "    </tr>\n",
       "  </thead>\n",
       "  <tbody>\n",
       "    <tr>\n",
       "      <th>Month</th>\n",
       "      <td>1.000000</td>\n",
       "      <td>0.037230</td>\n",
       "      <td>0.192256</td>\n",
       "    </tr>\n",
       "    <tr>\n",
       "      <th>Machine Hours</th>\n",
       "      <td>0.037230</td>\n",
       "      <td>1.000000</td>\n",
       "      <td>-0.229093</td>\n",
       "    </tr>\n",
       "    <tr>\n",
       "      <th>Production Runs</th>\n",
       "      <td>0.192256</td>\n",
       "      <td>-0.229093</td>\n",
       "      <td>1.000000</td>\n",
       "    </tr>\n",
       "  </tbody>\n",
       "</table>\n",
       "</div>"
      ],
      "text/plain": [
       "                    Month  Machine Hours  Production Runs\n",
       "Month            1.000000       0.037230         0.192256\n",
       "Machine Hours    0.037230       1.000000        -0.229093\n",
       "Production Runs  0.192256      -0.229093         1.000000"
      ]
     },
     "execution_count": 20,
     "metadata": {},
     "output_type": "execute_result"
    }
   ],
   "source": [
    "MLRFactory_df.drop(columns=\"Overhead Cost\").corr()"
   ]
  },
  {
   "cell_type": "markdown",
   "id": "922a8778",
   "metadata": {},
   "source": [
    "How would you explain the additional lift in R-squared of the combined model vs each of the individual model?\n",
    "- We see that there is not much correlation between the other varaiables.\n",
    "- with the P-values on the combined model we also see that both  varaiable have pvalues less than 0.05 meaning they can predic Y well. \n",
    "- In general when a variable id added in the prdiction the R squared always increase because of the calulation woth the least squares equation\n",
    "- in this case there is a signigicant increase compared to both cases where we used only one varaiable. This high lif means that both varaiable will better predict machine hours and production hours will predic the overheaf cost weel than each varaible separatly. if the increase was noy that much we coudl have an indeication that one varaiable can do well in predicting the pverhead cost. \n"
   ]
  },
  {
   "cell_type": "markdown",
   "id": "547227aa",
   "metadata": {},
   "source": [
    "# Question2\n",
    "\n",
    "## Q2. MLR with categorical variables – Courier Service\n",
    "\n",
    "GoKart is a regional delivery service company providing different types of package\n",
    "delivery services. An analyst wants to *estimate the cost of shipping a package as function of cargo type*.\n",
    "Cost of 15 randomly chosen packages of approximately the same weight, shipped to\n",
    "almost similar distance, is provided in the file: MLR_CourierService.csv\n",
    "1. Estimate the appropriate multiple linear regression equation to predict the cost of shipping a package.\n",
    "2. Provide interpretation for the regression coefficients.\n",
    "3. Which cargo type is the costliest? Which one is least costly?\n",
    "4. How well does the regression fit the sample data? How can the goodness of fitness be improved\n",
    "5. Predict the cost of shipping a package with semi-fragile cargo\n"
   ]
  },
  {
   "cell_type": "code",
   "execution_count": 120,
   "id": "b73644d7",
   "metadata": {},
   "outputs": [],
   "source": [
    "import numpy as np\n",
    "import pandas as pd \n",
    "\n",
    "import seaborn as sbn \n",
    "import matplotlib.pyplot as plt\n",
    "\n",
    "import statsmodels.api as sm"
   ]
  },
  {
   "cell_type": "code",
   "execution_count": 121,
   "id": "1d8936e0",
   "metadata": {},
   "outputs": [
    {
     "data": {
      "text/html": [
       "<div>\n",
       "<style scoped>\n",
       "    .dataframe tbody tr th:only-of-type {\n",
       "        vertical-align: middle;\n",
       "    }\n",
       "\n",
       "    .dataframe tbody tr th {\n",
       "        vertical-align: top;\n",
       "    }\n",
       "\n",
       "    .dataframe thead th {\n",
       "        text-align: right;\n",
       "    }\n",
       "</style>\n",
       "<table border=\"1\" class=\"dataframe\">\n",
       "  <thead>\n",
       "    <tr style=\"text-align: right;\">\n",
       "      <th></th>\n",
       "      <th>Shipment</th>\n",
       "      <th>CargType</th>\n",
       "      <th>CosoShipment</th>\n",
       "    </tr>\n",
       "  </thead>\n",
       "  <tbody>\n",
       "    <tr>\n",
       "      <th>0</th>\n",
       "      <td>1</td>\n",
       "      <td>Semifragile</td>\n",
       "      <td>84.0</td>\n",
       "    </tr>\n",
       "  </tbody>\n",
       "</table>\n",
       "</div>"
      ],
      "text/plain": [
       "   Shipment     CargType  CosoShipment\n",
       "0         1  Semifragile          84.0"
      ]
     },
     "execution_count": 121,
     "metadata": {},
     "output_type": "execute_result"
    }
   ],
   "source": [
    "# Load the dataset\n",
    "CourierService_df = pd.read_csv(\"MLR_CourierService.csv\")\n",
    "CourierService_df.head(1)"
   ]
  },
  {
   "cell_type": "code",
   "execution_count": 122,
   "id": "13aad0c8",
   "metadata": {},
   "outputs": [
    {
     "data": {
      "text/html": [
       "<div>\n",
       "<style scoped>\n",
       "    .dataframe tbody tr th:only-of-type {\n",
       "        vertical-align: middle;\n",
       "    }\n",
       "\n",
       "    .dataframe tbody tr th {\n",
       "        vertical-align: top;\n",
       "    }\n",
       "\n",
       "    .dataframe thead th {\n",
       "        text-align: right;\n",
       "    }\n",
       "</style>\n",
       "<table border=\"1\" class=\"dataframe\">\n",
       "  <thead>\n",
       "    <tr style=\"text-align: right;\">\n",
       "      <th></th>\n",
       "      <th>Shipment</th>\n",
       "      <th>CosoShipment</th>\n",
       "    </tr>\n",
       "  </thead>\n",
       "  <tbody>\n",
       "    <tr>\n",
       "      <th>count</th>\n",
       "      <td>15.000000</td>\n",
       "      <td>15.000000</td>\n",
       "    </tr>\n",
       "    <tr>\n",
       "      <th>mean</th>\n",
       "      <td>8.000000</td>\n",
       "      <td>99.840000</td>\n",
       "    </tr>\n",
       "    <tr>\n",
       "      <th>std</th>\n",
       "      <td>4.472136</td>\n",
       "      <td>56.250623</td>\n",
       "    </tr>\n",
       "    <tr>\n",
       "      <th>min</th>\n",
       "      <td>1.000000</td>\n",
       "      <td>15.600000</td>\n",
       "    </tr>\n",
       "    <tr>\n",
       "      <th>25%</th>\n",
       "      <td>4.500000</td>\n",
       "      <td>59.400000</td>\n",
       "    </tr>\n",
       "    <tr>\n",
       "      <th>50%</th>\n",
       "      <td>8.000000</td>\n",
       "      <td>102.000000</td>\n",
       "    </tr>\n",
       "    <tr>\n",
       "      <th>75%</th>\n",
       "      <td>11.500000</td>\n",
       "      <td>135.600000</td>\n",
       "    </tr>\n",
       "    <tr>\n",
       "      <th>max</th>\n",
       "      <td>15.000000</td>\n",
       "      <td>206.400000</td>\n",
       "    </tr>\n",
       "  </tbody>\n",
       "</table>\n",
       "</div>"
      ],
      "text/plain": [
       "        Shipment  CosoShipment\n",
       "count  15.000000     15.000000\n",
       "mean    8.000000     99.840000\n",
       "std     4.472136     56.250623\n",
       "min     1.000000     15.600000\n",
       "25%     4.500000     59.400000\n",
       "50%     8.000000    102.000000\n",
       "75%    11.500000    135.600000\n",
       "max    15.000000    206.400000"
      ]
     },
     "execution_count": 122,
     "metadata": {},
     "output_type": "execute_result"
    }
   ],
   "source": [
    "CourierService_df.describe()"
   ]
  },
  {
   "cell_type": "code",
   "execution_count": 123,
   "id": "5b5b194a",
   "metadata": {},
   "outputs": [
    {
     "data": {
      "text/plain": [
       "Semifragile    5\n",
       "Durable        5\n",
       "Fragile        5\n",
       "Name: CargType, dtype: int64"
      ]
     },
     "execution_count": 123,
     "metadata": {},
     "output_type": "execute_result"
    }
   ],
   "source": [
    "CourierService_df[\"CargType\"].value_counts()"
   ]
  },
  {
   "cell_type": "markdown",
   "id": "9f420ce9",
   "metadata": {},
   "source": [
    "##  1. Estimate the appropriate multiple linear regression equation to  predict the cost of shipping a package"
   ]
  },
  {
   "cell_type": "code",
   "execution_count": 124,
   "id": "ec767f81",
   "metadata": {},
   "outputs": [
    {
     "name": "stdout",
     "output_type": "stream",
     "text": [
      "                            OLS Regression Results                            \n",
      "==============================================================================\n",
      "Dep. Variable:           CosoShipment   R-squared:                       0.774\n",
      "Model:                            OLS   Adj. R-squared:                  0.737\n",
      "Method:                 Least Squares   F-statistic:                     20.61\n",
      "Date:                Mon, 05 Sep 2022   Prob (F-statistic):           0.000132\n",
      "Time:                        12:54:49   Log-Likelihood:                -70.043\n",
      "No. Observations:                  15   AIC:                             146.1\n",
      "Df Residuals:                      12   BIC:                             148.2\n",
      "Df Model:                           2                                         \n",
      "Covariance Type:            nonrobust                                         \n",
      "====================================================================================\n",
      "                       coef    std err          t      P>|t|      [0.025      0.975]\n",
      "------------------------------------------------------------------------------------\n",
      "const               39.1200     12.903      3.032      0.010      11.006      67.234\n",
      "True_Fragile       116.8800     18.248      6.405      0.000      77.121     156.639\n",
      "True_Semifragile    65.2800     18.248      3.577      0.004      25.521     105.039\n",
      "==============================================================================\n",
      "Omnibus:                        2.879   Durbin-Watson:                   1.629\n",
      "Prob(Omnibus):                  0.237   Jarque-Bera (JB):                2.128\n",
      "Skew:                           0.879   Prob(JB):                        0.345\n",
      "Kurtosis:                       2.442   Cond. No.                         3.73\n",
      "==============================================================================\n",
      "\n",
      "Notes:\n",
      "[1] Standard Errors assume that the covariance matrix of the errors is correctly specified.\n"
     ]
    },
    {
     "name": "stderr",
     "output_type": "stream",
     "text": [
      "C:\\Users\\UKING14\\Anaconda3\\lib\\site-packages\\scipy\\stats\\stats.py:1541: UserWarning: kurtosistest only valid for n>=20 ... continuing anyway, n=15\n",
      "  warnings.warn(\"kurtosistest only valid for n>=20 ... continuing \"\n"
     ]
    }
   ],
   "source": [
    "\n",
    "#fixing the categorical data \n",
    "\n",
    "#CourierService_Cat_df=pd.get_dummies(CourierService_df[\"CargType\"],prefix=\"CargType\",drop_first=True)\n",
    "#add the categorical data to the other varaiables\n",
    "#CourierService_Cat_df.sample (2)\n",
    "Y=CourierService_df[\"CosoShipment\"]\n",
    "X=pd.get_dummies(CourierService_df[\"CargType\"],prefix=True, drop_first=True)\n",
    "X = sm.add_constant(X)\n",
    "CourierService_model = sm.OLS(Y,X).fit()\n",
    "print(CourierService_model.summary ())"
   ]
  },
  {
   "cell_type": "code",
   "execution_count": null,
   "id": "e6b0c57e",
   "metadata": {},
   "outputs": [],
   "source": []
  },
  {
   "cell_type": "code",
   "execution_count": null,
   "id": "ea24115e",
   "metadata": {},
   "outputs": [],
   "source": [
    "##  2. Provide interpretation for the regression coefficients \n",
    "The regression coefficients is about 77% "
   ]
  },
  {
   "cell_type": "code",
   "execution_count": null,
   "id": "846bad5a",
   "metadata": {},
   "outputs": [],
   "source": [
    "##  3.Which cargo type is the costliest? Which one is least costly?"
   ]
  },
  {
   "cell_type": "code",
   "execution_count": null,
   "id": "197de86f",
   "metadata": {},
   "outputs": [],
   "source": [
    "## 4. How well does the regression fit the sample data? How can the goodness of fitness be improved"
   ]
  },
  {
   "cell_type": "code",
   "execution_count": 88,
   "id": "fe0dcd30",
   "metadata": {},
   "outputs": [
    {
     "name": "stdout",
     "output_type": "stream",
     "text": [
      "Predicted cosyf of fragile cargo:$ 104.4\n"
     ]
    }
   ],
   "source": [
    "## 5. Predict the cost of shipping a package with semi-fragile cargo\n",
    "\n",
    "cargo_info = {\n",
    "    'const' : 1,\n",
    "    'True_Fragile' :0,\n",
    "    'True_Semifragile' : 1,\n",
    "    \n",
    "    }\n",
    "  \n",
    "x = pd.DataFrame(cargo_info, index=[0])\n",
    "predict_semiF=CourierService_model.predict(x)\n",
    "print(\"The Predicted cost  of fragile cargo is \",predict_semiF[0].round(1))"
   ]
  },
  {
   "cell_type": "markdown",
   "id": "c0c48cb6",
   "metadata": {},
   "source": [
    "# Question 3\n",
    "An HR analyst in Unitech Pvt Ltd, wants to predict the annual salaries of given employees using the potential explanatory variables in the file MLR_EmpSalary.csv\n",
    "\n",
    "1) Estimate the appropriate multiple linear regression equation to predict the salary of an Unitech employee using all explanatory variables.\n",
    "\n",
    "2) Do we need to exclude certain columns? Why?\n",
    "\n",
    "3) Which department employees are paid the highest? By how much?\n",
    "\n",
    "4) Do you see any discrimination in salaries earned by male and female employees?\n",
    "\n",
    "5) What would be the estimated salary of a Data Scientist (joining engineering) with 10 years of work experience. This woman has 18 years of total education, and will be supervising 4 junior employees."
   ]
  },
  {
   "cell_type": "markdown",
   "id": "238ec6b2",
   "metadata": {},
   "source": [
    "##  1. Estimate the appropriate multiple linear regression equation to predict the salary of an Unitech employee using all explanatory variables"
   ]
  },
  {
   "cell_type": "code",
   "execution_count": 278,
   "id": "dad42552",
   "metadata": {},
   "outputs": [],
   "source": [
    "# required libraries \n",
    "import numpy as np                  # math calculations\n",
    "import pandas as pd                 # loading data\n",
    "import statsmodels.api as sm        # modeling \n",
    "import seaborn as sbn               # visualization "
   ]
  },
  {
   "cell_type": "code",
   "execution_count": 279,
   "id": "8111edf0",
   "metadata": {
    "scrolled": false
   },
   "outputs": [
    {
     "data": {
      "text/html": [
       "<div>\n",
       "<style scoped>\n",
       "    .dataframe tbody tr th:only-of-type {\n",
       "        vertical-align: middle;\n",
       "    }\n",
       "\n",
       "    .dataframe tbody tr th {\n",
       "        vertical-align: top;\n",
       "    }\n",
       "\n",
       "    .dataframe thead th {\n",
       "        text-align: right;\n",
       "    }\n",
       "</style>\n",
       "<table border=\"1\" class=\"dataframe\">\n",
       "  <thead>\n",
       "    <tr style=\"text-align: right;\">\n",
       "      <th></th>\n",
       "      <th>Employee</th>\n",
       "      <th>Salary</th>\n",
       "      <th>PreviousExp</th>\n",
       "      <th>YearsEmployed</th>\n",
       "      <th>YearsEducation</th>\n",
       "      <th>DirectRepotees</th>\n",
       "      <th>Female</th>\n",
       "      <th>Male</th>\n",
       "      <th>Engineering</th>\n",
       "      <th>Sales</th>\n",
       "      <th>Other</th>\n",
       "    </tr>\n",
       "  </thead>\n",
       "  <tbody>\n",
       "    <tr>\n",
       "      <th>0</th>\n",
       "      <td>1</td>\n",
       "      <td>$65,487</td>\n",
       "      <td>0</td>\n",
       "      <td>27</td>\n",
       "      <td>22</td>\n",
       "      <td>44</td>\n",
       "      <td>0</td>\n",
       "      <td>1</td>\n",
       "      <td>1</td>\n",
       "      <td>0</td>\n",
       "      <td>0</td>\n",
       "    </tr>\n",
       "    <tr>\n",
       "      <th>1</th>\n",
       "      <td>2</td>\n",
       "      <td>$46,184</td>\n",
       "      <td>3</td>\n",
       "      <td>20</td>\n",
       "      <td>14</td>\n",
       "      <td>1</td>\n",
       "      <td>1</td>\n",
       "      <td>0</td>\n",
       "      <td>1</td>\n",
       "      <td>0</td>\n",
       "      <td>0</td>\n",
       "    </tr>\n",
       "    <tr>\n",
       "      <th>2</th>\n",
       "      <td>3</td>\n",
       "      <td>$32,782</td>\n",
       "      <td>1</td>\n",
       "      <td>0</td>\n",
       "      <td>17</td>\n",
       "      <td>0</td>\n",
       "      <td>1</td>\n",
       "      <td>0</td>\n",
       "      <td>0</td>\n",
       "      <td>1</td>\n",
       "      <td>0</td>\n",
       "    </tr>\n",
       "    <tr>\n",
       "      <th>3</th>\n",
       "      <td>4</td>\n",
       "      <td>$54,899</td>\n",
       "      <td>5</td>\n",
       "      <td>12</td>\n",
       "      <td>18</td>\n",
       "      <td>0</td>\n",
       "      <td>0</td>\n",
       "      <td>1</td>\n",
       "      <td>1</td>\n",
       "      <td>0</td>\n",
       "      <td>0</td>\n",
       "    </tr>\n",
       "    <tr>\n",
       "      <th>4</th>\n",
       "      <td>5</td>\n",
       "      <td>$34,869</td>\n",
       "      <td>5</td>\n",
       "      <td>7</td>\n",
       "      <td>14</td>\n",
       "      <td>1</td>\n",
       "      <td>0</td>\n",
       "      <td>1</td>\n",
       "      <td>1</td>\n",
       "      <td>0</td>\n",
       "      <td>0</td>\n",
       "    </tr>\n",
       "  </tbody>\n",
       "</table>\n",
       "</div>"
      ],
      "text/plain": [
       "   Employee   Salary  PreviousExp  YearsEmployed  YearsEducation  \\\n",
       "0         1  $65,487            0             27              22   \n",
       "1         2  $46,184            3             20              14   \n",
       "2         3  $32,782            1              0              17   \n",
       "3         4  $54,899            5             12              18   \n",
       "4         5  $34,869            5              7              14   \n",
       "\n",
       "   DirectRepotees  Female  Male  Engineering  Sales  Other  \n",
       "0              44       0     1            1      0      0  \n",
       "1               1       1     0            1      0      0  \n",
       "2               0       1     0            0      1      0  \n",
       "3               0       0     1            1      0      0  \n",
       "4               1       0     1            1      0      0  "
      ]
     },
     "execution_count": 279,
     "metadata": {},
     "output_type": "execute_result"
    }
   ],
   "source": [
    "# Read the EmpSalary dataset \n",
    "Empsalary_df = pd.read_csv(\"MLR_EmpSalary.csv\")       \n",
    "Empsalary_df.head(5) "
   ]
  },
  {
   "cell_type": "code",
   "execution_count": 280,
   "id": "2908a089",
   "metadata": {},
   "outputs": [
    {
     "data": {
      "text/plain": [
       "Employee           int64\n",
       "Salary            object\n",
       "PreviousExp        int64\n",
       "YearsEmployed      int64\n",
       "YearsEducation     int64\n",
       "DirectRepotees     int64\n",
       "Female             int64\n",
       "Male               int64\n",
       "Engineering        int64\n",
       "Sales              int64\n",
       "Other              int64\n",
       "dtype: object"
      ]
     },
     "execution_count": 280,
     "metadata": {},
     "output_type": "execute_result"
    }
   ],
   "source": [
    "#we first\n",
    "Empsalary_df.dtypes"
   ]
  },
  {
   "cell_type": "code",
   "execution_count": 281,
   "id": "75945b4f",
   "metadata": {},
   "outputs": [
    {
     "data": {
      "text/html": [
       "<div>\n",
       "<style scoped>\n",
       "    .dataframe tbody tr th:only-of-type {\n",
       "        vertical-align: middle;\n",
       "    }\n",
       "\n",
       "    .dataframe tbody tr th {\n",
       "        vertical-align: top;\n",
       "    }\n",
       "\n",
       "    .dataframe thead th {\n",
       "        text-align: right;\n",
       "    }\n",
       "</style>\n",
       "<table border=\"1\" class=\"dataframe\">\n",
       "  <thead>\n",
       "    <tr style=\"text-align: right;\">\n",
       "      <th></th>\n",
       "      <th>PreviousExp</th>\n",
       "      <th>YearsEmployed</th>\n",
       "      <th>YearsEducation</th>\n",
       "      <th>DirectRepotees</th>\n",
       "      <th>Male</th>\n",
       "      <th>Engineering</th>\n",
       "      <th>Sales</th>\n",
       "    </tr>\n",
       "  </thead>\n",
       "  <tbody>\n",
       "    <tr>\n",
       "      <th>45</th>\n",
       "      <td>3</td>\n",
       "      <td>1</td>\n",
       "      <td>12</td>\n",
       "      <td>0</td>\n",
       "      <td>1</td>\n",
       "      <td>1</td>\n",
       "      <td>0</td>\n",
       "    </tr>\n",
       "    <tr>\n",
       "      <th>19</th>\n",
       "      <td>9</td>\n",
       "      <td>19</td>\n",
       "      <td>14</td>\n",
       "      <td>6</td>\n",
       "      <td>0</td>\n",
       "      <td>0</td>\n",
       "      <td>0</td>\n",
       "    </tr>\n",
       "  </tbody>\n",
       "</table>\n",
       "</div>"
      ],
      "text/plain": [
       "    PreviousExp  YearsEmployed  YearsEducation  DirectRepotees  Male  \\\n",
       "45            3              1              12               0     1   \n",
       "19            9             19              14               6     0   \n",
       "\n",
       "    Engineering  Sales  \n",
       "45            1      0  \n",
       "19            0      0  "
      ]
     },
     "execution_count": 281,
     "metadata": {},
     "output_type": "execute_result"
    }
   ],
   "source": [
    "#Droping categorical varaiable to avoid multiplecollinearity\n",
    "X = Empsalary_df.drop([\"Employee\", \"Salary\",\"Female\", \"Other\"], axis=1)\n",
    "# Make salary  numeric datatype\n",
    "\n",
    "X.sample(2)"
   ]
  },
  {
   "cell_type": "code",
   "execution_count": 282,
   "id": "99b34737",
   "metadata": {},
   "outputs": [],
   "source": [
    "\n",
    "Empsalary_df = pd.read_csv(\"MLR_EmpSalary.csv\")  \n",
    "Empsalary_df[\"Salary\"] = Empsalary_df[\"Salary\"].apply(lambda x: int(x.replace('$','').replace(',','')))\n"
   ]
  },
  {
   "cell_type": "code",
   "execution_count": 283,
   "id": "c20d2dd2",
   "metadata": {
    "scrolled": false
   },
   "outputs": [
    {
     "name": "stdout",
     "output_type": "stream",
     "text": [
      "                            OLS Regression Results                            \n",
      "==============================================================================\n",
      "Dep. Variable:                 Salary   R-squared:                       0.846\n",
      "Model:                            OLS   Adj. R-squared:                  0.817\n",
      "Method:                 Least Squares   F-statistic:                     29.78\n",
      "Date:                Mon, 05 Sep 2022   Prob (F-statistic):           1.48e-13\n",
      "Time:                        15:50:10   Log-Likelihood:                -449.82\n",
      "No. Observations:                  46   AIC:                             915.6\n",
      "Df Residuals:                      38   BIC:                             930.3\n",
      "Df Model:                           7                                         \n",
      "Covariance Type:            nonrobust                                         \n",
      "==================================================================================\n",
      "                     coef    std err          t      P>|t|      [0.025      0.975]\n",
      "----------------------------------------------------------------------------------\n",
      "const           1.021e+04   4823.587      2.117      0.041     447.278       2e+04\n",
      "PreviousExp      -61.4031    200.339     -0.306      0.761    -466.967     344.161\n",
      "YearsEmployed    664.6281    117.548      5.654      0.000     426.664     902.592\n",
      "YearsEducation  1599.1368    339.386      4.712      0.000     912.086    2286.187\n",
      "DirectRepotees   130.0708     82.554      1.576      0.123     -37.050     297.192\n",
      "Male           -1882.4467   1459.718     -1.290      0.205   -4837.490    1072.597\n",
      "Engineering     1277.3730   1612.197      0.792      0.433   -1986.348    4541.094\n",
      "Sales          -6806.9673   1955.621     -3.481      0.001   -1.08e+04   -2848.019\n",
      "==============================================================================\n",
      "Omnibus:                        0.067   Durbin-Watson:                   2.720\n",
      "Prob(Omnibus):                  0.967   Jarque-Bera (JB):                0.225\n",
      "Skew:                           0.073   Prob(JB):                        0.894\n",
      "Kurtosis:                       2.690   Cond. No.                         149.\n",
      "==============================================================================\n",
      "\n",
      "Notes:\n",
      "[1] Standard Errors assume that the covariance matrix of the errors is correctly specified.\n"
     ]
    }
   ],
   "source": [
    "# we will start with a model that has all the varaibles and then  remove the variable wiht  high p-value\n",
    "\n",
    "Y = Empsalary_df[\"Salary\"]\n",
    "Xall = sm.add_constant(X)\n",
    "\n",
    "modelall = sm.OLS(Y, Xall).fit()\n",
    "print(modelall.summary())"
   ]
  },
  {
   "cell_type": "code",
   "execution_count": 213,
   "id": "ccbeef94",
   "metadata": {},
   "outputs": [
    {
     "data": {
      "text/html": [
       "<div>\n",
       "<style scoped>\n",
       "    .dataframe tbody tr th:only-of-type {\n",
       "        vertical-align: middle;\n",
       "    }\n",
       "\n",
       "    .dataframe tbody tr th {\n",
       "        vertical-align: top;\n",
       "    }\n",
       "\n",
       "    .dataframe thead th {\n",
       "        text-align: right;\n",
       "    }\n",
       "</style>\n",
       "<table border=\"1\" class=\"dataframe\">\n",
       "  <thead>\n",
       "    <tr style=\"text-align: right;\">\n",
       "      <th></th>\n",
       "      <th>const</th>\n",
       "      <th>PreviousExp</th>\n",
       "      <th>YearsEmployed</th>\n",
       "      <th>YearsEducation</th>\n",
       "      <th>DirectRepotees</th>\n",
       "      <th>Male</th>\n",
       "      <th>Engineering</th>\n",
       "      <th>Sales</th>\n",
       "    </tr>\n",
       "  </thead>\n",
       "  <tbody>\n",
       "    <tr>\n",
       "      <th>4</th>\n",
       "      <td>1.0</td>\n",
       "      <td>5</td>\n",
       "      <td>7</td>\n",
       "      <td>14</td>\n",
       "      <td>1</td>\n",
       "      <td>1</td>\n",
       "      <td>1</td>\n",
       "      <td>0</td>\n",
       "    </tr>\n",
       "    <tr>\n",
       "      <th>8</th>\n",
       "      <td>1.0</td>\n",
       "      <td>6</td>\n",
       "      <td>5</td>\n",
       "      <td>11</td>\n",
       "      <td>0</td>\n",
       "      <td>0</td>\n",
       "      <td>0</td>\n",
       "      <td>1</td>\n",
       "    </tr>\n",
       "  </tbody>\n",
       "</table>\n",
       "</div>"
      ],
      "text/plain": [
       "   const  PreviousExp  YearsEmployed  YearsEducation  DirectRepotees  Male  \\\n",
       "4    1.0            5              7              14               1     1   \n",
       "8    1.0            6              5              11               0     0   \n",
       "\n",
       "   Engineering  Sales  \n",
       "4            1      0  \n",
       "8            0      1  "
      ]
     },
     "execution_count": 213,
     "metadata": {},
     "output_type": "execute_result"
    }
   ],
   "source": [
    "Xall.sample(2)"
   ]
  },
  {
   "cell_type": "code",
   "execution_count": 284,
   "id": "0ca29c5d",
   "metadata": {},
   "outputs": [],
   "source": [
    "#I intentionaly did not check for multicolineraiy first to see\n",
    "#if I will be able to discart that varaiable too\n",
    "\n",
    "#The p-value of previous experience is  0.761 which greather than 0.05 we remove PreviousExp  from \n",
    "#the model and fit the model again\n",
    "# we drop previous experience \n",
    "\n",
    "#X_PreviousExp_removed = Xall.drop(\"PreviousExp\", axis=1, inplace=True)\n",
    "X_PreviousExp_removed = Xall.drop(columns=\"PreviousExp\", axis=1)\n",
    "\n",
    "#X_PreviousExp_removed.sample(2)"
   ]
  },
  {
   "cell_type": "code",
   "execution_count": 285,
   "id": "b660d38b",
   "metadata": {
    "scrolled": false
   },
   "outputs": [],
   "source": [
    "Y = Empsalary_df[\"Salary\"]"
   ]
  },
  {
   "cell_type": "code",
   "execution_count": 286,
   "id": "b90a6639",
   "metadata": {},
   "outputs": [
    {
     "data": {
      "text/html": [
       "<div>\n",
       "<style scoped>\n",
       "    .dataframe tbody tr th:only-of-type {\n",
       "        vertical-align: middle;\n",
       "    }\n",
       "\n",
       "    .dataframe tbody tr th {\n",
       "        vertical-align: top;\n",
       "    }\n",
       "\n",
       "    .dataframe thead th {\n",
       "        text-align: right;\n",
       "    }\n",
       "</style>\n",
       "<table border=\"1\" class=\"dataframe\">\n",
       "  <thead>\n",
       "    <tr style=\"text-align: right;\">\n",
       "      <th></th>\n",
       "      <th>const</th>\n",
       "      <th>YearsEmployed</th>\n",
       "      <th>YearsEducation</th>\n",
       "      <th>DirectRepotees</th>\n",
       "      <th>Male</th>\n",
       "      <th>Engineering</th>\n",
       "      <th>Sales</th>\n",
       "    </tr>\n",
       "  </thead>\n",
       "  <tbody>\n",
       "    <tr>\n",
       "      <th>0</th>\n",
       "      <td>1.0</td>\n",
       "      <td>27</td>\n",
       "      <td>22</td>\n",
       "      <td>44</td>\n",
       "      <td>1</td>\n",
       "      <td>1</td>\n",
       "      <td>0</td>\n",
       "    </tr>\n",
       "    <tr>\n",
       "      <th>1</th>\n",
       "      <td>1.0</td>\n",
       "      <td>20</td>\n",
       "      <td>14</td>\n",
       "      <td>1</td>\n",
       "      <td>0</td>\n",
       "      <td>1</td>\n",
       "      <td>0</td>\n",
       "    </tr>\n",
       "    <tr>\n",
       "      <th>2</th>\n",
       "      <td>1.0</td>\n",
       "      <td>0</td>\n",
       "      <td>17</td>\n",
       "      <td>0</td>\n",
       "      <td>0</td>\n",
       "      <td>0</td>\n",
       "      <td>1</td>\n",
       "    </tr>\n",
       "    <tr>\n",
       "      <th>3</th>\n",
       "      <td>1.0</td>\n",
       "      <td>12</td>\n",
       "      <td>18</td>\n",
       "      <td>0</td>\n",
       "      <td>1</td>\n",
       "      <td>1</td>\n",
       "      <td>0</td>\n",
       "    </tr>\n",
       "    <tr>\n",
       "      <th>4</th>\n",
       "      <td>1.0</td>\n",
       "      <td>7</td>\n",
       "      <td>14</td>\n",
       "      <td>1</td>\n",
       "      <td>1</td>\n",
       "      <td>1</td>\n",
       "      <td>0</td>\n",
       "    </tr>\n",
       "  </tbody>\n",
       "</table>\n",
       "</div>"
      ],
      "text/plain": [
       "   const  YearsEmployed  YearsEducation  DirectRepotees  Male  Engineering  \\\n",
       "0    1.0             27              22              44     1            1   \n",
       "1    1.0             20              14               1     0            1   \n",
       "2    1.0              0              17               0     0            0   \n",
       "3    1.0             12              18               0     1            1   \n",
       "4    1.0              7              14               1     1            1   \n",
       "\n",
       "   Sales  \n",
       "0      0  \n",
       "1      0  \n",
       "2      1  \n",
       "3      0  \n",
       "4      0  "
      ]
     },
     "execution_count": 286,
     "metadata": {},
     "output_type": "execute_result"
    }
   ],
   "source": [
    "X_PreviousExp_removed.head()"
   ]
  },
  {
   "cell_type": "code",
   "execution_count": 287,
   "id": "3c9a9090",
   "metadata": {
    "scrolled": true
   },
   "outputs": [
    {
     "name": "stdout",
     "output_type": "stream",
     "text": [
      "                            OLS Regression Results                            \n",
      "==============================================================================\n",
      "Dep. Variable:                 Salary   R-squared:                       0.845\n",
      "Model:                            OLS   Adj. R-squared:                  0.822\n",
      "Method:                 Least Squares   F-statistic:                     35.56\n",
      "Date:                Mon, 05 Sep 2022   Prob (F-statistic):           2.47e-14\n",
      "Time:                        15:50:39   Log-Likelihood:                -449.88\n",
      "No. Observations:                  46   AIC:                             913.8\n",
      "Df Residuals:                      39   BIC:                             926.6\n",
      "Df Model:                           6                                         \n",
      "Covariance Type:            nonrobust                                         \n",
      "==================================================================================\n",
      "                     coef    std err          t      P>|t|      [0.025      0.975]\n",
      "----------------------------------------------------------------------------------\n",
      "const           9871.4229   4638.916      2.128      0.040     488.331    1.93e+04\n",
      "YearsEmployed    667.1579    115.888      5.757      0.000     432.752     901.563\n",
      "YearsEducation  1601.9920    335.294      4.778      0.000     923.796    2280.188\n",
      "DirectRepotees   124.3685     79.490      1.565      0.126     -36.415     285.152\n",
      "Male           -1790.9146   1412.147     -1.268      0.212   -4647.251    1065.422\n",
      "Engineering     1271.7246   1593.255      0.798      0.430   -1950.938    4494.387\n",
      "Sales          -6899.6526   1909.524     -3.613      0.001   -1.08e+04   -3037.276\n",
      "==============================================================================\n",
      "Omnibus:                        0.069   Durbin-Watson:                   2.736\n",
      "Prob(Omnibus):                  0.966   Jarque-Bera (JB):                0.237\n",
      "Skew:                           0.069   Prob(JB):                        0.888\n",
      "Kurtosis:                       2.676   Cond. No.                         142.\n",
      "==============================================================================\n",
      "\n",
      "Notes:\n",
      "[1] Standard Errors assume that the covariance matrix of the errors is correctly specified.\n"
     ]
    }
   ],
   "source": [
    "\n",
    "modelprv_Removed = sm.OLS(Y, X_PreviousExp_removed).fit()\n",
    "print(modelprv_Removed.summary())\n",
    "\n",
    "\n",
    "\n"
   ]
  },
  {
   "cell_type": "code",
   "execution_count": 288,
   "id": "1f5547f2",
   "metadata": {},
   "outputs": [],
   "source": [
    "#Engineering to be removed and model fit again\n",
    "X_Eng_removed = X_PreviousExp_removed.drop(columns=\"Engineering\", axis=1)\n",
    "\n"
   ]
  },
  {
   "cell_type": "code",
   "execution_count": 289,
   "id": "f5e6d105",
   "metadata": {},
   "outputs": [
    {
     "data": {
      "text/html": [
       "<div>\n",
       "<style scoped>\n",
       "    .dataframe tbody tr th:only-of-type {\n",
       "        vertical-align: middle;\n",
       "    }\n",
       "\n",
       "    .dataframe tbody tr th {\n",
       "        vertical-align: top;\n",
       "    }\n",
       "\n",
       "    .dataframe thead th {\n",
       "        text-align: right;\n",
       "    }\n",
       "</style>\n",
       "<table border=\"1\" class=\"dataframe\">\n",
       "  <thead>\n",
       "    <tr style=\"text-align: right;\">\n",
       "      <th></th>\n",
       "      <th>const</th>\n",
       "      <th>YearsEmployed</th>\n",
       "      <th>YearsEducation</th>\n",
       "      <th>DirectRepotees</th>\n",
       "      <th>Male</th>\n",
       "      <th>Sales</th>\n",
       "    </tr>\n",
       "  </thead>\n",
       "  <tbody>\n",
       "    <tr>\n",
       "      <th>0</th>\n",
       "      <td>1.0</td>\n",
       "      <td>27</td>\n",
       "      <td>22</td>\n",
       "      <td>44</td>\n",
       "      <td>1</td>\n",
       "      <td>0</td>\n",
       "    </tr>\n",
       "    <tr>\n",
       "      <th>1</th>\n",
       "      <td>1.0</td>\n",
       "      <td>20</td>\n",
       "      <td>14</td>\n",
       "      <td>1</td>\n",
       "      <td>0</td>\n",
       "      <td>0</td>\n",
       "    </tr>\n",
       "  </tbody>\n",
       "</table>\n",
       "</div>"
      ],
      "text/plain": [
       "   const  YearsEmployed  YearsEducation  DirectRepotees  Male  Sales\n",
       "0    1.0             27              22              44     1      0\n",
       "1    1.0             20              14               1     0      0"
      ]
     },
     "execution_count": 289,
     "metadata": {},
     "output_type": "execute_result"
    }
   ],
   "source": [
    "X_Eng_removed.head(2)"
   ]
  },
  {
   "cell_type": "code",
   "execution_count": 290,
   "id": "2dcf7a90",
   "metadata": {},
   "outputs": [],
   "source": [
    "Y = Empsalary_df[\"Salary\"]"
   ]
  },
  {
   "cell_type": "code",
   "execution_count": 222,
   "id": "d18b63c4",
   "metadata": {},
   "outputs": [
    {
     "name": "stdout",
     "output_type": "stream",
     "text": [
      "                            OLS Regression Results                            \n",
      "==============================================================================\n",
      "Dep. Variable:                 Salary   R-squared:                       0.843\n",
      "Model:                            OLS   Adj. R-squared:                  0.823\n",
      "Method:                 Least Squares   F-statistic:                     42.93\n",
      "Date:                Mon, 05 Sep 2022   Prob (F-statistic):           4.83e-15\n",
      "Time:                        13:58:16   Log-Likelihood:                -450.25\n",
      "No. Observations:                  46   AIC:                             912.5\n",
      "Df Residuals:                      40   BIC:                             923.5\n",
      "Df Model:                           5                                         \n",
      "Covariance Type:            nonrobust                                         \n",
      "==================================================================================\n",
      "                     coef    std err          t      P>|t|      [0.025      0.975]\n",
      "----------------------------------------------------------------------------------\n",
      "const           1.052e+04   4546.822      2.313      0.026    1328.769    1.97e+04\n",
      "YearsEmployed    670.7064    115.276      5.818      0.000     437.725     903.688\n",
      "YearsEducation  1603.7493    333.762      4.805      0.000     929.191    2278.308\n",
      "DirectRepotees   131.7961     78.585      1.677      0.101     -27.029     290.621\n",
      "Male           -1817.4291   1405.338     -1.293      0.203   -4657.723    1022.864\n",
      "Sales          -7631.0018   1667.720     -4.576      0.000    -1.1e+04   -4260.413\n",
      "==============================================================================\n",
      "Omnibus:                        0.032   Durbin-Watson:                   2.722\n",
      "Prob(Omnibus):                  0.984   Jarque-Bera (JB):                0.209\n",
      "Skew:                          -0.032   Prob(JB):                        0.901\n",
      "Kurtosis:                       2.676   Cond. No.                         139.\n",
      "==============================================================================\n",
      "\n",
      "Notes:\n",
      "[1] Standard Errors assume that the covariance matrix of the errors is correctly specified.\n"
     ]
    }
   ],
   "source": [
    "modelEng_Removed = sm.OLS(Y, X_Eng_removed).fit()\n",
    "print(modelEng_Removed.summary())"
   ]
  },
  {
   "cell_type": "code",
   "execution_count": null,
   "id": "d5ef17e3",
   "metadata": {},
   "outputs": [],
   "source": [
    "#male  with high p value to be reoved and model fit again"
   ]
  },
  {
   "cell_type": "code",
   "execution_count": 291,
   "id": "68f7bf1a",
   "metadata": {},
   "outputs": [],
   "source": [
    "X_Male_removed = X_Eng_removed.drop(columns=\"Male\", axis=1)"
   ]
  },
  {
   "cell_type": "code",
   "execution_count": null,
   "id": "eb32107e",
   "metadata": {},
   "outputs": [],
   "source": []
  },
  {
   "cell_type": "code",
   "execution_count": 227,
   "id": "83492a1b",
   "metadata": {},
   "outputs": [
    {
     "data": {
      "text/html": [
       "<div>\n",
       "<style scoped>\n",
       "    .dataframe tbody tr th:only-of-type {\n",
       "        vertical-align: middle;\n",
       "    }\n",
       "\n",
       "    .dataframe tbody tr th {\n",
       "        vertical-align: top;\n",
       "    }\n",
       "\n",
       "    .dataframe thead th {\n",
       "        text-align: right;\n",
       "    }\n",
       "</style>\n",
       "<table border=\"1\" class=\"dataframe\">\n",
       "  <thead>\n",
       "    <tr style=\"text-align: right;\">\n",
       "      <th></th>\n",
       "      <th>const</th>\n",
       "      <th>YearsEmployed</th>\n",
       "      <th>YearsEducation</th>\n",
       "      <th>DirectRepotees</th>\n",
       "      <th>Sales</th>\n",
       "    </tr>\n",
       "  </thead>\n",
       "  <tbody>\n",
       "    <tr>\n",
       "      <th>0</th>\n",
       "      <td>1.0</td>\n",
       "      <td>27</td>\n",
       "      <td>22</td>\n",
       "      <td>44</td>\n",
       "      <td>0</td>\n",
       "    </tr>\n",
       "    <tr>\n",
       "      <th>1</th>\n",
       "      <td>1.0</td>\n",
       "      <td>20</td>\n",
       "      <td>14</td>\n",
       "      <td>1</td>\n",
       "      <td>0</td>\n",
       "    </tr>\n",
       "  </tbody>\n",
       "</table>\n",
       "</div>"
      ],
      "text/plain": [
       "   const  YearsEmployed  YearsEducation  DirectRepotees  Sales\n",
       "0    1.0             27              22              44      0\n",
       "1    1.0             20              14               1      0"
      ]
     },
     "execution_count": 227,
     "metadata": {},
     "output_type": "execute_result"
    }
   ],
   "source": [
    "X_Male_removed.head(2)"
   ]
  },
  {
   "cell_type": "code",
   "execution_count": 298,
   "id": "7fe13309",
   "metadata": {},
   "outputs": [
    {
     "name": "stdout",
     "output_type": "stream",
     "text": [
      "                            OLS Regression Results                            \n",
      "==============================================================================\n",
      "Dep. Variable:                 Salary   R-squared:                       0.836\n",
      "Model:                            OLS   Adj. R-squared:                  0.820\n",
      "Method:                 Least Squares   F-statistic:                     52.39\n",
      "Date:                Mon, 05 Sep 2022   Prob (F-statistic):           1.39e-15\n",
      "Time:                        15:59:24   Log-Likelihood:                -451.19\n",
      "No. Observations:                  46   AIC:                             912.4\n",
      "Df Residuals:                      41   BIC:                             921.5\n",
      "Df Model:                           4                                         \n",
      "Covariance Type:            nonrobust                                         \n",
      "==================================================================================\n",
      "                     coef    std err          t      P>|t|      [0.025      0.975]\n",
      "----------------------------------------------------------------------------------\n",
      "const           8918.7405   4411.105      2.022      0.050      10.333    1.78e+04\n",
      "YearsEmployed    687.7207    115.458      5.956      0.000     454.548     920.893\n",
      "YearsEducation  1637.8637    335.436      4.883      0.000     960.438    2315.290\n",
      "DirectRepotees   132.2483     79.226      1.669      0.103     -27.751     292.248\n",
      "Sales          -7455.7970   1675.784     -4.449      0.000   -1.08e+04   -4071.482\n",
      "==============================================================================\n",
      "Omnibus:                        0.011   Durbin-Watson:                   2.739\n",
      "Prob(Omnibus):                  0.995   Jarque-Bera (JB):                0.173\n",
      "Skew:                           0.005   Prob(JB):                        0.917\n",
      "Kurtosis:                       2.699   Cond. No.                         134.\n",
      "==============================================================================\n",
      "\n",
      "Notes:\n",
      "[1] Standard Errors assume that the covariance matrix of the errors is correctly specified.\n"
     ]
    }
   ],
   "source": [
    "modelMale_Removed = sm.OLS(Y,X_Male_removed).fit()\n",
    "print(modelMale_Removed.summary())"
   ]
  },
  {
   "cell_type": "code",
   "execution_count": 231,
   "id": "5644b748",
   "metadata": {},
   "outputs": [
    {
     "data": {
      "text/plain": [
       "const             41.190765\n",
       "YearsEmployed      1.595104\n",
       "YearsEducation     1.878616\n",
       "DirectRepotees     1.357537\n",
       "Sales              1.011412\n",
       "dtype: float64"
      ]
     },
     "execution_count": 231,
     "metadata": {},
     "output_type": "execute_result"
    }
   ],
   "source": [
    " # Check for multicollinearity\n",
    "\n",
    "from statsmodels.stats.outliers_influence import variance_inflation_factor\n",
    "pd.Series([variance_inflation_factor(X_Male_removed.values, i) \n",
    "               for i in range(X_Male_removed.shape[1])], \n",
    "               index=X_Male_removed.columns)"
   ]
  },
  {
   "cell_type": "code",
   "execution_count": null,
   "id": "47ec84ea",
   "metadata": {},
   "outputs": [],
   "source": [
    "Question ? does ot make a difference the check multicollinearity before ? since now there not much of multicollinearity\n",
    "bewteen the independant variable only the the constant value . \n"
   ]
  },
  {
   "cell_type": "code",
   "execution_count": 232,
   "id": "13aac757",
   "metadata": {},
   "outputs": [],
   "source": [
    "#try to drop the constant and reschecck \n",
    "X_Male_constant  = X_Male_removed.drop(columns=\"const\", axis=1)\n",
    "\n"
   ]
  },
  {
   "cell_type": "code",
   "execution_count": 233,
   "id": "55f3fc28",
   "metadata": {},
   "outputs": [
    {
     "data": {
      "text/html": [
       "<div>\n",
       "<style scoped>\n",
       "    .dataframe tbody tr th:only-of-type {\n",
       "        vertical-align: middle;\n",
       "    }\n",
       "\n",
       "    .dataframe tbody tr th {\n",
       "        vertical-align: top;\n",
       "    }\n",
       "\n",
       "    .dataframe thead th {\n",
       "        text-align: right;\n",
       "    }\n",
       "</style>\n",
       "<table border=\"1\" class=\"dataframe\">\n",
       "  <thead>\n",
       "    <tr style=\"text-align: right;\">\n",
       "      <th></th>\n",
       "      <th>YearsEmployed</th>\n",
       "      <th>YearsEducation</th>\n",
       "      <th>DirectRepotees</th>\n",
       "      <th>Sales</th>\n",
       "    </tr>\n",
       "  </thead>\n",
       "  <tbody>\n",
       "    <tr>\n",
       "      <th>0</th>\n",
       "      <td>27</td>\n",
       "      <td>22</td>\n",
       "      <td>44</td>\n",
       "      <td>0</td>\n",
       "    </tr>\n",
       "    <tr>\n",
       "      <th>1</th>\n",
       "      <td>20</td>\n",
       "      <td>14</td>\n",
       "      <td>1</td>\n",
       "      <td>0</td>\n",
       "    </tr>\n",
       "  </tbody>\n",
       "</table>\n",
       "</div>"
      ],
      "text/plain": [
       "   YearsEmployed  YearsEducation  DirectRepotees  Sales\n",
       "0             27              22              44      0\n",
       "1             20              14               1      0"
      ]
     },
     "execution_count": 233,
     "metadata": {},
     "output_type": "execute_result"
    }
   ],
   "source": [
    "X_Male_constant .head(2)"
   ]
  },
  {
   "cell_type": "code",
   "execution_count": 234,
   "id": "c009d7b1",
   "metadata": {},
   "outputs": [
    {
     "data": {
      "text/plain": [
       "YearsEmployed     4.032763\n",
       "YearsEducation    4.263188\n",
       "DirectRepotees    1.559763\n",
       "Sales             1.284516\n",
       "dtype: float64"
      ]
     },
     "execution_count": 234,
     "metadata": {},
     "output_type": "execute_result"
    }
   ],
   "source": [
    " # Check for multicollinearity\n",
    "\n",
    "from statsmodels.stats.outliers_influence import variance_inflation_factor\n",
    "pd.Series([variance_inflation_factor(X_Male_constant.values, i) \n",
    "               for i in range(X_Male_constant.shape[1])], \n",
    "               index=X_Male_constant.columns)"
   ]
  },
  {
   "cell_type": "code",
   "execution_count": 235,
   "id": "af9068a2",
   "metadata": {
    "scrolled": true
   },
   "outputs": [
    {
     "data": {
      "text/html": [
       "<div>\n",
       "<style scoped>\n",
       "    .dataframe tbody tr th:only-of-type {\n",
       "        vertical-align: middle;\n",
       "    }\n",
       "\n",
       "    .dataframe tbody tr th {\n",
       "        vertical-align: top;\n",
       "    }\n",
       "\n",
       "    .dataframe thead th {\n",
       "        text-align: right;\n",
       "    }\n",
       "</style>\n",
       "<table border=\"1\" class=\"dataframe\">\n",
       "  <thead>\n",
       "    <tr style=\"text-align: right;\">\n",
       "      <th></th>\n",
       "      <th>const</th>\n",
       "      <th>YearsEmployed</th>\n",
       "      <th>DirectRepotees</th>\n",
       "      <th>Sales</th>\n",
       "    </tr>\n",
       "  </thead>\n",
       "  <tbody>\n",
       "    <tr>\n",
       "      <th>0</th>\n",
       "      <td>1.0</td>\n",
       "      <td>27</td>\n",
       "      <td>44</td>\n",
       "      <td>0</td>\n",
       "    </tr>\n",
       "    <tr>\n",
       "      <th>1</th>\n",
       "      <td>1.0</td>\n",
       "      <td>20</td>\n",
       "      <td>1</td>\n",
       "      <td>0</td>\n",
       "    </tr>\n",
       "  </tbody>\n",
       "</table>\n",
       "</div>"
      ],
      "text/plain": [
       "   const  YearsEmployed  DirectRepotees  Sales\n",
       "0    1.0             27              44      0\n",
       "1    1.0             20               1      0"
      ]
     },
     "execution_count": 235,
     "metadata": {},
     "output_type": "execute_result"
    }
   ],
   "source": [
    "#year of education has the hoghest value will remove from the model amd train again \n",
    "X_YEd_removed = X_Male_removed.drop(columns=\"YearsEducation\", axis=1)\n",
    "X_YEd_removed.head(2)\n"
   ]
  },
  {
   "cell_type": "code",
   "execution_count": 236,
   "id": "9daa65f8",
   "metadata": {},
   "outputs": [
    {
     "name": "stdout",
     "output_type": "stream",
     "text": [
      "                            OLS Regression Results                            \n",
      "==============================================================================\n",
      "Dep. Variable:                 Salary   R-squared:                       0.741\n",
      "Model:                            OLS   Adj. R-squared:                  0.723\n",
      "Method:                 Least Squares   F-statistic:                     40.10\n",
      "Date:                Mon, 05 Sep 2022   Prob (F-statistic):           2.15e-12\n",
      "Time:                        14:17:27   Log-Likelihood:                -461.73\n",
      "No. Observations:                  46   AIC:                             931.5\n",
      "Df Residuals:                      42   BIC:                             938.8\n",
      "Df Model:                           3                                         \n",
      "Covariance Type:            nonrobust                                         \n",
      "==================================================================================\n",
      "                     coef    std err          t      P>|t|      [0.025      0.975]\n",
      "----------------------------------------------------------------------------------\n",
      "const           2.962e+04   1513.081     19.576      0.000    2.66e+04    3.27e+04\n",
      "YearsEmployed    988.6827    121.306      8.150      0.000     743.877    1233.488\n",
      "DirectRepotees   284.5220     90.492      3.144      0.003     101.902     467.142\n",
      "Sales          -7464.0658   2082.190     -3.585      0.001   -1.17e+04   -3262.036\n",
      "==============================================================================\n",
      "Omnibus:                        5.493   Durbin-Watson:                   2.095\n",
      "Prob(Omnibus):                  0.064   Jarque-Bera (JB):                4.284\n",
      "Skew:                           0.678   Prob(JB):                        0.117\n",
      "Kurtosis:                       3.628   Cond. No.                         38.8\n",
      "==============================================================================\n",
      "\n",
      "Notes:\n",
      "[1] Standard Errors assume that the covariance matrix of the errors is correctly specified.\n"
     ]
    }
   ],
   "source": [
    "modelYEd_removed = sm.OLS(Y,X_YEd_removed).fit()\n",
    "print(modelYEd_removed.summary())"
   ]
  },
  {
   "cell_type": "code",
   "execution_count": null,
   "id": "155d623e",
   "metadata": {},
   "outputs": [],
   "source": [
    "As I removed the year of education my R saquarred decreased ?? shoud I keep it instead ? \n",
    "shoud we check for multipleColiearity before or after? \n"
   ]
  },
  {
   "cell_type": "markdown",
   "id": "2fb8baa5",
   "metadata": {},
   "source": [
    "2) Do we need to exclude certain columns? Why?\n",
    "Note I still have to master other conditions ...\n",
    "Based on the Pvalues we can removed the previous experinece, male amd emgineering because they do not change the R squarred that much when thet are removed from the model. \n",
    "Unlike the example we did in class I will not remove years of education that quickly I need to further explore it because it decreases the squared when removed from the model. \n"
   ]
  },
  {
   "cell_type": "markdown",
   "id": "048b93ac",
   "metadata": {},
   "source": [
    "3) Which department employees are paid the highest? By how much?\n",
    "\n",
    "yes we shoud remove some such as the "
   ]
  },
  {
   "cell_type": "code",
   "execution_count": 238,
   "id": "a49f2ff6",
   "metadata": {},
   "outputs": [
    {
     "data": {
      "text/html": [
       "<div>\n",
       "<style scoped>\n",
       "    .dataframe tbody tr th:only-of-type {\n",
       "        vertical-align: middle;\n",
       "    }\n",
       "\n",
       "    .dataframe tbody tr th {\n",
       "        vertical-align: top;\n",
       "    }\n",
       "\n",
       "    .dataframe thead th {\n",
       "        text-align: right;\n",
       "    }\n",
       "</style>\n",
       "<table border=\"1\" class=\"dataframe\">\n",
       "  <thead>\n",
       "    <tr style=\"text-align: right;\">\n",
       "      <th></th>\n",
       "      <th>Employee</th>\n",
       "      <th>Salary</th>\n",
       "      <th>PreviousExp</th>\n",
       "      <th>YearsEmployed</th>\n",
       "      <th>YearsEducation</th>\n",
       "      <th>DirectRepotees</th>\n",
       "      <th>Female</th>\n",
       "      <th>Male</th>\n",
       "      <th>Engineering</th>\n",
       "      <th>Sales</th>\n",
       "      <th>Other</th>\n",
       "    </tr>\n",
       "  </thead>\n",
       "  <tbody>\n",
       "    <tr>\n",
       "      <th>10</th>\n",
       "      <td>11</td>\n",
       "      <td>23654</td>\n",
       "      <td>0</td>\n",
       "      <td>0</td>\n",
       "      <td>10</td>\n",
       "      <td>2</td>\n",
       "      <td>0</td>\n",
       "      <td>1</td>\n",
       "      <td>0</td>\n",
       "      <td>0</td>\n",
       "      <td>1</td>\n",
       "    </tr>\n",
       "    <tr>\n",
       "      <th>15</th>\n",
       "      <td>16</td>\n",
       "      <td>35468</td>\n",
       "      <td>5</td>\n",
       "      <td>9</td>\n",
       "      <td>14</td>\n",
       "      <td>5</td>\n",
       "      <td>0</td>\n",
       "      <td>1</td>\n",
       "      <td>0</td>\n",
       "      <td>0</td>\n",
       "      <td>1</td>\n",
       "    </tr>\n",
       "  </tbody>\n",
       "</table>\n",
       "</div>"
      ],
      "text/plain": [
       "    Employee  Salary  PreviousExp  YearsEmployed  YearsEducation  \\\n",
       "10        11   23654            0              0              10   \n",
       "15        16   35468            5              9              14   \n",
       "\n",
       "    DirectRepotees  Female  Male  Engineering  Sales  Other  \n",
       "10               2       0     1            0      0      1  \n",
       "15               5       0     1            0      0      1  "
      ]
     },
     "execution_count": 238,
     "metadata": {},
     "output_type": "execute_result"
    }
   ],
   "source": [
    "Empsalary_df = pd.read_csv(\"MLR_EmpSalary.csv\")  \n",
    "Empsalary_df[\"Salary\"] = Empsalary_df[\"Salary\"].apply(lambda x: int(x.replace('$','').replace(',','')))\n",
    "Empsalary_df.sample(2)\n",
    "\n",
    "#I am not sure how to answer the question I am justiking the category that has the gihest pay"
   ]
  },
  {
   "cell_type": "code",
   "execution_count": 247,
   "id": "64c6c73d",
   "metadata": {},
   "outputs": [
    {
     "data": {
      "text/plain": [
       "46184"
      ]
     },
     "execution_count": 247,
     "metadata": {},
     "output_type": "execute_result"
    }
   ],
   "source": [
    "EmpsalaryEng_df.query(\"Engineering\")['Salary'].max()"
   ]
  },
  {
   "cell_type": "code",
   "execution_count": 248,
   "id": "68611845",
   "metadata": {},
   "outputs": [
    {
     "data": {
      "text/plain": [
       "65487"
      ]
     },
     "execution_count": 248,
     "metadata": {},
     "output_type": "execute_result"
    }
   ],
   "source": [
    "EmpsalaryEng_df.query(\"Sales\")['Salary'].max()"
   ]
  },
  {
   "cell_type": "code",
   "execution_count": 258,
   "id": "6e7357e4",
   "metadata": {},
   "outputs": [
    {
     "data": {
      "text/plain": [
       "65487"
      ]
     },
     "execution_count": 258,
     "metadata": {},
     "output_type": "execute_result"
    }
   ],
   "source": [
    "EmpsalaryEng_df.query(\"Other\")['Salary'].max()"
   ]
  },
  {
   "cell_type": "markdown",
   "id": "c26c4062",
   "metadata": {},
   "source": [
    "4) Do you see any discrimination in salaries earned by male and female employees?\n"
   ]
  },
  {
   "cell_type": "code",
   "execution_count": 269,
   "id": "ab84f74b",
   "metadata": {},
   "outputs": [],
   "source": [
    "import seaborn as sn \n"
   ]
  },
  {
   "cell_type": "code",
   "execution_count": 265,
   "id": "b67ef8d0",
   "metadata": {
    "scrolled": true
   },
   "outputs": [
    {
     "data": {
      "text/plain": [
       "<AxesSubplot:xlabel='Female', ylabel='Salary'>"
      ]
     },
     "execution_count": 265,
     "metadata": {},
     "output_type": "execute_result"
    },
    {
     "data": {
      "image/png": "[encoded data removed]",
      "text/plain": [
       "<Figure size 432x288 with 1 Axes>"
      ]
     },
     "metadata": {
      "needs_background": "light"
     },
     "output_type": "display_data"
    }
   ],
   "source": [
    "sn.scatterplot(x=EmpsalaryEng_df[\"Female\"],y=EmpsalaryEng_df[\"Salary\"], hue =EmpsalaryEng_df[\"Salary\"] )"
   ]
  },
  {
   "cell_type": "code",
   "execution_count": 268,
   "id": "ebf4ef78",
   "metadata": {
    "scrolled": true
   },
   "outputs": [
    {
     "data": {
      "text/plain": [
       "<AxesSubplot:xlabel='Male', ylabel='Salary'>"
      ]
     },
     "execution_count": 268,
     "metadata": {},
     "output_type": "execute_result"
    },
    {
     "data": {
      "image/png": "[encoded data removed]",
      "text/plain": [
       "<Figure size 432x288 with 1 Axes>"
      ]
     },
     "metadata": {
      "needs_background": "light"
     },
     "output_type": "display_data"
    }
   ],
   "source": [
    "sn.scatterplot(x=EmpsalaryEng_df[\"Male\"],y=EmpsalaryEng_df[\"Salary\"], hue =EmpsalaryEng_df[\"Salary\"])"
   ]
  },
  {
   "cell_type": "code",
   "execution_count": null,
   "id": "eef635b6",
   "metadata": {},
   "outputs": [],
   "source": [
    "It seems like femal do receive high salary there is some outliers but most of the femals make under 40 000 and few go between 40 000 and 550000. "
   ]
  },
  {
   "cell_type": "markdown",
   "id": "e5104295",
   "metadata": {},
   "source": [
    "1) What would be the estimated salary of a Data Scientist (joining engineering) with 10 years of work experience. This woman has 18 years of total education, and will be supervising 4 junior employees."
   ]
  },
  {
   "cell_type": "code",
   "execution_count": 299,
   "id": "db60dd55",
   "metadata": {},
   "outputs": [
    {
     "ename": "ValueError",
     "evalue": "shapes (1,4) and (5,) not aligned: 4 (dim 1) != 5 (dim 0)",
     "output_type": "error",
     "traceback": [
      "\u001b[1;31m---------------------------------------------------------------------------\u001b[0m",
      "\u001b[1;31mValueError\u001b[0m                                Traceback (most recent call last)",
      "Input \u001b[1;32mIn [299]\u001b[0m, in \u001b[0;36m<cell line: 11>\u001b[1;34m()\u001b[0m\n\u001b[0;32m      1\u001b[0m ew_emp \u001b[38;5;241m=\u001b[39m {\n\u001b[0;32m      2\u001b[0m     \u001b[38;5;124m'\u001b[39m\u001b[38;5;124mconst\u001b[39m\u001b[38;5;124m'\u001b[39m : \u001b[38;5;241m1\u001b[39m,\n\u001b[0;32m      3\u001b[0m     \u001b[38;5;124m'\u001b[39m\u001b[38;5;124mYearsEmployed\u001b[39m\u001b[38;5;124m'\u001b[39m :\u001b[38;5;241m10\u001b[39m,\n\u001b[1;32m   (...)\u001b[0m\n\u001b[0;32m      6\u001b[0m     \u001b[38;5;124m'\u001b[39m\u001b[38;5;124mSales\u001b[39m\u001b[38;5;124m'\u001b[39m  : \u001b[38;5;241m0\u001b[39m \n\u001b[0;32m      7\u001b[0m     }\n\u001b[0;32m      9\u001b[0m x \u001b[38;5;241m=\u001b[39m pd\u001b[38;5;241m.\u001b[39mDataFrame(new_emp, index\u001b[38;5;241m=\u001b[39m[\u001b[38;5;241m0\u001b[39m])\n\u001b[1;32m---> 11\u001b[0m predicted_sal \u001b[38;5;241m=\u001b[39m \u001b[43mmodelMale_Removed\u001b[49m\u001b[38;5;241;43m.\u001b[39;49m\u001b[43mpredict\u001b[49m\u001b[43m(\u001b[49m\u001b[43mx\u001b[49m\u001b[43m)\u001b[49m\n\u001b[0;32m     13\u001b[0m \u001b[38;5;28mprint\u001b[39m(\u001b[38;5;124m\"\u001b[39m\u001b[38;5;124mPredicted Salary:$\u001b[39m\u001b[38;5;124m\"\u001b[39m,predicted_sal[\u001b[38;5;241m0\u001b[39m]\u001b[38;5;241m.\u001b[39mround(\u001b[38;5;241m1\u001b[39m))\n",
      "File \u001b[1;32m~\\Anaconda3\\lib\\site-packages\\statsmodels\\base\\model.py:1159\u001b[0m, in \u001b[0;36mResults.predict\u001b[1;34m(self, exog, transform, *args, **kwargs)\u001b[0m\n\u001b[0;32m   1156\u001b[0m         exog \u001b[38;5;241m=\u001b[39m exog[:, \u001b[38;5;28;01mNone\u001b[39;00m]\n\u001b[0;32m   1157\u001b[0m     exog \u001b[38;5;241m=\u001b[39m np\u001b[38;5;241m.\u001b[39matleast_2d(exog)  \u001b[38;5;66;03m# needed in count model shape[1]\u001b[39;00m\n\u001b[1;32m-> 1159\u001b[0m predict_results \u001b[38;5;241m=\u001b[39m \u001b[38;5;28mself\u001b[39m\u001b[38;5;241m.\u001b[39mmodel\u001b[38;5;241m.\u001b[39mpredict(\u001b[38;5;28mself\u001b[39m\u001b[38;5;241m.\u001b[39mparams, exog, \u001b[38;5;241m*\u001b[39margs,\n\u001b[0;32m   1160\u001b[0m                                      \u001b[38;5;241m*\u001b[39m\u001b[38;5;241m*\u001b[39mkwargs)\n\u001b[0;32m   1162\u001b[0m \u001b[38;5;28;01mif\u001b[39;00m exog_index \u001b[38;5;129;01mis\u001b[39;00m \u001b[38;5;129;01mnot\u001b[39;00m \u001b[38;5;28;01mNone\u001b[39;00m \u001b[38;5;129;01mand\u001b[39;00m \u001b[38;5;129;01mnot\u001b[39;00m \u001b[38;5;28mhasattr\u001b[39m(predict_results,\n\u001b[0;32m   1163\u001b[0m                                           \u001b[38;5;124m'\u001b[39m\u001b[38;5;124mpredicted_values\u001b[39m\u001b[38;5;124m'\u001b[39m):\n\u001b[0;32m   1164\u001b[0m     \u001b[38;5;28;01mif\u001b[39;00m predict_results\u001b[38;5;241m.\u001b[39mndim \u001b[38;5;241m==\u001b[39m \u001b[38;5;241m1\u001b[39m:\n",
      "File \u001b[1;32m~\\Anaconda3\\lib\\site-packages\\statsmodels\\regression\\linear_model.py:381\u001b[0m, in \u001b[0;36mRegressionModel.predict\u001b[1;34m(self, params, exog)\u001b[0m\n\u001b[0;32m    378\u001b[0m \u001b[38;5;28;01mif\u001b[39;00m exog \u001b[38;5;129;01mis\u001b[39;00m \u001b[38;5;28;01mNone\u001b[39;00m:\n\u001b[0;32m    379\u001b[0m     exog \u001b[38;5;241m=\u001b[39m \u001b[38;5;28mself\u001b[39m\u001b[38;5;241m.\u001b[39mexog\n\u001b[1;32m--> 381\u001b[0m \u001b[38;5;28;01mreturn\u001b[39;00m \u001b[43mnp\u001b[49m\u001b[38;5;241;43m.\u001b[39;49m\u001b[43mdot\u001b[49m\u001b[43m(\u001b[49m\u001b[43mexog\u001b[49m\u001b[43m,\u001b[49m\u001b[43m \u001b[49m\u001b[43mparams\u001b[49m\u001b[43m)\u001b[49m\n",
      "File \u001b[1;32m<__array_function__ internals>:5\u001b[0m, in \u001b[0;36mdot\u001b[1;34m(*args, **kwargs)\u001b[0m\n",
      "\u001b[1;31mValueError\u001b[0m: shapes (1,4) and (5,) not aligned: 4 (dim 1) != 5 (dim 0)"
     ]
    }
   ],
   "source": [
    "ew_emp = {\n",
    "    'const' : 1,\n",
    "    'YearsEmployed' :10,\n",
    "    'YearsEducation':0,\n",
    "    'DirectRepotees' : 4,\n",
    "    'Sales'  : 0 \n",
    "    }\n",
    "  \n",
    "x = pd.DataFrame(new_emp, index=[0])\n",
    "\n",
    "predicted_sal = modelMale_Removed.predict(x)\n",
    "\n",
    "print(\"Predicted Salary:$\",predicted_sal[0].round(1))\n",
    "\n",
    "#\tconst\tYearsEmployed\tYearsEducation\tDirectRepotees\tSales\n",
    "#my model has 5 variabkes but it does not work"
   ]
  },
  {
   "cell_type": "markdown",
   "id": "825d84d7",
   "metadata": {},
   "source": [
    "# Question 4 MLR with Interaction effect – Stock Price Prediction\n",
    "\n",
    "Stock market analyst are continually looking for reliable predictors of stock price.\n",
    "Consider the problem of modelling the stock price of Utility companies. Two variable\n",
    "that are though to influence the stock price(Y) are return of average equity (ROE) and\n",
    "annual dividend rate.\n",
    "Data for 16 utility stocks are provided in the file MLR_StockPrice.csv\n",
    "\n",
    "1) Estimate the MLR equation from the given dataset\n",
    "2) Interpret the Adjusted R-Squared value and each of the coefficients\n",
    "3) Revise the Stock Price prediction model for utility companies, to include and interaction term between ROE and Annual dividend rate. Does this new model fit the data better than was done in Problem 10."
   ]
  },
  {
   "cell_type": "markdown",
   "id": "f06fb480",
   "metadata": {},
   "source": [
    "1) Estimate the MLR equation from the given dataset\n"
   ]
  },
  {
   "cell_type": "code",
   "execution_count": 5,
   "id": "020c6c10",
   "metadata": {},
   "outputs": [
    {
     "data": {
      "text/html": [
       "<div>\n",
       "<style scoped>\n",
       "    .dataframe tbody tr th:only-of-type {\n",
       "        vertical-align: middle;\n",
       "    }\n",
       "\n",
       "    .dataframe tbody tr th {\n",
       "        vertical-align: top;\n",
       "    }\n",
       "\n",
       "    .dataframe thead th {\n",
       "        text-align: right;\n",
       "    }\n",
       "</style>\n",
       "<table border=\"1\" class=\"dataframe\">\n",
       "  <thead>\n",
       "    <tr style=\"text-align: right;\">\n",
       "      <th></th>\n",
       "      <th>Electric Utility</th>\n",
       "      <th>Stock Price</th>\n",
       "      <th>ROE</th>\n",
       "      <th>Dividend</th>\n",
       "    </tr>\n",
       "  </thead>\n",
       "  <tbody>\n",
       "    <tr>\n",
       "      <th>0</th>\n",
       "      <td>1</td>\n",
       "      <td>$23</td>\n",
       "      <td>13.7</td>\n",
       "      <td>2.36</td>\n",
       "    </tr>\n",
       "    <tr>\n",
       "      <th>1</th>\n",
       "      <td>2</td>\n",
       "      <td>$34</td>\n",
       "      <td>12.8</td>\n",
       "      <td>3.12</td>\n",
       "    </tr>\n",
       "    <tr>\n",
       "      <th>2</th>\n",
       "      <td>3</td>\n",
       "      <td>$20</td>\n",
       "      <td>6.9</td>\n",
       "      <td>2.48</td>\n",
       "    </tr>\n",
       "    <tr>\n",
       "      <th>3</th>\n",
       "      <td>4</td>\n",
       "      <td>$24</td>\n",
       "      <td>12.7</td>\n",
       "      <td>2.36</td>\n",
       "    </tr>\n",
       "    <tr>\n",
       "      <th>4</th>\n",
       "      <td>5</td>\n",
       "      <td>$20</td>\n",
       "      <td>15.3</td>\n",
       "      <td>1.92</td>\n",
       "    </tr>\n",
       "  </tbody>\n",
       "</table>\n",
       "</div>"
      ],
      "text/plain": [
       "   Electric Utility Stock Price   ROE  Dividend\n",
       "0                 1         $23  13.7      2.36\n",
       "1                 2         $34  12.8      3.12\n",
       "2                 3         $20   6.9      2.48\n",
       "3                 4         $24  12.7      2.36\n",
       "4                 5         $20  15.3      1.92"
      ]
     },
     "execution_count": 5,
     "metadata": {},
     "output_type": "execute_result"
    }
   ],
   "source": [
    "\n",
    "import numpy as np\n",
    "import pandas as pd \n",
    "from scipy.stats.mstats import zscore\n",
    "\n",
    "import seaborn as sbn \n",
    "import matplotlib.pyplot as plt\n",
    "\n",
    "import statsmodels.api as sm\n",
    "# Lets see the dataset\n",
    "StockPrice1_df = pd.read_csv(\"MLR_StockPrice.csv\")\n",
    "StockPrice1_df.head()\n"
   ]
  },
  {
   "cell_type": "code",
   "execution_count": 6,
   "id": "9e18e4b5",
   "metadata": {},
   "outputs": [
    {
     "data": {
      "text/plain": [
       "0     23\n",
       "1     34\n",
       "2     20\n",
       "3     24\n",
       "4     20\n",
       "5     13\n",
       "6     33\n",
       "7     15\n",
       "8     26\n",
       "9     25\n",
       "10    26\n",
       "11    20\n",
       "12    28\n",
       "13    25\n",
       "14    30\n",
       "15    20\n",
       "Name: Stock Price, dtype: int64"
      ]
     },
     "execution_count": 6,
     "metadata": {},
     "output_type": "execute_result"
    }
   ],
   "source": [
    "# Make Stock Price  numeric datatype\n",
    "StockPrice1_df[\"Stock Price\"] = StockPrice1_df[\"Stock Price\"].apply(lambda x: int(x.replace('$','').replace(',',''))) \n",
    "\n",
    "\n",
    "StockPrice1_df[\"Stock Price\"]\n"
   ]
  },
  {
   "cell_type": "code",
   "execution_count": 7,
   "id": "ee29b292",
   "metadata": {},
   "outputs": [
    {
     "data": {
      "text/html": [
       "<div>\n",
       "<style scoped>\n",
       "    .dataframe tbody tr th:only-of-type {\n",
       "        vertical-align: middle;\n",
       "    }\n",
       "\n",
       "    .dataframe tbody tr th {\n",
       "        vertical-align: top;\n",
       "    }\n",
       "\n",
       "    .dataframe thead th {\n",
       "        text-align: right;\n",
       "    }\n",
       "</style>\n",
       "<table border=\"1\" class=\"dataframe\">\n",
       "  <thead>\n",
       "    <tr style=\"text-align: right;\">\n",
       "      <th></th>\n",
       "      <th>const</th>\n",
       "      <th>ROE</th>\n",
       "      <th>Dividend</th>\n",
       "    </tr>\n",
       "  </thead>\n",
       "  <tbody>\n",
       "    <tr>\n",
       "      <th>2</th>\n",
       "      <td>1.0</td>\n",
       "      <td>6.9</td>\n",
       "      <td>2.48</td>\n",
       "    </tr>\n",
       "  </tbody>\n",
       "</table>\n",
       "</div>"
      ],
      "text/plain": [
       "   const  ROE  Dividend\n",
       "2    1.0  6.9      2.48"
      ]
     },
     "execution_count": 7,
     "metadata": {},
     "output_type": "execute_result"
    }
   ],
   "source": [
    "Y_stockPrice = StockPrice1_df[\"Stock Price\"]\n",
    "X_stockPrice = StockPrice1_df[[\"ROE\",\"Dividend\"]]\n",
    "X_stockPrice = sm.add_constant(X_stockPrice) # adding a constant\n",
    "\n",
    "X_stockPrice.sample(1)\n"
   ]
  },
  {
   "cell_type": "code",
   "execution_count": 8,
   "id": "a8ad12e3",
   "metadata": {},
   "outputs": [
    {
     "name": "stdout",
     "output_type": "stream",
     "text": [
      "                            OLS Regression Results                            \n",
      "==============================================================================\n",
      "Dep. Variable:            Stock Price   R-squared:                       0.928\n",
      "Model:                            OLS   Adj. R-squared:                  0.917\n",
      "Method:                 Least Squares   F-statistic:                     84.31\n",
      "Date:                Mon, 05 Sep 2022   Prob (F-statistic):           3.60e-08\n",
      "Time:                        17:02:44   Log-Likelihood:                -29.298\n",
      "No. Observations:                  16   AIC:                             64.60\n",
      "Df Residuals:                      13   BIC:                             66.91\n",
      "Df Model:                           2                                         \n",
      "Covariance Type:            nonrobust                                         \n",
      "==============================================================================\n",
      "                 coef    std err          t      P>|t|      [0.025      0.975]\n",
      "------------------------------------------------------------------------------\n",
      "const         -9.9537      3.405     -2.923      0.012     -17.311      -2.597\n",
      "ROE            0.4762      0.186      2.556      0.024       0.074       0.879\n",
      "Dividend      11.1943      0.877     12.761      0.000       9.299      13.089\n",
      "==============================================================================\n",
      "Omnibus:                        0.526   Durbin-Watson:                   2.595\n",
      "Prob(Omnibus):                  0.769   Jarque-Bera (JB):                0.571\n",
      "Skew:                           0.129   Prob(JB):                        0.752\n",
      "Kurtosis:                       2.111   Cond. No.                         118.\n",
      "==============================================================================\n",
      "\n",
      "Notes:\n",
      "[1] Standard Errors assume that the covariance matrix of the errors is correctly specified.\n"
     ]
    },
    {
     "name": "stderr",
     "output_type": "stream",
     "text": [
      "C:\\Users\\UKING14\\Anaconda3\\lib\\site-packages\\scipy\\stats\\stats.py:1541: UserWarning: kurtosistest only valid for n>=20 ... continuing anyway, n=16\n",
      "  warnings.warn(\"kurtosistest only valid for n>=20 ... continuing \"\n"
     ]
    }
   ],
   "source": [
    "stockPrice_model = sm.OLS(Y_stockPrice ,X_stockPrice).fit()\n",
    "\n",
    "print(stockPrice_model.summary()) "
   ]
  },
  {
   "cell_type": "markdown",
   "id": "f9cd0613",
   "metadata": {},
   "source": [
    "2) Interpret the Adjusted R-Squared value and each of the coefficients\n"
   ]
  },
  {
   "cell_type": "code",
   "execution_count": 9,
   "id": "dcae05b0",
   "metadata": {},
   "outputs": [
    {
     "data": {
      "image/png": "[encoded data removed]",
      "text/plain": [
       "<Figure size 432x288 with 1 Axes>"
      ]
     },
     "metadata": {
      "needs_background": "light"
     },
     "output_type": "display_data"
    }
   ],
   "source": [
    "coeff = stockPrice_model.params\n",
    "coeff = coeff.iloc[(coeff.abs()*-1.0).argsort()]\n",
    "sbn.barplot(x=coeff.values, y=coeff.index, orient='h');"
   ]
  },
  {
   "cell_type": "code",
   "execution_count": null,
   "id": "8944a214",
   "metadata": {},
   "outputs": [],
   "source": [
    "The devident has 10 tims more impact on the stock price..."
   ]
  },
  {
   "cell_type": "markdown",
   "id": "c4b8befd",
   "metadata": {},
   "source": [
    "3) Revise the Stock Price prediction model for utility companies, to include and interaction term between ROE and Annual dividend rate. Does this new model fit the data better than was done in Problem 10"
   ]
  },
  {
   "cell_type": "code",
   "execution_count": null,
   "id": "3e621cc7",
   "metadata": {},
   "outputs": [],
   "source": []
  },
  {
   "cell_type": "code",
   "execution_count": null,
   "id": "2941d0fe",
   "metadata": {},
   "outputs": [],
   "source": []
  }
 ],
 "metadata": {
  "kernelspec": {
   "display_name": "Python 3 (ipykernel)",
   "language": "python",
   "name": "python3"
  },
  "language_info": {
   "codemirror_mode": {
    "name": "ipython",
    "version": 3
   },
   "file_extension": ".py",
   "mimetype": "text/x-python",
   "name": "python",
   "nbconvert_exporter": "python",
   "pygments_lexer": "ipython3",
   "version": "3.9.12"
  }
 },
 "nbformat": 4,
 "nbformat_minor": 5
}
