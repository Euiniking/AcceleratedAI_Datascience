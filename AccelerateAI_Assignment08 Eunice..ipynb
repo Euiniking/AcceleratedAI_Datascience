{
 "cells": [
  {
   "cell_type": "markdown",
   "id": "5dd6283f",
   "metadata": {},
   "source": [
    "# Q1: Logit Model for Credit Grant Outcome use case\n",
    "A group of 20 customers possess portfolio ranging from 0.5 to 6.5 million USD in one of the largest Financial Services majors in South America. As an analyst you are tasked to find out how the portfolio amount affect the probability of a customer getting a credit grant? \n",
    "\n",
    "Please refer to the dataset provided in GitHub - CreditGrantOutcome.csv.\n",
    "Portfolio Value is given in million USD = X; And Credit Grant Decision = y which is either 0 or 1, i.e. 1 for getting a grant.\n",
    "\n",
    " 1) Find out the Odds ratio for every customer data that is captured here. What is the Odds ratio when Portfolio Value X = 2 m USD?\n",
    " \n",
    "2) Find out optimum values of coefficients beta_0 and beta_1?"
   ]
  },
  {
   "cell_type": "code",
   "execution_count": 7,
   "id": "b80c6cab",
   "metadata": {},
   "outputs": [],
   "source": [
    "import pandas as pd \n",
    "import numpy as np\n",
    "import statsmodels.api as sm\n",
    "import statsmodels.formula.api as smf\n",
    "import math\n",
    "\n",
    "df = pd.read_csv(\"CreditGrantOutcome.csv\")"
   ]
  },
  {
   "cell_type": "code",
   "execution_count": 9,
   "id": "c7e00a80",
   "metadata": {},
   "outputs": [
    {
     "name": "stdout",
     "output_type": "stream",
     "text": [
      "<class 'pandas.core.frame.DataFrame'>\n",
      "RangeIndex: 20 entries, 0 to 19\n",
      "Data columns (total 2 columns):\n",
      " #   Column               Non-Null Count  Dtype  \n",
      "---  ------               --------------  -----  \n",
      " 0   PortfolioValue       20 non-null     float64\n",
      " 1   CreditGrantDecision  20 non-null     int64  \n",
      "dtypes: float64(1), int64(1)\n",
      "memory usage: 448.0 bytes\n"
     ]
    }
   ],
   "source": [
    "df.info()"
   ]
  },
  {
   "cell_type": "code",
   "execution_count": 12,
   "id": "57f27557",
   "metadata": {},
   "outputs": [
    {
     "name": "stdout",
     "output_type": "stream",
     "text": [
      "PortfolioValue         0\n",
      "CreditGrantDecision    0\n",
      "dtype: int64\n"
     ]
    }
   ],
   "source": [
    "print(df.isnull().sum())"
   ]
  },
  {
   "cell_type": "code",
   "execution_count": 4,
   "id": "f111fb65",
   "metadata": {
    "scrolled": true
   },
   "outputs": [
    {
     "data": {
      "text/html": [
       "<div>\n",
       "<style scoped>\n",
       "    .dataframe tbody tr th:only-of-type {\n",
       "        vertical-align: middle;\n",
       "    }\n",
       "\n",
       "    .dataframe tbody tr th {\n",
       "        vertical-align: top;\n",
       "    }\n",
       "\n",
       "    .dataframe thead th {\n",
       "        text-align: right;\n",
       "    }\n",
       "</style>\n",
       "<table border=\"1\" class=\"dataframe\">\n",
       "  <thead>\n",
       "    <tr style=\"text-align: right;\">\n",
       "      <th></th>\n",
       "      <th>PortfolioValue</th>\n",
       "      <th>CreditGrantDecision</th>\n",
       "    </tr>\n",
       "  </thead>\n",
       "  <tbody>\n",
       "    <tr>\n",
       "      <th>0</th>\n",
       "      <td>0.50</td>\n",
       "      <td>0</td>\n",
       "    </tr>\n",
       "    <tr>\n",
       "      <th>1</th>\n",
       "      <td>0.75</td>\n",
       "      <td>0</td>\n",
       "    </tr>\n",
       "    <tr>\n",
       "      <th>2</th>\n",
       "      <td>1.00</td>\n",
       "      <td>0</td>\n",
       "    </tr>\n",
       "    <tr>\n",
       "      <th>3</th>\n",
       "      <td>1.25</td>\n",
       "      <td>0</td>\n",
       "    </tr>\n",
       "    <tr>\n",
       "      <th>4</th>\n",
       "      <td>1.50</td>\n",
       "      <td>0</td>\n",
       "    </tr>\n",
       "    <tr>\n",
       "      <th>5</th>\n",
       "      <td>1.75</td>\n",
       "      <td>0</td>\n",
       "    </tr>\n",
       "    <tr>\n",
       "      <th>6</th>\n",
       "      <td>1.75</td>\n",
       "      <td>1</td>\n",
       "    </tr>\n",
       "    <tr>\n",
       "      <th>7</th>\n",
       "      <td>2.00</td>\n",
       "      <td>0</td>\n",
       "    </tr>\n",
       "    <tr>\n",
       "      <th>8</th>\n",
       "      <td>2.25</td>\n",
       "      <td>1</td>\n",
       "    </tr>\n",
       "    <tr>\n",
       "      <th>9</th>\n",
       "      <td>2.50</td>\n",
       "      <td>0</td>\n",
       "    </tr>\n",
       "    <tr>\n",
       "      <th>10</th>\n",
       "      <td>2.75</td>\n",
       "      <td>1</td>\n",
       "    </tr>\n",
       "    <tr>\n",
       "      <th>11</th>\n",
       "      <td>3.00</td>\n",
       "      <td>0</td>\n",
       "    </tr>\n",
       "    <tr>\n",
       "      <th>12</th>\n",
       "      <td>3.25</td>\n",
       "      <td>1</td>\n",
       "    </tr>\n",
       "    <tr>\n",
       "      <th>13</th>\n",
       "      <td>3.50</td>\n",
       "      <td>0</td>\n",
       "    </tr>\n",
       "    <tr>\n",
       "      <th>14</th>\n",
       "      <td>4.00</td>\n",
       "      <td>1</td>\n",
       "    </tr>\n",
       "    <tr>\n",
       "      <th>15</th>\n",
       "      <td>4.25</td>\n",
       "      <td>1</td>\n",
       "    </tr>\n",
       "    <tr>\n",
       "      <th>16</th>\n",
       "      <td>4.50</td>\n",
       "      <td>1</td>\n",
       "    </tr>\n",
       "    <tr>\n",
       "      <th>17</th>\n",
       "      <td>4.75</td>\n",
       "      <td>1</td>\n",
       "    </tr>\n",
       "    <tr>\n",
       "      <th>18</th>\n",
       "      <td>5.00</td>\n",
       "      <td>1</td>\n",
       "    </tr>\n",
       "    <tr>\n",
       "      <th>19</th>\n",
       "      <td>5.50</td>\n",
       "      <td>1</td>\n",
       "    </tr>\n",
       "  </tbody>\n",
       "</table>\n",
       "</div>"
      ],
      "text/plain": [
       "    PortfolioValue  CreditGrantDecision\n",
       "0             0.50                    0\n",
       "1             0.75                    0\n",
       "2             1.00                    0\n",
       "3             1.25                    0\n",
       "4             1.50                    0\n",
       "5             1.75                    0\n",
       "6             1.75                    1\n",
       "7             2.00                    0\n",
       "8             2.25                    1\n",
       "9             2.50                    0\n",
       "10            2.75                    1\n",
       "11            3.00                    0\n",
       "12            3.25                    1\n",
       "13            3.50                    0\n",
       "14            4.00                    1\n",
       "15            4.25                    1\n",
       "16            4.50                    1\n",
       "17            4.75                    1\n",
       "18            5.00                    1\n",
       "19            5.50                    1"
      ]
     },
     "execution_count": 4,
     "metadata": {},
     "output_type": "execute_result"
    }
   ],
   "source": [
    "df"
   ]
  },
  {
   "cell_type": "code",
   "execution_count": 14,
   "id": "c45e4b54",
   "metadata": {},
   "outputs": [
    {
     "name": "stdout",
     "output_type": "stream",
     "text": [
      "Optimization terminated successfully.\n",
      "         Current function value: 0.401494\n",
      "         Iterations 7\n"
     ]
    }
   ],
   "source": [
    "# Defining the dependent and independent variables\n",
    "X=df[\"PortfolioValue\"]\n",
    "Y=df[\"CreditGrantDecision\"]\n",
    "\n",
    "# Add constant term\n",
    "\n",
    "X_const = sm.add_constant(X, prepend=False)\n",
    "# Building the model and fitting the data\n",
    "\n",
    "logit_model=sm.Logit(Y, X_const).fit()"
   ]
  },
  {
   "cell_type": "code",
   "execution_count": 15,
   "id": "66b58268",
   "metadata": {},
   "outputs": [
    {
     "name": "stdout",
     "output_type": "stream",
     "text": [
      "                            Logit Regression Results                           \n",
      "===============================================================================\n",
      "Dep. Variable:     CreditGrantDecision   No. Observations:                   20\n",
      "Model:                           Logit   Df Residuals:                       18\n",
      "Method:                            MLE   Df Model:                            1\n",
      "Date:                 Wed, 14 Sep 2022   Pseudo R-squ.:                  0.4208\n",
      "Time:                         14:31:34   Log-Likelihood:                -8.0299\n",
      "converged:                        True   LL-Null:                       -13.863\n",
      "Covariance Type:             nonrobust   LLR p-value:                 0.0006365\n",
      "==================================================================================\n",
      "                     coef    std err          z      P>|z|      [0.025      0.975]\n",
      "----------------------------------------------------------------------------------\n",
      "PortfolioValue     1.5046      0.629      2.393      0.017       0.272       2.737\n",
      "const             -4.0777      1.761     -2.316      0.021      -7.529      -0.626\n",
      "==================================================================================\n"
     ]
    }
   ],
   "source": [
    "print(logit_model.summary())"
   ]
  },
  {
   "cell_type": "code",
   "execution_count": null,
   "id": "9e961792",
   "metadata": {},
   "outputs": [],
   "source": [
    " You will get the coefficients such as beta_0 and beta_1 etc. You can use that to compute Odds Ratio which is\n",
    "nothing but exp(beta_0 + beta_1 * X1 + beta_2 * X2 + ....) \n",
    "    \n",
    "    source : https://www.andrewvillazon.com/logistic-regression-python-statsmodels/"
   ]
  },
  {
   "cell_type": "code",
   "execution_count": 10,
   "id": "5b68fc99",
   "metadata": {},
   "outputs": [
    {
     "name": "stdout",
     "output_type": "stream",
     "text": [
      "0.34354986859388575\n"
     ]
    }
   ],
   "source": [
    "b1=1.504645\n",
    "bo= -4.077713\n",
    "X=2 #(or shoud I predict the probabiliy for this value in the model?)\n",
    "Odds = math.exp(bo+ b1*X)\n",
    "print (Odds)"
   ]
  },
  {
   "cell_type": "code",
   "execution_count": 22,
   "id": "964df8dc",
   "metadata": {
    "scrolled": true
   },
   "outputs": [
    {
     "name": "stdout",
     "output_type": "stream",
     "text": [
      "Intercept        -4.077713\n",
      "PortfolioValue    1.504645\n",
      "dtype: float64\n"
     ]
    }
   ],
   "source": [
    "print(logit_model1.params)"
   ]
  },
  {
   "attachments": {
    "image.png": {
     "image/png": "[encoded data removed]"
    }
   },
   "cell_type": "markdown",
   "id": "2551ca26",
   "metadata": {},
   "source": [
    "# Question 2\n",
    "## Confusion Matrix Scenario\n",
    "You are working on a binary classification model to predict which devices are going to fail or not fail in the\n",
    "future.\n",
    "What is the accuracy of your model given the confusion matrix below? (Rounded to 1 place after decimal)\n",
    "![image.png](attachment:image.png)\n",
    "\n"
   ]
  },
  {
   "cell_type": "code",
   "execution_count": 2,
   "id": "d48bcb6c",
   "metadata": {},
   "outputs": [
    {
     "name": "stdout",
     "output_type": "stream",
     "text": [
      "0.8\n"
     ]
    }
   ],
   "source": [
    "#Accuracy = the percentage of correct predictions \n",
    "Accuracy = round ((371+122)/(371+84+65+122),1)\n",
    "\n",
    "print (Accuracy)\n",
    "\n",
    "#precision = 122/(122+4)\n",
    "#recall = 122/(65+122)"
   ]
  },
  {
   "cell_type": "markdown",
   "id": "85b833f6",
   "metadata": {},
   "source": [
    "# Q3: Logit/GLM Model for Insurance Cross Sell use case\n",
    "The insurance major is interested to understand the cross-sell opportunities by analysing the information it\n",
    "has. As a Data Scientist, you have access to the Insurance Cross Sell data. \n",
    "\n",
    "(Please refer to GitHub - InsuranceCrossSell.csv).\n",
    "\n",
    "The description of variables are as follows (for your reference):\n",
    "\n",
    "• Response is the binary outcome which indicates whether customer has taken the insurance or not. 1 if insurance taken Else 0.\n",
    "• Other predictor variables are as follows: Gender, Age, Driving_License, Region_Code etc.\n",
    "o Gender of customer\n",
    "o Age of customer\n",
    "o Driving_License (DL) – 1 if customer has DL, else 0\n",
    "o Region_Code – location code to which customer belongs\n",
    "o Previously_Insured – 1 if customer has prior insurance\n",
    "o Vehicle_Age – 3 categories: <1 year, 1-2 year, >2 years\n",
    "o Vehicle_Damage – whether there has been damage to the vehicle owned by the customer or\n",
    "not. 1 if there is damage in the past.\n",
    "o Annual_Premium – amount paid by customer\n",
    "o Policy_Sales_Channel – code of the channel through which the policy is being sold\n",
    "o Vintage – number of days customer is associated with the insurance\n",
    "Fit a model (using Logit or GLM) and explain significance of predictors on the \"Response\" decision"
   ]
  },
  {
   "cell_type": "code",
   "execution_count": 64,
   "id": "4d4b1ad6",
   "metadata": {},
   "outputs": [],
   "source": [
    "import numpy as np\n",
    "import pandas as pd\n",
    "import statsmodels.api as sm\n",
    "from scipy import stats\n",
    "import seaborn as sns\n",
    "import matplotlib.pyplot as plt\n",
    "from sklearn.preprocessing import LabelEncoder\n",
    "import warnings\n",
    "warnings.filterwarnings('ignore')"
   ]
  },
  {
   "cell_type": "code",
   "execution_count": 69,
   "id": "cf61ac1b",
   "metadata": {},
   "outputs": [
    {
     "name": "stdout",
     "output_type": "stream",
     "text": [
      "<class 'pandas.core.frame.DataFrame'>\n",
      "RangeIndex: 381109 entries, 0 to 381108\n",
      "Data columns (total 12 columns):\n",
      " #   Column                Non-Null Count   Dtype  \n",
      "---  ------                --------------   -----  \n",
      " 0   id                    381109 non-null  int64  \n",
      " 1   Gender                381109 non-null  object \n",
      " 2   Age                   381109 non-null  int64  \n",
      " 3   Driving_License       381109 non-null  int64  \n",
      " 4   Region_Code           381109 non-null  float64\n",
      " 5   Previously_Insured    381109 non-null  int64  \n",
      " 6   Vehicle_Age           381109 non-null  object \n",
      " 7   Vehicle_Damage        381109 non-null  object \n",
      " 8   Annual_Premium        381109 non-null  float64\n",
      " 9   Policy_Sales_Channel  381109 non-null  float64\n",
      " 10  Vintage               381109 non-null  int64  \n",
      " 11  Response              381109 non-null  int64  \n",
      "dtypes: float64(3), int64(6), object(3)\n",
      "memory usage: 34.9+ MB\n"
     ]
    }
   ],
   "source": [
    "Insurance_df = pd.read_csv(\"InsuranceCrossSell.csv\")\n",
    "Insurance_df.info()"
   ]
  },
  {
   "cell_type": "code",
   "execution_count": 71,
   "id": "b90681e9",
   "metadata": {},
   "outputs": [
    {
     "data": {
      "text/html": [
       "<div>\n",
       "<style scoped>\n",
       "    .dataframe tbody tr th:only-of-type {\n",
       "        vertical-align: middle;\n",
       "    }\n",
       "\n",
       "    .dataframe tbody tr th {\n",
       "        vertical-align: top;\n",
       "    }\n",
       "\n",
       "    .dataframe thead th {\n",
       "        text-align: right;\n",
       "    }\n",
       "</style>\n",
       "<table border=\"1\" class=\"dataframe\">\n",
       "  <thead>\n",
       "    <tr style=\"text-align: right;\">\n",
       "      <th></th>\n",
       "      <th>id</th>\n",
       "      <th>Gender</th>\n",
       "      <th>Age</th>\n",
       "      <th>Driving_License</th>\n",
       "      <th>Region_Code</th>\n",
       "      <th>Previously_Insured</th>\n",
       "      <th>Vehicle_Age</th>\n",
       "      <th>Vehicle_Damage</th>\n",
       "      <th>Annual_Premium</th>\n",
       "      <th>Policy_Sales_Channel</th>\n",
       "      <th>Vintage</th>\n",
       "      <th>Response</th>\n",
       "    </tr>\n",
       "  </thead>\n",
       "  <tbody>\n",
       "    <tr>\n",
       "      <th>295286</th>\n",
       "      <td>295287</td>\n",
       "      <td>Male</td>\n",
       "      <td>24</td>\n",
       "      <td>1</td>\n",
       "      <td>16.0</td>\n",
       "      <td>1</td>\n",
       "      <td>&lt; 1 Year</td>\n",
       "      <td>No</td>\n",
       "      <td>28208.0</td>\n",
       "      <td>152.0</td>\n",
       "      <td>27</td>\n",
       "      <td>0</td>\n",
       "    </tr>\n",
       "    <tr>\n",
       "      <th>208346</th>\n",
       "      <td>208347</td>\n",
       "      <td>Female</td>\n",
       "      <td>28</td>\n",
       "      <td>1</td>\n",
       "      <td>10.0</td>\n",
       "      <td>0</td>\n",
       "      <td>&lt; 1 Year</td>\n",
       "      <td>Yes</td>\n",
       "      <td>29640.0</td>\n",
       "      <td>152.0</td>\n",
       "      <td>238</td>\n",
       "      <td>0</td>\n",
       "    </tr>\n",
       "  </tbody>\n",
       "</table>\n",
       "</div>"
      ],
      "text/plain": [
       "            id  Gender  Age  Driving_License  Region_Code  Previously_Insured  \\\n",
       "295286  295287    Male   24                1         16.0                   1   \n",
       "208346  208347  Female   28                1         10.0                   0   \n",
       "\n",
       "       Vehicle_Age Vehicle_Damage  Annual_Premium  Policy_Sales_Channel  \\\n",
       "295286    < 1 Year             No         28208.0                 152.0   \n",
       "208346    < 1 Year            Yes         29640.0                 152.0   \n",
       "\n",
       "        Vintage  Response  \n",
       "295286       27         0  \n",
       "208346      238         0  "
      ]
     },
     "execution_count": 71,
     "metadata": {},
     "output_type": "execute_result"
    }
   ],
   "source": [
    "Insurance_df.sample(2)"
   ]
  },
  {
   "cell_type": "code",
   "execution_count": null,
   "id": "0a780848",
   "metadata": {},
   "outputs": [],
   "source": [
    "#Object predictors to encode Gender,  Vehicle_Age  Vehicle_Damage"
   ]
  },
  {
   "cell_type": "code",
   "execution_count": 8,
   "id": "6a074d62",
   "metadata": {},
   "outputs": [
    {
     "name": "stdout",
     "output_type": "stream",
     "text": [
      "id                      0\n",
      "Gender                  0\n",
      "Age                     0\n",
      "Driving_License         0\n",
      "Region_Code             0\n",
      "Previously_Insured      0\n",
      "Vehicle_Age             0\n",
      "Vehicle_Damage          0\n",
      "Annual_Premium          0\n",
      "Policy_Sales_Channel    0\n",
      "Vintage                 0\n",
      "Response                0\n",
      "dtype: int64\n"
     ]
    }
   ],
   "source": [
    "print(Insurance_df.isnull().sum())"
   ]
  },
  {
   "cell_type": "code",
   "execution_count": 17,
   "id": "ed6ed2ca",
   "metadata": {},
   "outputs": [
    {
     "data": {
      "text/plain": [
       "1-2 Year     200316\n",
       "< 1 Year     164786\n",
       "> 2 Years     16007\n",
       "Name: Vehicle_Age, dtype: int64"
      ]
     },
     "execution_count": 17,
     "metadata": {},
     "output_type": "execute_result"
    }
   ],
   "source": [
    "Insurance_df[\"Vehicle_Age\"].value_counts()"
   ]
  },
  {
   "cell_type": "code",
   "execution_count": 18,
   "id": "baaf9864",
   "metadata": {},
   "outputs": [
    {
     "data": {
      "text/plain": [
       "Yes    192413\n",
       "No     188696\n",
       "Name: Vehicle_Damage, dtype: int64"
      ]
     },
     "execution_count": 18,
     "metadata": {},
     "output_type": "execute_result"
    }
   ],
   "source": [
    "Insurance_df[\"Vehicle_Damage\"].value_counts()"
   ]
  },
  {
   "cell_type": "code",
   "execution_count": 39,
   "id": "b85f2865",
   "metadata": {},
   "outputs": [
    {
     "data": {
      "text/html": [
       "<div>\n",
       "<style scoped>\n",
       "    .dataframe tbody tr th:only-of-type {\n",
       "        vertical-align: middle;\n",
       "    }\n",
       "\n",
       "    .dataframe tbody tr th {\n",
       "        vertical-align: top;\n",
       "    }\n",
       "\n",
       "    .dataframe thead th {\n",
       "        text-align: right;\n",
       "    }\n",
       "</style>\n",
       "<table border=\"1\" class=\"dataframe\">\n",
       "  <thead>\n",
       "    <tr style=\"text-align: right;\">\n",
       "      <th></th>\n",
       "      <th>id</th>\n",
       "      <th>Gender</th>\n",
       "      <th>Age</th>\n",
       "      <th>Driving_License</th>\n",
       "      <th>Region_Code</th>\n",
       "      <th>Previously_Insured</th>\n",
       "      <th>Vehicle_Age</th>\n",
       "      <th>Vehicle_Damage</th>\n",
       "      <th>Annual_Premium</th>\n",
       "      <th>Policy_Sales_Channel</th>\n",
       "      <th>Vintage</th>\n",
       "      <th>Response</th>\n",
       "    </tr>\n",
       "  </thead>\n",
       "  <tbody>\n",
       "    <tr>\n",
       "      <th>13905</th>\n",
       "      <td>13906</td>\n",
       "      <td>0</td>\n",
       "      <td>28</td>\n",
       "      <td>1</td>\n",
       "      <td>45.0</td>\n",
       "      <td>0</td>\n",
       "      <td>1</td>\n",
       "      <td>1</td>\n",
       "      <td>29228.0</td>\n",
       "      <td>152.0</td>\n",
       "      <td>86</td>\n",
       "      <td>1</td>\n",
       "    </tr>\n",
       "    <tr>\n",
       "      <th>278652</th>\n",
       "      <td>278653</td>\n",
       "      <td>1</td>\n",
       "      <td>45</td>\n",
       "      <td>1</td>\n",
       "      <td>28.0</td>\n",
       "      <td>0</td>\n",
       "      <td>0</td>\n",
       "      <td>1</td>\n",
       "      <td>40637.0</td>\n",
       "      <td>26.0</td>\n",
       "      <td>112</td>\n",
       "      <td>0</td>\n",
       "    </tr>\n",
       "  </tbody>\n",
       "</table>\n",
       "</div>"
      ],
      "text/plain": [
       "            id  Gender  Age  Driving_License  Region_Code  Previously_Insured  \\\n",
       "13905    13906       0   28                1         45.0                   0   \n",
       "278652  278653       1   45                1         28.0                   0   \n",
       "\n",
       "        Vehicle_Age  Vehicle_Damage  Annual_Premium  Policy_Sales_Channel  \\\n",
       "13905             1               1         29228.0                 152.0   \n",
       "278652            0               1         40637.0                  26.0   \n",
       "\n",
       "        Vintage  Response  \n",
       "13905        86         1  \n",
       "278652      112         0  "
      ]
     },
     "execution_count": 39,
     "metadata": {},
     "output_type": "execute_result"
    }
   ],
   "source": [
    "#encode non numerical variables with label encoding \n",
    "# is wrong to use label encoder in this way ? rather than using dummies like I did below ?\n",
    "# I will fit the model with labe encoding then fiit again with dummies encoding \n",
    "# which one is the correct or better option ? \n",
    "label_encoder = LabelEncoder()\n",
    "cols = [\"Gender\", \"Vehicle_Age\", \"Vehicle_Damage\"]\n",
    "Insurance_df[cols] = Insurance_df[cols].apply(LabelEncoder().fit_transform)\n",
    "\n",
    "Insurance_df.sample(2)"
   ]
  },
  {
   "cell_type": "code",
   "execution_count": 40,
   "id": "5bbd0c12",
   "metadata": {},
   "outputs": [],
   "source": [
    "Insurance_df.drop(columns='id', inplace=True)\n"
   ]
  },
  {
   "cell_type": "code",
   "execution_count": 41,
   "id": "ea1ca2a0",
   "metadata": {},
   "outputs": [
    {
     "data": {
      "text/plain": [
       "Index(['Gender', 'Age', 'Driving_License', 'Region_Code', 'Previously_Insured',\n",
       "       'Vehicle_Age', 'Vehicle_Damage', 'Annual_Premium',\n",
       "       'Policy_Sales_Channel', 'Vintage', 'Response'],\n",
       "      dtype='object')"
      ]
     },
     "execution_count": 41,
     "metadata": {},
     "output_type": "execute_result"
    }
   ],
   "source": [
    "Insurance_df.columns"
   ]
  },
  {
   "cell_type": "code",
   "execution_count": 42,
   "id": "e272df58",
   "metadata": {},
   "outputs": [],
   "source": [
    "Y = Insurance_df['Response']\n",
    "X = Insurance_df.drop(columns='Response')\n",
    "X = sm.add_constant(X)"
   ]
  },
  {
   "cell_type": "code",
   "execution_count": 43,
   "id": "ac00b80d",
   "metadata": {},
   "outputs": [
    {
     "name": "stdout",
     "output_type": "stream",
     "text": [
      "Optimization terminated successfully.\n",
      "         Current function value: 0.279714\n",
      "         Iterations 11\n"
     ]
    }
   ],
   "source": [
    "# Fit the logit model\n",
    "logit_model = sm.Logit(Y,X)\n",
    "result = logit_model.fit()"
   ]
  },
  {
   "cell_type": "code",
   "execution_count": 44,
   "id": "c14df71b",
   "metadata": {},
   "outputs": [
    {
     "name": "stdout",
     "output_type": "stream",
     "text": [
      "                           Results: Logit\n",
      "=====================================================================\n",
      "Model:               Logit             Pseudo R-squared:  0.248      \n",
      "Dependent Variable:  Response          AIC:               213225.1622\n",
      "Date:                2022-09-15 09:48  BIC:               213344.5215\n",
      "No. Observations:    381109            Log-Likelihood:    -1.0660e+05\n",
      "Df Model:            10                LL-Null:           -1.4177e+05\n",
      "Df Residuals:        381098            LLR p-value:       0.0000     \n",
      "Converged:           1.0000            Scale:             1.0000     \n",
      "No. Iterations:      11.0000                                         \n",
      "---------------------------------------------------------------------\n",
      "                      Coef.  Std.Err.    z     P>|z|   [0.025  0.975]\n",
      "---------------------------------------------------------------------\n",
      "const                -4.1305   0.1699 -24.3071 0.0000 -4.4636 -3.7975\n",
      "Gender                0.1292   0.0110  11.7386 0.0000  0.1076  0.1508\n",
      "Age                  -0.0061   0.0004 -14.2523 0.0000 -0.0070 -0.0053\n",
      "Driving_License       1.4447   0.1631   8.8561 0.0000  1.1249  1.7644\n",
      "Region_Code          -0.0002   0.0004  -0.4158 0.6776 -0.0010  0.0007\n",
      "Previously_Insured   -4.0660   0.0826 -49.2306 0.0000 -4.2278 -3.9041\n",
      "Vehicle_Age          -0.1892   0.0091 -20.8453 0.0000 -0.2070 -0.1714\n",
      "Vehicle_Damage        2.1430   0.0341  62.8255 0.0000  2.0762  2.2099\n",
      "Annual_Premium        0.0000   0.0000   6.6397 0.0000  0.0000  0.0000\n",
      "Policy_Sales_Channel -0.0036   0.0001 -32.9466 0.0000 -0.0038 -0.0033\n",
      "Vintage              -0.0000   0.0001  -0.0457 0.9636 -0.0001  0.0001\n",
      "=====================================================================\n",
      "\n"
     ]
    }
   ],
   "source": [
    "print(result.summary2())"
   ]
  },
  {
   "cell_type": "code",
   "execution_count": null,
   "id": "c11840e7",
   "metadata": {},
   "outputs": [],
   "source": [
    "From the first fit we see that all the predictors except Region_Code  and  Vintage   are not significant "
   ]
  },
  {
   "cell_type": "code",
   "execution_count": null,
   "id": "d26d395c",
   "metadata": {},
   "outputs": [],
   "source": [
    "# for further explaination to explain significance of predictors on the \"Response\"  decision we will do the wald's Test\n",
    "#We will look for  variable that  have p-value corresponding to the Wlad's test >0.05.\n",
    "#We will remove those and retrain the model."
   ]
  },
  {
   "cell_type": "code",
   "execution_count": 45,
   "id": "6782b060",
   "metadata": {},
   "outputs": [],
   "source": [
    "def get_significant_vars(model, alpha=0.05):\n",
    "    \n",
    "    #store the variable and p-values in a dataframe\n",
    "    p_vals = pd.DataFrame(model.pvalues)  \n",
    "    p_vals['vars'] = p_vals.index\n",
    "    p_vals.columns = ['pval', 'name']\n",
    "    \n",
    "    #return those that are significant at alpha value\n",
    "    return list(p_vals[p_vals.pval <= alpha]['name'])"
   ]
  },
  {
   "cell_type": "code",
   "execution_count": 47,
   "id": "0fb488a4",
   "metadata": {},
   "outputs": [],
   "source": [
    "significant_vars = get_significant_vars(result)"
   ]
  },
  {
   "cell_type": "code",
   "execution_count": 48,
   "id": "682a0c43",
   "metadata": {},
   "outputs": [
    {
     "name": "stdout",
     "output_type": "stream",
     "text": [
      "Optimization terminated successfully.\n",
      "         Current function value: 0.279714\n",
      "         Iterations 11\n",
      "                           Results: Logit\n",
      "=====================================================================\n",
      "Model:               Logit             Pseudo R-squared:  0.248      \n",
      "Dependent Variable:  Response          AIC:               213221.3372\n",
      "Date:                2022-09-15 10:08  BIC:               213318.9947\n",
      "No. Observations:    381109            Log-Likelihood:    -1.0660e+05\n",
      "Df Model:            8                 LL-Null:           -1.4177e+05\n",
      "Df Residuals:        381100            LLR p-value:       0.0000     \n",
      "Converged:           1.0000            Scale:             1.0000     \n",
      "No. Iterations:      11.0000                                         \n",
      "---------------------------------------------------------------------\n",
      "                      Coef.  Std.Err.    z     P>|z|   [0.025  0.975]\n",
      "---------------------------------------------------------------------\n",
      "const                -4.1356   0.1693 -24.4299 0.0000 -4.4674 -3.8038\n",
      "Gender                0.1293   0.0110  11.7437 0.0000  0.1077  0.1508\n",
      "Age                  -0.0061   0.0004 -14.2602 0.0000 -0.0070 -0.0053\n",
      "Driving_License       1.4445   0.1631   8.8551 0.0000  1.1248  1.7642\n",
      "Previously_Insured   -4.0660   0.0826 -49.2307 0.0000 -4.2279 -3.9041\n",
      "Vehicle_Age          -0.1892   0.0091 -20.8469 0.0000 -0.2070 -0.1715\n",
      "Vehicle_Damage        2.1429   0.0341  62.8242 0.0000  2.0761  2.2098\n",
      "Annual_Premium        0.0000   0.0000   6.6441 0.0000  0.0000  0.0000\n",
      "Policy_Sales_Channel -0.0035   0.0001 -32.9468 0.0000 -0.0038 -0.0033\n",
      "=====================================================================\n",
      "\n"
     ]
    }
   ],
   "source": [
    "# Fit the logit model\n",
    "X_new = X[significant_vars] #constant is already added          \n",
    "\n",
    "logit_model = sm.Logit(Y,X_new)\n",
    "final_model = logit_model.fit()\n",
    "print(final_model.summary2())"
   ]
  },
  {
   "cell_type": "code",
   "execution_count": null,
   "id": "6338329f",
   "metadata": {},
   "outputs": [],
   "source": [
    "with the wald test the predictors that are not significant are removed same as in the model. "
   ]
  },
  {
   "cell_type": "markdown",
   "id": "5902e41b",
   "metadata": {},
   "source": [
    "I will run   the wald test again with the use of dummies encoding anf=d compare the output. "
   ]
  },
  {
   "cell_type": "code",
   "execution_count": 72,
   "id": "487d88f0",
   "metadata": {},
   "outputs": [
    {
     "data": {
      "text/html": [
       "<div>\n",
       "<style scoped>\n",
       "    .dataframe tbody tr th:only-of-type {\n",
       "        vertical-align: middle;\n",
       "    }\n",
       "\n",
       "    .dataframe tbody tr th {\n",
       "        vertical-align: top;\n",
       "    }\n",
       "\n",
       "    .dataframe thead th {\n",
       "        text-align: right;\n",
       "    }\n",
       "</style>\n",
       "<table border=\"1\" class=\"dataframe\">\n",
       "  <thead>\n",
       "    <tr style=\"text-align: right;\">\n",
       "      <th></th>\n",
       "      <th>Age</th>\n",
       "      <th>Driving_License</th>\n",
       "      <th>Region_Code</th>\n",
       "      <th>Previously_Insured</th>\n",
       "      <th>Annual_Premium</th>\n",
       "      <th>Policy_Sales_Channel</th>\n",
       "      <th>Vintage</th>\n",
       "      <th>Response</th>\n",
       "      <th>Gender_Male</th>\n",
       "      <th>Vehicle_Age_&lt; 1 Year</th>\n",
       "      <th>Vehicle_Age_&gt; 2 Years</th>\n",
       "      <th>Vehicle_Damage_Yes</th>\n",
       "    </tr>\n",
       "  </thead>\n",
       "  <tbody>\n",
       "    <tr>\n",
       "      <th>250593</th>\n",
       "      <td>47</td>\n",
       "      <td>1</td>\n",
       "      <td>50.0</td>\n",
       "      <td>1</td>\n",
       "      <td>42180.0</td>\n",
       "      <td>8.0</td>\n",
       "      <td>281</td>\n",
       "      <td>0</td>\n",
       "      <td>1</td>\n",
       "      <td>0</td>\n",
       "      <td>0</td>\n",
       "      <td>0</td>\n",
       "    </tr>\n",
       "    <tr>\n",
       "      <th>99798</th>\n",
       "      <td>45</td>\n",
       "      <td>1</td>\n",
       "      <td>28.0</td>\n",
       "      <td>0</td>\n",
       "      <td>35263.0</td>\n",
       "      <td>124.0</td>\n",
       "      <td>267</td>\n",
       "      <td>0</td>\n",
       "      <td>0</td>\n",
       "      <td>0</td>\n",
       "      <td>0</td>\n",
       "      <td>1</td>\n",
       "    </tr>\n",
       "    <tr>\n",
       "      <th>9916</th>\n",
       "      <td>37</td>\n",
       "      <td>1</td>\n",
       "      <td>28.0</td>\n",
       "      <td>0</td>\n",
       "      <td>76333.0</td>\n",
       "      <td>124.0</td>\n",
       "      <td>254</td>\n",
       "      <td>1</td>\n",
       "      <td>1</td>\n",
       "      <td>0</td>\n",
       "      <td>0</td>\n",
       "      <td>1</td>\n",
       "    </tr>\n",
       "    <tr>\n",
       "      <th>191748</th>\n",
       "      <td>22</td>\n",
       "      <td>1</td>\n",
       "      <td>8.0</td>\n",
       "      <td>0</td>\n",
       "      <td>42861.0</td>\n",
       "      <td>160.0</td>\n",
       "      <td>83</td>\n",
       "      <td>0</td>\n",
       "      <td>1</td>\n",
       "      <td>1</td>\n",
       "      <td>0</td>\n",
       "      <td>1</td>\n",
       "    </tr>\n",
       "    <tr>\n",
       "      <th>80763</th>\n",
       "      <td>38</td>\n",
       "      <td>1</td>\n",
       "      <td>28.0</td>\n",
       "      <td>1</td>\n",
       "      <td>36644.0</td>\n",
       "      <td>122.0</td>\n",
       "      <td>224</td>\n",
       "      <td>0</td>\n",
       "      <td>0</td>\n",
       "      <td>0</td>\n",
       "      <td>0</td>\n",
       "      <td>0</td>\n",
       "    </tr>\n",
       "  </tbody>\n",
       "</table>\n",
       "</div>"
      ],
      "text/plain": [
       "        Age  Driving_License  Region_Code  Previously_Insured  Annual_Premium  \\\n",
       "250593   47                1         50.0                   1         42180.0   \n",
       "99798    45                1         28.0                   0         35263.0   \n",
       "9916     37                1         28.0                   0         76333.0   \n",
       "191748   22                1          8.0                   0         42861.0   \n",
       "80763    38                1         28.0                   1         36644.0   \n",
       "\n",
       "        Policy_Sales_Channel  Vintage  Response  Gender_Male  \\\n",
       "250593                   8.0      281         0            1   \n",
       "99798                  124.0      267         0            0   \n",
       "9916                   124.0      254         1            1   \n",
       "191748                 160.0       83         0            1   \n",
       "80763                  122.0      224         0            0   \n",
       "\n",
       "        Vehicle_Age_< 1 Year  Vehicle_Age_> 2 Years  Vehicle_Damage_Yes  \n",
       "250593                     0                      0                   0  \n",
       "99798                      0                      0                   1  \n",
       "9916                       0                      0                   1  \n",
       "191748                     1                      0                   1  \n",
       "80763                      0                      0                   0  "
      ]
     },
     "execution_count": 72,
     "metadata": {},
     "output_type": "execute_result"
    }
   ],
   "source": [
    "#encoding with dummies\n",
    "Insurance_df_dummies = pd.get_dummies(data=Insurance_df, columns=cols,drop_first = True)\n",
    "Insurance_df_dummies.drop(columns='id', inplace=True)\n",
    "Insurance_df_dummies.sample(5)"
   ]
  },
  {
   "cell_type": "code",
   "execution_count": 73,
   "id": "db158623",
   "metadata": {},
   "outputs": [],
   "source": [
    "Y= Insurance_df_dummies['Response']\n",
    "X = Insurance_df_dummies.drop(columns='Response')\n",
    "X = sm.add_constant(X)"
   ]
  },
  {
   "cell_type": "code",
   "execution_count": 74,
   "id": "b33dbfe0",
   "metadata": {},
   "outputs": [
    {
     "data": {
      "text/plain": [
       "190157    0\n",
       "147308    0\n",
       "42811     0\n",
       "79325     0\n",
       "24607     0\n",
       "Name: Response, dtype: int64"
      ]
     },
     "execution_count": 74,
     "metadata": {},
     "output_type": "execute_result"
    }
   ],
   "source": [
    "Y.sample (5)"
   ]
  },
  {
   "cell_type": "code",
   "execution_count": 75,
   "id": "b48c40b7",
   "metadata": {},
   "outputs": [
    {
     "data": {
      "text/html": [
       "<div>\n",
       "<style scoped>\n",
       "    .dataframe tbody tr th:only-of-type {\n",
       "        vertical-align: middle;\n",
       "    }\n",
       "\n",
       "    .dataframe tbody tr th {\n",
       "        vertical-align: top;\n",
       "    }\n",
       "\n",
       "    .dataframe thead th {\n",
       "        text-align: right;\n",
       "    }\n",
       "</style>\n",
       "<table border=\"1\" class=\"dataframe\">\n",
       "  <thead>\n",
       "    <tr style=\"text-align: right;\">\n",
       "      <th></th>\n",
       "      <th>const</th>\n",
       "      <th>Age</th>\n",
       "      <th>Driving_License</th>\n",
       "      <th>Region_Code</th>\n",
       "      <th>Previously_Insured</th>\n",
       "      <th>Annual_Premium</th>\n",
       "      <th>Policy_Sales_Channel</th>\n",
       "      <th>Vintage</th>\n",
       "      <th>Gender_Male</th>\n",
       "      <th>Vehicle_Age_&lt; 1 Year</th>\n",
       "      <th>Vehicle_Age_&gt; 2 Years</th>\n",
       "      <th>Vehicle_Damage_Yes</th>\n",
       "    </tr>\n",
       "  </thead>\n",
       "  <tbody>\n",
       "    <tr>\n",
       "      <th>163031</th>\n",
       "      <td>1.0</td>\n",
       "      <td>43</td>\n",
       "      <td>1</td>\n",
       "      <td>8.0</td>\n",
       "      <td>0</td>\n",
       "      <td>35541.0</td>\n",
       "      <td>7.0</td>\n",
       "      <td>183</td>\n",
       "      <td>0</td>\n",
       "      <td>0</td>\n",
       "      <td>0</td>\n",
       "      <td>1</td>\n",
       "    </tr>\n",
       "    <tr>\n",
       "      <th>140600</th>\n",
       "      <td>1.0</td>\n",
       "      <td>29</td>\n",
       "      <td>1</td>\n",
       "      <td>17.0</td>\n",
       "      <td>0</td>\n",
       "      <td>54433.0</td>\n",
       "      <td>152.0</td>\n",
       "      <td>90</td>\n",
       "      <td>0</td>\n",
       "      <td>1</td>\n",
       "      <td>0</td>\n",
       "      <td>1</td>\n",
       "    </tr>\n",
       "    <tr>\n",
       "      <th>93323</th>\n",
       "      <td>1.0</td>\n",
       "      <td>40</td>\n",
       "      <td>1</td>\n",
       "      <td>33.0</td>\n",
       "      <td>1</td>\n",
       "      <td>30335.0</td>\n",
       "      <td>152.0</td>\n",
       "      <td>61</td>\n",
       "      <td>0</td>\n",
       "      <td>0</td>\n",
       "      <td>0</td>\n",
       "      <td>0</td>\n",
       "    </tr>\n",
       "    <tr>\n",
       "      <th>240231</th>\n",
       "      <td>1.0</td>\n",
       "      <td>44</td>\n",
       "      <td>1</td>\n",
       "      <td>28.0</td>\n",
       "      <td>0</td>\n",
       "      <td>29781.0</td>\n",
       "      <td>26.0</td>\n",
       "      <td>136</td>\n",
       "      <td>1</td>\n",
       "      <td>0</td>\n",
       "      <td>0</td>\n",
       "      <td>1</td>\n",
       "    </tr>\n",
       "    <tr>\n",
       "      <th>286</th>\n",
       "      <td>1.0</td>\n",
       "      <td>24</td>\n",
       "      <td>1</td>\n",
       "      <td>10.0</td>\n",
       "      <td>1</td>\n",
       "      <td>35443.0</td>\n",
       "      <td>152.0</td>\n",
       "      <td>45</td>\n",
       "      <td>1</td>\n",
       "      <td>1</td>\n",
       "      <td>0</td>\n",
       "      <td>0</td>\n",
       "    </tr>\n",
       "  </tbody>\n",
       "</table>\n",
       "</div>"
      ],
      "text/plain": [
       "        const  Age  Driving_License  Region_Code  Previously_Insured  \\\n",
       "163031    1.0   43                1          8.0                   0   \n",
       "140600    1.0   29                1         17.0                   0   \n",
       "93323     1.0   40                1         33.0                   1   \n",
       "240231    1.0   44                1         28.0                   0   \n",
       "286       1.0   24                1         10.0                   1   \n",
       "\n",
       "        Annual_Premium  Policy_Sales_Channel  Vintage  Gender_Male  \\\n",
       "163031         35541.0                   7.0      183            0   \n",
       "140600         54433.0                 152.0       90            0   \n",
       "93323          30335.0                 152.0       61            0   \n",
       "240231         29781.0                  26.0      136            1   \n",
       "286            35443.0                 152.0       45            1   \n",
       "\n",
       "        Vehicle_Age_< 1 Year  Vehicle_Age_> 2 Years  Vehicle_Damage_Yes  \n",
       "163031                     0                      0                   1  \n",
       "140600                     1                      0                   1  \n",
       "93323                      0                      0                   0  \n",
       "240231                     0                      0                   1  \n",
       "286                        1                      0                   0  "
      ]
     },
     "execution_count": 75,
     "metadata": {},
     "output_type": "execute_result"
    }
   ],
   "source": [
    "X.sample(5)"
   ]
  },
  {
   "cell_type": "code",
   "execution_count": 76,
   "id": "42753040",
   "metadata": {},
   "outputs": [
    {
     "name": "stdout",
     "output_type": "stream",
     "text": [
      "Optimization terminated successfully.\n",
      "         Current function value: 0.274858\n",
      "         Iterations 11\n"
     ]
    }
   ],
   "source": [
    "logit_model2 = sm.Logit(Y,X)\n",
    "result2 = logit_model2.fit()"
   ]
  },
  {
   "cell_type": "code",
   "execution_count": 77,
   "id": "b1788e03",
   "metadata": {},
   "outputs": [
    {
     "name": "stdout",
     "output_type": "stream",
     "text": [
      "                            Results: Logit\n",
      "======================================================================\n",
      "Model:                Logit             Pseudo R-squared:  0.261      \n",
      "Dependent Variable:   Response          AIC:               209525.9613\n",
      "Date:                 2022-09-15 10:24  BIC:               209656.1714\n",
      "No. Observations:     381109            Log-Likelihood:    -1.0475e+05\n",
      "Df Model:             11                LL-Null:           -1.4177e+05\n",
      "Df Residuals:         381097            LLR p-value:       0.0000     \n",
      "Converged:            1.0000            Scale:             1.0000     \n",
      "No. Iterations:       11.0000                                         \n",
      "----------------------------------------------------------------------\n",
      "                       Coef.  Std.Err.    z     P>|z|   [0.025  0.975]\n",
      "----------------------------------------------------------------------\n",
      "const                 -2.8979   0.1714 -16.9093 0.0000 -3.2338 -2.5620\n",
      "Age                   -0.0253   0.0005 -46.4495 0.0000 -0.0264 -0.0243\n",
      "Driving_License        1.2113   0.1634   7.4120 0.0000  0.8910  1.5316\n",
      "Region_Code           -0.0004   0.0004  -0.8437 0.3988 -0.0012  0.0005\n",
      "Previously_Insured    -3.9728   0.0827 -48.0570 0.0000 -4.1348 -3.8108\n",
      "Annual_Premium         0.0000   0.0000   8.6993 0.0000  0.0000  0.0000\n",
      "Policy_Sales_Channel  -0.0024   0.0001 -22.3016 0.0000 -0.0027 -0.0022\n",
      "Vintage               -0.0000   0.0001  -0.1109 0.9117 -0.0001  0.0001\n",
      "Gender_Male            0.0907   0.0111   8.1501 0.0000  0.0689  0.1125\n",
      "Vehicle_Age_< 1 Year  -1.1721   0.0188 -62.3400 0.0000 -1.2090 -1.1353\n",
      "Vehicle_Age_> 2 Years  0.2092   0.0191  10.9678 0.0000  0.1718  0.2466\n",
      "Vehicle_Damage_Yes     2.0281   0.0343  59.1863 0.0000  1.9609  2.0952\n",
      "======================================================================\n",
      "\n"
     ]
    }
   ],
   "source": [
    " print(result2.summary2())"
   ]
  },
  {
   "cell_type": "code",
   "execution_count": 78,
   "id": "02abfd15",
   "metadata": {},
   "outputs": [],
   "source": [
    "def get_significant_vars(model, alpha=0.05):\n",
    "    \n",
    "    #store the variable and p-values in a dataframe\n",
    "    p_vals = pd.DataFrame(model.pvalues)  \n",
    "    p_vals['vars'] = p_vals.index\n",
    "    p_vals.columns = ['pval', 'name']\n",
    "    \n",
    "    #return those that are significant at alpha value\n",
    "    return list(p_vals[p_vals.pval <= alpha]['name'])"
   ]
  },
  {
   "cell_type": "code",
   "execution_count": 79,
   "id": "2ba4a0c8",
   "metadata": {},
   "outputs": [],
   "source": [
    "significant_vars = get_significant_vars(result2)"
   ]
  },
  {
   "cell_type": "code",
   "execution_count": 81,
   "id": "c572f89d",
   "metadata": {},
   "outputs": [
    {
     "name": "stdout",
     "output_type": "stream",
     "text": [
      "Optimization terminated successfully.\n",
      "         Current function value: 0.274859\n",
      "         Iterations 11\n",
      "                           Logit Regression Results                           \n",
      "==============================================================================\n",
      "Dep. Variable:               Response   No. Observations:               381109\n",
      "Model:                          Logit   Df Residuals:                   381099\n",
      "Method:                           MLE   Df Model:                            9\n",
      "Date:                Thu, 15 Sep 2022   Pseudo R-squ.:                  0.2611\n",
      "Time:                        10:26:43   Log-Likelihood:            -1.0475e+05\n",
      "converged:                       True   LL-Null:                   -1.4177e+05\n",
      "Covariance Type:            nonrobust   LLR p-value:                     0.000\n",
      "=========================================================================================\n",
      "                            coef    std err          z      P>|z|      [0.025      0.975]\n",
      "-----------------------------------------------------------------------------------------\n",
      "const                    -2.9085      0.171    -17.038      0.000      -3.243      -2.574\n",
      "Age                      -0.0254      0.001    -46.458      0.000      -0.026      -0.024\n",
      "Driving_License           1.2109      0.163      7.410      0.000       0.891       1.531\n",
      "Previously_Insured       -3.9729      0.083    -48.057      0.000      -4.135      -3.811\n",
      "Annual_Premium         2.574e-06   2.96e-07      8.707      0.000    1.99e-06    3.15e-06\n",
      "Policy_Sales_Channel     -0.0024      0.000    -22.288      0.000      -0.003      -0.002\n",
      "Gender_Male               0.0908      0.011      8.161      0.000       0.069       0.113\n",
      "Vehicle_Age_< 1 Year     -1.1720      0.019    -62.337      0.000      -1.209      -1.135\n",
      "Vehicle_Age_> 2 Years     0.2091      0.019     10.962      0.000       0.172       0.247\n",
      "Vehicle_Damage_Yes        2.0279      0.034     59.182      0.000       1.961       2.095\n",
      "=========================================================================================\n"
     ]
    }
   ],
   "source": [
    "# Fit the logit model\n",
    "X_new = X[significant_vars] #constant is already added          \n",
    "\n",
    "logit_model = sm.Logit(Y,X_new)\n",
    "final_model = logit_model.fit()\n",
    "print(final_model.summary())"
   ]
  },
  {
   "cell_type": "code",
   "execution_count": null,
   "id": "67bd2580",
   "metadata": {},
   "outputs": [],
   "source": [
    "The result is still consistent vintage an Region_Code  are not good predictors of response. "
   ]
  }
 ],
 "metadata": {
  "kernelspec": {
   "display_name": "Python 3 (ipykernel)",
   "language": "python",
   "name": "python3"
  },
  "language_info": {
   "codemirror_mode": {
    "name": "ipython",
    "version": 3
   },
   "file_extension": ".py",
   "mimetype": "text/x-python",
   "name": "python",
   "nbconvert_exporter": "python",
   "pygments_lexer": "ipython3",
   "version": "3.9.12"
  }
 },
 "nbformat": 4,
 "nbformat_minor": 5
}
